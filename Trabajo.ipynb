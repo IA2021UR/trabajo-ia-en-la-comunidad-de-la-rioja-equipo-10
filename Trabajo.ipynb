{
  "nbformat": 4,
  "nbformat_minor": 0,
  "metadata": {
    "colab": {
      "name": "Trabajo.ipynb",
      "provenance": [],
      "authorship_tag": "ABX9TyPBexz1yHJpLC3hcQFD1E37",
      "include_colab_link": true
    },
    "kernelspec": {
      "name": "python3",
      "display_name": "Python 3"
    },
    "language_info": {
      "name": "python"
    }
  },
  "cells": [
    {
      "cell_type": "markdown",
      "metadata": {
        "id": "view-in-github",
        "colab_type": "text"
      },
      "source": [
        "<a href=\"https://colab.research.google.com/github/IA2021UR/trabajo-ia-en-la-comunidad-de-la-rioja-equipo-10/blob/main/Trabajo.ipynb\" target=\"_parent\"><img src=\"https://colab.research.google.com/assets/colab-badge.svg\" alt=\"Open In Colab\"/></a>"
      ]
    },
    {
      "cell_type": "markdown",
      "metadata": {
        "id": "0xZdpdV5Ab9W"
      },
      "source": [
        "Documentación.\n",
        "\n",
        "Apuntes del curso.\n",
        "\n",
        "Entregable 2 del curso. \n",
        "\n",
        "https://walkwithfastai.com/Custom \n",
        "\n",
        "Dataset imágenes.\n",
        "\n",
        "https://unirioja-my.sharepoint.com/:u:/g/personal/joheras_unirioja_es/EWyDMGupN_BBqw8KMLQfvXkBmaycNInw9c5SMjvRsjNhEA?e=6Qu9IL \n",
        "\n",
        "Metadatos.\n",
        "\n",
        "https://unirioja-my.sharepoint.com/:x:/g/personal/joheras_unirioja_es/ESCA5atNrCZPlohCYhJ_VbYB6D_NDQSWA1NOH8b_a-Mo3Q?e=MLWcZW \n",
        "\n",
        "Requisitos mínimos.\n",
        "\n",
        "Para superar este trabajo deberéis crear un modelo para clasificar imágenes en las categorías que hayáis definido, y una aplicación que lo utilice.\n",
        "\n",
        "Por último deberéis crear un vídeo corto (aproximadamente 2 minutos) donde expliquéis de manera no técnica lo que habéis hecho. \n",
        "\n",
        "Realizando de manera correcta las dos tareas anteriores, obtendréis entre un 6.5 y un 7.5 en la nota del trabajo.\n",
        "\n",
        "Ampliaciones. \n",
        "\n",
        "Entrenar modelos con la librería timm. Pueden ser integrados con lo visto en el entregable.  \n",
        "\n",
        "Crear un modelo para no solo datar sino también etiquetar las obras. \n",
        "\n",
        "Intentar sacar información interesada a partir del texto asociada con las imágenes. \n",
        "\n",
        "Cualquier otra ampliación que se os ocurra.\n",
        "\n",
        "Todas las ampliaciones deberán ser documentadas en los notebooks. "
      ]
    },
    {
      "cell_type": "code",
      "metadata": {
        "id": "Sw0Az9QFWPKt",
        "outputId": "d5136518-5792-4081-c6de-06b6ca383168",
        "colab": {
          "base_uri": "https://localhost:8080/"
        }
      },
      "source": [
        "!wget https://www.dropbox.com/scl/fi/ftw8l61n29z42s3na8p4j/MuseoDeLaRioja.xls?dl=1 -O museo"
      ],
      "execution_count": 2,
      "outputs": [
        {
          "output_type": "stream",
          "text": [
            "--2021-05-09 09:02:04--  https://www.dropbox.com/scl/fi/ftw8l61n29z42s3na8p4j/MuseoDeLaRioja.xls?dl=1\n",
            "Resolving www.dropbox.com (www.dropbox.com)... 162.125.5.18, 2620:100:601d:18::a27d:512\n",
            "Connecting to www.dropbox.com (www.dropbox.com)|162.125.5.18|:443... connected.\n",
            "HTTP request sent, awaiting response... 200 OK\n",
            "Length: unspecified [text/html]\n",
            "Saving to: ‘museo’\n",
            "\n",
            "museo                   [ <=>                ] 179.79K  --.-KB/s    in 0.1s    \n",
            "\n",
            "2021-05-09 09:02:04 (1.25 MB/s) - ‘museo’ saved [184106]\n",
            "\n"
          ],
          "name": "stdout"
        }
      ]
    }
  ]
}