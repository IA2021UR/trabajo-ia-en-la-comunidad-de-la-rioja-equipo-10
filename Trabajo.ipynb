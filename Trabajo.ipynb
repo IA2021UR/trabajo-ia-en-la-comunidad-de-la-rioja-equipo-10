{
  "nbformat": 4,
  "nbformat_minor": 0,
  "metadata": {
    "colab": {
      "name": "Trabajo.ipynb",
      "provenance": [],
      "authorship_tag": "ABX9TyP2neTuRRowRwnsk+rT2Pr5",
      "include_colab_link": true
    },
    "kernelspec": {
      "name": "python3",
      "display_name": "Python 3"
    },
    "language_info": {
      "name": "python"
    }
  },
  "cells": [
    {
      "cell_type": "markdown",
      "metadata": {
        "id": "view-in-github",
        "colab_type": "text"
      },
      "source": [
        "<a href=\"https://colab.research.google.com/github/IA2021UR/trabajo-ia-en-la-comunidad-de-la-rioja-equipo-10/blob/main/Trabajo.ipynb\" target=\"_parent\"><img src=\"https://colab.research.google.com/assets/colab-badge.svg\" alt=\"Open In Colab\"/></a>"
      ]
    },
    {
      "cell_type": "markdown",
      "metadata": {
        "id": "0xZdpdV5Ab9W"
      },
      "source": [
        "Documentación.\n",
        "\n",
        "Apuntes del curso.\n",
        "\n",
        "Entregable 2 del curso. \n",
        "\n",
        "https://walkwithfastai.com/Custom \n",
        "\n",
        "Dataset imágenes.\n",
        "\n",
        "https://unirioja-my.sharepoint.com/:u:/g/personal/joheras_unirioja_es/EWyDMGupN_BBqw8KMLQfvXkBmaycNInw9c5SMjvRsjNhEA?e=6Qu9IL \n",
        "\n",
        "Metadatos.\n",
        "\n",
        "https://unirioja-my.sharepoint.com/:x:/g/personal/joheras_unirioja_es/ESCA5atNrCZPlohCYhJ_VbYB6D_NDQSWA1NOH8b_a-Mo3Q?e=MLWcZW \n",
        "\n",
        "Requisitos mínimos.\n",
        "\n",
        "Para superar este trabajo deberéis crear un modelo para clasificar imágenes en las categorías que hayáis definido, y una aplicación que lo utilice.\n",
        "\n",
        "Por último deberéis crear un vídeo corto (aproximadamente 2 minutos) donde expliquéis de manera no técnica lo que habéis hecho. \n",
        "\n",
        "Realizando de manera correcta las dos tareas anteriores, obtendréis entre un 6.5 y un 7.5 en la nota del trabajo.\n",
        "\n",
        "Ampliaciones. \n",
        "\n",
        "Entrenar modelos con la librería timm. Pueden ser integrados con lo visto en el entregable.  \n",
        "\n",
        "Crear un modelo para no solo datar sino también etiquetar las obras. \n",
        "\n",
        "Intentar sacar información interesada a partir del texto asociada con las imágenes. \n",
        "\n",
        "Cualquier otra ampliación que se os ocurra.\n",
        "\n",
        "Todas las ampliaciones deberán ser documentadas en los notebooks. "
      ]
    }
  ]
}