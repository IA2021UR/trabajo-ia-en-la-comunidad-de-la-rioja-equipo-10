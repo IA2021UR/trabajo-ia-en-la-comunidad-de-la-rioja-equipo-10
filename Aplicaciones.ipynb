{
  "nbformat": 4,
  "nbformat_minor": 0,
  "metadata": {
    "colab": {
      "name": "Aplicaciones.ipynb",
      "provenance": [],
      "toc_visible": true,
      "authorship_tag": "ABX9TyMFM/Yt9OjC0T1GAo5EmB8v",
      "include_colab_link": true
    },
    "kernelspec": {
      "name": "python3",
      "display_name": "Python 3"
    },
    "language_info": {
      "name": "python"
    },
    "widgets": {
      "application/vnd.jupyter.widget-state+json": {
        "a95edf8cde19417f9398b48545a2e165": {
          "model_module": "@jupyter-widgets/controls",
          "model_name": "VBoxModel",
          "state": {
            "_view_name": "VBoxView",
            "_dom_classes": [],
            "_model_name": "VBoxModel",
            "_view_module": "@jupyter-widgets/controls",
            "_model_module_version": "1.5.0",
            "_view_count": null,
            "_view_module_version": "1.5.0",
            "box_style": "",
            "layout": "IPY_MODEL_7ac55c9788664368b9b902f644056c0a",
            "_model_module": "@jupyter-widgets/controls",
            "children": [
              "IPY_MODEL_4073dea0ca9d4329a18521b9aa2ed792",
              "IPY_MODEL_198c1cd8ccfc4d828f3d7c6bccddcfda",
              "IPY_MODEL_ba260ec7054040129ae890520680a090",
              "IPY_MODEL_7c4da2b65ff34a3280e1facd06fbc227"
            ]
          }
        },
        "7ac55c9788664368b9b902f644056c0a": {
          "model_module": "@jupyter-widgets/base",
          "model_name": "LayoutModel",
          "state": {
            "_view_name": "LayoutView",
            "grid_template_rows": null,
            "right": null,
            "justify_content": null,
            "_view_module": "@jupyter-widgets/base",
            "overflow": null,
            "_model_module_version": "1.2.0",
            "_view_count": null,
            "flex_flow": null,
            "width": null,
            "min_width": null,
            "border": null,
            "align_items": null,
            "bottom": null,
            "_model_module": "@jupyter-widgets/base",
            "top": null,
            "grid_column": null,
            "overflow_y": null,
            "overflow_x": null,
            "grid_auto_flow": null,
            "grid_area": null,
            "grid_template_columns": null,
            "flex": null,
            "_model_name": "LayoutModel",
            "justify_items": null,
            "grid_row": null,
            "max_height": null,
            "align_content": null,
            "visibility": null,
            "align_self": null,
            "height": null,
            "min_height": null,
            "padding": null,
            "grid_auto_rows": null,
            "grid_gap": null,
            "max_width": null,
            "order": null,
            "_view_module_version": "1.2.0",
            "grid_template_areas": null,
            "object_position": null,
            "object_fit": null,
            "grid_auto_columns": null,
            "margin": null,
            "display": null,
            "left": null
          }
        },
        "4073dea0ca9d4329a18521b9aa2ed792": {
          "model_module": "@jupyter-widgets/controls",
          "model_name": "LabelModel",
          "state": {
            "_view_name": "LabelView",
            "style": "IPY_MODEL_3d3c4fc445a247d2a104977e9bf41aee",
            "_dom_classes": [],
            "description": "",
            "_model_name": "LabelModel",
            "placeholder": "​",
            "_view_module": "@jupyter-widgets/controls",
            "_model_module_version": "1.5.0",
            "value": "Elige una imagen de una obra",
            "_view_count": null,
            "_view_module_version": "1.5.0",
            "description_tooltip": null,
            "_model_module": "@jupyter-widgets/controls",
            "layout": "IPY_MODEL_20f587596681434fb331260c12227c03"
          }
        },
        "198c1cd8ccfc4d828f3d7c6bccddcfda": {
          "model_module": "@jupyter-widgets/controls",
          "model_name": "FileUploadModel",
          "state": {
            "_view_name": "FileUploadView",
            "_counter": 1,
            "style": "IPY_MODEL_1b1836e9208547ce89b27b3b8678b49f",
            "_dom_classes": [],
            "description": "Upload",
            "multiple": false,
            "_model_name": "FileUploadModel",
            "data": [
              null
            ],
            "button_style": "",
            "_view_module": "@jupyter-widgets/controls",
            "_model_module_version": "1.5.0",
            "accept": "",
            "_view_count": null,
            "disabled": false,
            "_view_module_version": "1.5.0",
            "error": "",
            "description_tooltip": null,
            "metadata": [
              {
                "name": "piedra.jpg",
                "type": "image/jpeg",
                "size": 42891,
                "lastModified": 1622368897904
              }
            ],
            "_model_module": "@jupyter-widgets/controls",
            "layout": "IPY_MODEL_a48072ae250a46baa63428692bebb17e",
            "icon": "upload"
          }
        },
        "ba260ec7054040129ae890520680a090": {
          "model_module": "@jupyter-widgets/output",
          "model_name": "OutputModel",
          "state": {
            "_view_name": "OutputView",
            "msg_id": "",
            "_dom_classes": [],
            "_model_name": "OutputModel",
            "outputs": [
              {
                "output_type": "display_data",
                "metadata": {
                  "tags": []
                },
                "image/png": "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\n",
                "text/plain": "<PIL.Image.Image image mode=RGB size=244x147 at 0x7F5CB46DCBD0>"
              }
            ],
            "_view_module": "@jupyter-widgets/output",
            "_model_module_version": "1.0.0",
            "_view_count": null,
            "_view_module_version": "1.0.0",
            "layout": "IPY_MODEL_407a4e1c4e444246afacf0a64d4c6915",
            "_model_module": "@jupyter-widgets/output"
          }
        },
        "7c4da2b65ff34a3280e1facd06fbc227": {
          "model_module": "@jupyter-widgets/controls",
          "model_name": "LabelModel",
          "state": {
            "_view_name": "LabelView",
            "style": "IPY_MODEL_9d649bd41fd24652bc2f8dd33bc4f3aa",
            "_dom_classes": [],
            "description": "",
            "_model_name": "LabelModel",
            "placeholder": "​",
            "_view_module": "@jupyter-widgets/controls",
            "_model_module_version": "1.5.0",
            "value": "Edad de la obra:  Prehistoria ; Probabilidad:  0.3988",
            "_view_count": null,
            "_view_module_version": "1.5.0",
            "description_tooltip": null,
            "_model_module": "@jupyter-widgets/controls",
            "layout": "IPY_MODEL_57b6d26df9f7476e8fd6cb7a268a437a"
          }
        },
        "3d3c4fc445a247d2a104977e9bf41aee": {
          "model_module": "@jupyter-widgets/controls",
          "model_name": "DescriptionStyleModel",
          "state": {
            "_view_name": "StyleView",
            "_model_name": "DescriptionStyleModel",
            "description_width": "",
            "_view_module": "@jupyter-widgets/base",
            "_model_module_version": "1.5.0",
            "_view_count": null,
            "_view_module_version": "1.2.0",
            "_model_module": "@jupyter-widgets/controls"
          }
        },
        "20f587596681434fb331260c12227c03": {
          "model_module": "@jupyter-widgets/base",
          "model_name": "LayoutModel",
          "state": {
            "_view_name": "LayoutView",
            "grid_template_rows": null,
            "right": null,
            "justify_content": null,
            "_view_module": "@jupyter-widgets/base",
            "overflow": null,
            "_model_module_version": "1.2.0",
            "_view_count": null,
            "flex_flow": null,
            "width": null,
            "min_width": null,
            "border": null,
            "align_items": null,
            "bottom": null,
            "_model_module": "@jupyter-widgets/base",
            "top": null,
            "grid_column": null,
            "overflow_y": null,
            "overflow_x": null,
            "grid_auto_flow": null,
            "grid_area": null,
            "grid_template_columns": null,
            "flex": null,
            "_model_name": "LayoutModel",
            "justify_items": null,
            "grid_row": null,
            "max_height": null,
            "align_content": null,
            "visibility": null,
            "align_self": null,
            "height": null,
            "min_height": null,
            "padding": null,
            "grid_auto_rows": null,
            "grid_gap": null,
            "max_width": null,
            "order": null,
            "_view_module_version": "1.2.0",
            "grid_template_areas": null,
            "object_position": null,
            "object_fit": null,
            "grid_auto_columns": null,
            "margin": null,
            "display": null,
            "left": null
          }
        },
        "1b1836e9208547ce89b27b3b8678b49f": {
          "model_module": "@jupyter-widgets/controls",
          "model_name": "ButtonStyleModel",
          "state": {
            "_view_name": "StyleView",
            "_model_name": "ButtonStyleModel",
            "_view_module": "@jupyter-widgets/base",
            "_model_module_version": "1.5.0",
            "_view_count": null,
            "button_color": null,
            "font_weight": "",
            "_view_module_version": "1.2.0",
            "_model_module": "@jupyter-widgets/controls"
          }
        },
        "a48072ae250a46baa63428692bebb17e": {
          "model_module": "@jupyter-widgets/base",
          "model_name": "LayoutModel",
          "state": {
            "_view_name": "LayoutView",
            "grid_template_rows": null,
            "right": null,
            "justify_content": null,
            "_view_module": "@jupyter-widgets/base",
            "overflow": null,
            "_model_module_version": "1.2.0",
            "_view_count": null,
            "flex_flow": null,
            "width": null,
            "min_width": null,
            "border": null,
            "align_items": null,
            "bottom": null,
            "_model_module": "@jupyter-widgets/base",
            "top": null,
            "grid_column": null,
            "overflow_y": null,
            "overflow_x": null,
            "grid_auto_flow": null,
            "grid_area": null,
            "grid_template_columns": null,
            "flex": null,
            "_model_name": "LayoutModel",
            "justify_items": null,
            "grid_row": null,
            "max_height": null,
            "align_content": null,
            "visibility": null,
            "align_self": null,
            "height": null,
            "min_height": null,
            "padding": null,
            "grid_auto_rows": null,
            "grid_gap": null,
            "max_width": null,
            "order": null,
            "_view_module_version": "1.2.0",
            "grid_template_areas": null,
            "object_position": null,
            "object_fit": null,
            "grid_auto_columns": null,
            "margin": null,
            "display": null,
            "left": null
          }
        },
        "9d649bd41fd24652bc2f8dd33bc4f3aa": {
          "model_module": "@jupyter-widgets/controls",
          "model_name": "DescriptionStyleModel",
          "state": {
            "_view_name": "StyleView",
            "_model_name": "DescriptionStyleModel",
            "description_width": "",
            "_view_module": "@jupyter-widgets/base",
            "_model_module_version": "1.5.0",
            "_view_count": null,
            "_view_module_version": "1.2.0",
            "_model_module": "@jupyter-widgets/controls"
          }
        },
        "57b6d26df9f7476e8fd6cb7a268a437a": {
          "model_module": "@jupyter-widgets/base",
          "model_name": "LayoutModel",
          "state": {
            "_view_name": "LayoutView",
            "grid_template_rows": null,
            "right": null,
            "justify_content": null,
            "_view_module": "@jupyter-widgets/base",
            "overflow": null,
            "_model_module_version": "1.2.0",
            "_view_count": null,
            "flex_flow": null,
            "width": null,
            "min_width": null,
            "border": null,
            "align_items": null,
            "bottom": null,
            "_model_module": "@jupyter-widgets/base",
            "top": null,
            "grid_column": null,
            "overflow_y": null,
            "overflow_x": null,
            "grid_auto_flow": null,
            "grid_area": null,
            "grid_template_columns": null,
            "flex": null,
            "_model_name": "LayoutModel",
            "justify_items": null,
            "grid_row": null,
            "max_height": null,
            "align_content": null,
            "visibility": null,
            "align_self": null,
            "height": null,
            "min_height": null,
            "padding": null,
            "grid_auto_rows": null,
            "grid_gap": null,
            "max_width": null,
            "order": null,
            "_view_module_version": "1.2.0",
            "grid_template_areas": null,
            "object_position": null,
            "object_fit": null,
            "grid_auto_columns": null,
            "margin": null,
            "display": null,
            "left": null
          }
        },
        "407a4e1c4e444246afacf0a64d4c6915": {
          "model_module": "@jupyter-widgets/base",
          "model_name": "LayoutModel",
          "state": {
            "_view_name": "LayoutView",
            "grid_template_rows": null,
            "right": null,
            "justify_content": null,
            "_view_module": "@jupyter-widgets/base",
            "overflow": null,
            "_model_module_version": "1.2.0",
            "_view_count": null,
            "flex_flow": null,
            "width": null,
            "min_width": null,
            "border": null,
            "align_items": null,
            "bottom": null,
            "_model_module": "@jupyter-widgets/base",
            "top": null,
            "grid_column": null,
            "overflow_y": null,
            "overflow_x": null,
            "grid_auto_flow": null,
            "grid_area": null,
            "grid_template_columns": null,
            "flex": null,
            "_model_name": "LayoutModel",
            "justify_items": null,
            "grid_row": null,
            "max_height": null,
            "align_content": null,
            "visibility": null,
            "align_self": null,
            "height": null,
            "min_height": null,
            "padding": null,
            "grid_auto_rows": null,
            "grid_gap": null,
            "max_width": null,
            "order": null,
            "_view_module_version": "1.2.0",
            "grid_template_areas": null,
            "object_position": null,
            "object_fit": null,
            "grid_auto_columns": null,
            "margin": null,
            "display": null,
            "left": null
          }
        },
        "342e7e66e804447c89d2730460beacc4": {
          "model_module": "@jupyter-widgets/controls",
          "model_name": "VBoxModel",
          "state": {
            "_view_name": "VBoxView",
            "_dom_classes": [],
            "_model_name": "VBoxModel",
            "_view_module": "@jupyter-widgets/controls",
            "_model_module_version": "1.5.0",
            "_view_count": null,
            "_view_module_version": "1.5.0",
            "box_style": "",
            "layout": "IPY_MODEL_0ebc75b984aa49a282f0f2d63eeaf40b",
            "_model_module": "@jupyter-widgets/controls",
            "children": [
              "IPY_MODEL_332a8db9332d4d7aad126103dfa54b8a",
              "IPY_MODEL_6a32c62313824bc49ecb46b5561c4f45",
              "IPY_MODEL_b21c9c60ed2b487990d9296771d1edad",
              "IPY_MODEL_f97776cedc1d461bb03154999469d0d2"
            ]
          }
        },
        "0ebc75b984aa49a282f0f2d63eeaf40b": {
          "model_module": "@jupyter-widgets/base",
          "model_name": "LayoutModel",
          "state": {
            "_view_name": "LayoutView",
            "grid_template_rows": null,
            "right": null,
            "justify_content": null,
            "_view_module": "@jupyter-widgets/base",
            "overflow": null,
            "_model_module_version": "1.2.0",
            "_view_count": null,
            "flex_flow": null,
            "width": null,
            "min_width": null,
            "border": null,
            "align_items": null,
            "bottom": null,
            "_model_module": "@jupyter-widgets/base",
            "top": null,
            "grid_column": null,
            "overflow_y": null,
            "overflow_x": null,
            "grid_auto_flow": null,
            "grid_area": null,
            "grid_template_columns": null,
            "flex": null,
            "_model_name": "LayoutModel",
            "justify_items": null,
            "grid_row": null,
            "max_height": null,
            "align_content": null,
            "visibility": null,
            "align_self": null,
            "height": null,
            "min_height": null,
            "padding": null,
            "grid_auto_rows": null,
            "grid_gap": null,
            "max_width": null,
            "order": null,
            "_view_module_version": "1.2.0",
            "grid_template_areas": null,
            "object_position": null,
            "object_fit": null,
            "grid_auto_columns": null,
            "margin": null,
            "display": null,
            "left": null
          }
        },
        "332a8db9332d4d7aad126103dfa54b8a": {
          "model_module": "@jupyter-widgets/controls",
          "model_name": "LabelModel",
          "state": {
            "_view_name": "LabelView",
            "style": "IPY_MODEL_0ed8e906df3e422b889d3426c4cf5f11",
            "_dom_classes": [],
            "description": "",
            "_model_name": "LabelModel",
            "placeholder": "​",
            "_view_module": "@jupyter-widgets/controls",
            "_model_module_version": "1.5.0",
            "value": "Elige una imagen de una obra",
            "_view_count": null,
            "_view_module_version": "1.5.0",
            "description_tooltip": null,
            "_model_module": "@jupyter-widgets/controls",
            "layout": "IPY_MODEL_0990c225ce364c44ba129f9c983399b8"
          }
        },
        "6a32c62313824bc49ecb46b5561c4f45": {
          "model_module": "@jupyter-widgets/controls",
          "model_name": "FileUploadModel",
          "state": {
            "_view_name": "FileUploadView",
            "_counter": 1,
            "style": "IPY_MODEL_bef5812c2e4d4bf293e7a5eaad13d9d9",
            "_dom_classes": [],
            "description": "Upload",
            "multiple": false,
            "_model_name": "FileUploadModel",
            "data": [
              null
            ],
            "button_style": "",
            "_view_module": "@jupyter-widgets/controls",
            "_model_module_version": "1.5.0",
            "accept": "",
            "_view_count": null,
            "disabled": false,
            "_view_module_version": "1.5.0",
            "error": "",
            "description_tooltip": null,
            "metadata": [
              {
                "name": "piedra.jpg",
                "type": "image/jpeg",
                "size": 42891,
                "lastModified": 1622368897904
              }
            ],
            "_model_module": "@jupyter-widgets/controls",
            "layout": "IPY_MODEL_1808121ed8cb42fa870ec0cca66a4be1",
            "icon": "upload"
          }
        },
        "b21c9c60ed2b487990d9296771d1edad": {
          "model_module": "@jupyter-widgets/output",
          "model_name": "OutputModel",
          "state": {
            "_view_name": "OutputView",
            "msg_id": "",
            "_dom_classes": [],
            "_model_name": "OutputModel",
            "outputs": [
              {
                "output_type": "display_data",
                "metadata": {
                  "tags": []
                },
                "image/png": "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\n",
                "text/plain": "<PIL.Image.Image image mode=RGB size=244x147 at 0x7F5CB4714A50>"
              }
            ],
            "_view_module": "@jupyter-widgets/output",
            "_model_module_version": "1.0.0",
            "_view_count": null,
            "_view_module_version": "1.0.0",
            "layout": "IPY_MODEL_3276237c706241f78e6df11f82a1101f",
            "_model_module": "@jupyter-widgets/output"
          }
        },
        "f97776cedc1d461bb03154999469d0d2": {
          "model_module": "@jupyter-widgets/controls",
          "model_name": "LabelModel",
          "state": {
            "_view_name": "LabelView",
            "style": "IPY_MODEL_f5242738efe44862985b4cf8acf3c4ac",
            "_dom_classes": [],
            "description": "",
            "_model_name": "LabelModel",
            "placeholder": "​",
            "_view_module": "@jupyter-widgets/controls",
            "_model_module_version": "1.5.0",
            "value": "Tipo de obra:  Industria lítica. Cantería ; Probabilidad:  0.8000",
            "_view_count": null,
            "_view_module_version": "1.5.0",
            "description_tooltip": null,
            "_model_module": "@jupyter-widgets/controls",
            "layout": "IPY_MODEL_1110886f252f49a89758c8ed5c6343c6"
          }
        },
        "0ed8e906df3e422b889d3426c4cf5f11": {
          "model_module": "@jupyter-widgets/controls",
          "model_name": "DescriptionStyleModel",
          "state": {
            "_view_name": "StyleView",
            "_model_name": "DescriptionStyleModel",
            "description_width": "",
            "_view_module": "@jupyter-widgets/base",
            "_model_module_version": "1.5.0",
            "_view_count": null,
            "_view_module_version": "1.2.0",
            "_model_module": "@jupyter-widgets/controls"
          }
        },
        "0990c225ce364c44ba129f9c983399b8": {
          "model_module": "@jupyter-widgets/base",
          "model_name": "LayoutModel",
          "state": {
            "_view_name": "LayoutView",
            "grid_template_rows": null,
            "right": null,
            "justify_content": null,
            "_view_module": "@jupyter-widgets/base",
            "overflow": null,
            "_model_module_version": "1.2.0",
            "_view_count": null,
            "flex_flow": null,
            "width": null,
            "min_width": null,
            "border": null,
            "align_items": null,
            "bottom": null,
            "_model_module": "@jupyter-widgets/base",
            "top": null,
            "grid_column": null,
            "overflow_y": null,
            "overflow_x": null,
            "grid_auto_flow": null,
            "grid_area": null,
            "grid_template_columns": null,
            "flex": null,
            "_model_name": "LayoutModel",
            "justify_items": null,
            "grid_row": null,
            "max_height": null,
            "align_content": null,
            "visibility": null,
            "align_self": null,
            "height": null,
            "min_height": null,
            "padding": null,
            "grid_auto_rows": null,
            "grid_gap": null,
            "max_width": null,
            "order": null,
            "_view_module_version": "1.2.0",
            "grid_template_areas": null,
            "object_position": null,
            "object_fit": null,
            "grid_auto_columns": null,
            "margin": null,
            "display": null,
            "left": null
          }
        },
        "bef5812c2e4d4bf293e7a5eaad13d9d9": {
          "model_module": "@jupyter-widgets/controls",
          "model_name": "ButtonStyleModel",
          "state": {
            "_view_name": "StyleView",
            "_model_name": "ButtonStyleModel",
            "_view_module": "@jupyter-widgets/base",
            "_model_module_version": "1.5.0",
            "_view_count": null,
            "button_color": null,
            "font_weight": "",
            "_view_module_version": "1.2.0",
            "_model_module": "@jupyter-widgets/controls"
          }
        },
        "1808121ed8cb42fa870ec0cca66a4be1": {
          "model_module": "@jupyter-widgets/base",
          "model_name": "LayoutModel",
          "state": {
            "_view_name": "LayoutView",
            "grid_template_rows": null,
            "right": null,
            "justify_content": null,
            "_view_module": "@jupyter-widgets/base",
            "overflow": null,
            "_model_module_version": "1.2.0",
            "_view_count": null,
            "flex_flow": null,
            "width": null,
            "min_width": null,
            "border": null,
            "align_items": null,
            "bottom": null,
            "_model_module": "@jupyter-widgets/base",
            "top": null,
            "grid_column": null,
            "overflow_y": null,
            "overflow_x": null,
            "grid_auto_flow": null,
            "grid_area": null,
            "grid_template_columns": null,
            "flex": null,
            "_model_name": "LayoutModel",
            "justify_items": null,
            "grid_row": null,
            "max_height": null,
            "align_content": null,
            "visibility": null,
            "align_self": null,
            "height": null,
            "min_height": null,
            "padding": null,
            "grid_auto_rows": null,
            "grid_gap": null,
            "max_width": null,
            "order": null,
            "_view_module_version": "1.2.0",
            "grid_template_areas": null,
            "object_position": null,
            "object_fit": null,
            "grid_auto_columns": null,
            "margin": null,
            "display": null,
            "left": null
          }
        },
        "f5242738efe44862985b4cf8acf3c4ac": {
          "model_module": "@jupyter-widgets/controls",
          "model_name": "DescriptionStyleModel",
          "state": {
            "_view_name": "StyleView",
            "_model_name": "DescriptionStyleModel",
            "description_width": "",
            "_view_module": "@jupyter-widgets/base",
            "_model_module_version": "1.5.0",
            "_view_count": null,
            "_view_module_version": "1.2.0",
            "_model_module": "@jupyter-widgets/controls"
          }
        },
        "1110886f252f49a89758c8ed5c6343c6": {
          "model_module": "@jupyter-widgets/base",
          "model_name": "LayoutModel",
          "state": {
            "_view_name": "LayoutView",
            "grid_template_rows": null,
            "right": null,
            "justify_content": null,
            "_view_module": "@jupyter-widgets/base",
            "overflow": null,
            "_model_module_version": "1.2.0",
            "_view_count": null,
            "flex_flow": null,
            "width": null,
            "min_width": null,
            "border": null,
            "align_items": null,
            "bottom": null,
            "_model_module": "@jupyter-widgets/base",
            "top": null,
            "grid_column": null,
            "overflow_y": null,
            "overflow_x": null,
            "grid_auto_flow": null,
            "grid_area": null,
            "grid_template_columns": null,
            "flex": null,
            "_model_name": "LayoutModel",
            "justify_items": null,
            "grid_row": null,
            "max_height": null,
            "align_content": null,
            "visibility": null,
            "align_self": null,
            "height": null,
            "min_height": null,
            "padding": null,
            "grid_auto_rows": null,
            "grid_gap": null,
            "max_width": null,
            "order": null,
            "_view_module_version": "1.2.0",
            "grid_template_areas": null,
            "object_position": null,
            "object_fit": null,
            "grid_auto_columns": null,
            "margin": null,
            "display": null,
            "left": null
          }
        },
        "3276237c706241f78e6df11f82a1101f": {
          "model_module": "@jupyter-widgets/base",
          "model_name": "LayoutModel",
          "state": {
            "_view_name": "LayoutView",
            "grid_template_rows": null,
            "right": null,
            "justify_content": null,
            "_view_module": "@jupyter-widgets/base",
            "overflow": null,
            "_model_module_version": "1.2.0",
            "_view_count": null,
            "flex_flow": null,
            "width": null,
            "min_width": null,
            "border": null,
            "align_items": null,
            "bottom": null,
            "_model_module": "@jupyter-widgets/base",
            "top": null,
            "grid_column": null,
            "overflow_y": null,
            "overflow_x": null,
            "grid_auto_flow": null,
            "grid_area": null,
            "grid_template_columns": null,
            "flex": null,
            "_model_name": "LayoutModel",
            "justify_items": null,
            "grid_row": null,
            "max_height": null,
            "align_content": null,
            "visibility": null,
            "align_self": null,
            "height": null,
            "min_height": null,
            "padding": null,
            "grid_auto_rows": null,
            "grid_gap": null,
            "max_width": null,
            "order": null,
            "_view_module_version": "1.2.0",
            "grid_template_areas": null,
            "object_position": null,
            "object_fit": null,
            "grid_auto_columns": null,
            "margin": null,
            "display": null,
            "left": null
          }
        }
      }
    }
  },
  "cells": [
    {
      "cell_type": "markdown",
      "metadata": {
        "id": "view-in-github",
        "colab_type": "text"
      },
      "source": [
        "<a href=\"https://colab.research.google.com/github/IA2021UR/trabajo-ia-en-la-comunidad-de-la-rioja-equipo-10/blob/main/Aplicaciones.ipynb\" target=\"_parent\"><img src=\"https://colab.research.google.com/assets/colab-badge.svg\" alt=\"Open In Colab\"/></a>"
      ]
    },
    {
      "cell_type": "code",
      "metadata": {
        "colab": {
          "base_uri": "https://localhost:8080/"
        },
        "id": "AfBcZ0ulg4Dd",
        "outputId": "eab5ec3b-998f-4ac0-f771-7811bea76d8b"
      },
      "source": [
        "!wget https://www.dropbox.com/s/5zyp7kq5oyi3nc6/PKLS.zip?dl=1 -O zippkl\n",
        "!unzip zippkl"
      ],
      "execution_count": 1,
      "outputs": [
        {
          "output_type": "stream",
          "text": [
            "--2021-05-30 10:07:25--  https://www.dropbox.com/s/5zyp7kq5oyi3nc6/PKLS.zip?dl=1\n",
            "Resolving www.dropbox.com (www.dropbox.com)... 162.125.4.18, 2620:100:6020:18::a27d:4012\n",
            "Connecting to www.dropbox.com (www.dropbox.com)|162.125.4.18|:443... connected.\n",
            "HTTP request sent, awaiting response... 301 Moved Permanently\n",
            "Location: /s/dl/5zyp7kq5oyi3nc6/PKLS.zip [following]\n",
            "--2021-05-30 10:07:25--  https://www.dropbox.com/s/dl/5zyp7kq5oyi3nc6/PKLS.zip\n",
            "Reusing existing connection to www.dropbox.com:443.\n",
            "HTTP request sent, awaiting response... 302 Found\n",
            "Location: https://uc54cc42e21c8a8dae5af8b55e41.dl.dropboxusercontent.com/cd/0/get/BPeByvw2B7aLI0JnmGURlxb_n_z6MoBV1Ju-_mA-Vfh19y0jevY8PQ3gBdy3TkQQ9d_OVtxhtkxdyvJQFJKUKoKtnLgFOFbhFBQjl1gOKmit9iID7axS4HpDwCtkvuUaGbr0uHhoGd0CJEPrO2nQQHFP/file?dl=1# [following]\n",
            "--2021-05-30 10:07:26--  https://uc54cc42e21c8a8dae5af8b55e41.dl.dropboxusercontent.com/cd/0/get/BPeByvw2B7aLI0JnmGURlxb_n_z6MoBV1Ju-_mA-Vfh19y0jevY8PQ3gBdy3TkQQ9d_OVtxhtkxdyvJQFJKUKoKtnLgFOFbhFBQjl1gOKmit9iID7axS4HpDwCtkvuUaGbr0uHhoGd0CJEPrO2nQQHFP/file?dl=1\n",
            "Resolving uc54cc42e21c8a8dae5af8b55e41.dl.dropboxusercontent.com (uc54cc42e21c8a8dae5af8b55e41.dl.dropboxusercontent.com)... 162.125.2.15, 2620:100:6017:15::a27d:20f\n",
            "Connecting to uc54cc42e21c8a8dae5af8b55e41.dl.dropboxusercontent.com (uc54cc42e21c8a8dae5af8b55e41.dl.dropboxusercontent.com)|162.125.2.15|:443... connected.\n",
            "HTTP request sent, awaiting response... 200 OK\n",
            "Length: 367148077 (350M) [application/binary]\n",
            "Saving to: ‘zippkl’\n",
            "\n",
            "zippkl              100%[===================>] 350.14M  81.7MB/s    in 4.6s    \n",
            "\n",
            "2021-05-30 10:07:31 (76.1 MB/s) - ‘zippkl’ saved [367148077/367148077]\n",
            "\n",
            "Archive:  zippkl\n",
            "  inflating: PKLS/edades.pkl         \n",
            "  inflating: PKLS/edadesTimm.pkl     \n",
            "  inflating: PKLS/siglos.pkl         \n",
            "  inflating: PKLS/tipos.pkl          \n"
          ],
          "name": "stdout"
        }
      ]
    },
    {
      "cell_type": "markdown",
      "metadata": {
        "id": "HHGlGVOTg0WN"
      },
      "source": [
        "# Aplicación para edades de una obra por época"
      ]
    },
    {
      "cell_type": "code",
      "metadata": {
        "colab": {
          "base_uri": "https://localhost:8080/"
        },
        "id": "WWnmJi0ilRk-",
        "outputId": "cc3f21da-8747-42f1-e035-911db435b699"
      },
      "source": [
        "!pip install fastai --upgrade\n",
        "from fastai.vision.all import *\n",
        "import os\n",
        "from google.colab import files\n",
        "from sklearn.model_selection import train_test_split\n",
        "import shutil"
      ],
      "execution_count": 2,
      "outputs": [
        {
          "output_type": "stream",
          "text": [
            "Collecting fastai\n",
            "\u001b[?25l  Downloading https://files.pythonhosted.org/packages/e8/79/e8a87e4c20238e114671314426227db8647d2b42744eab79e0917c59865e/fastai-2.3.1-py3-none-any.whl (194kB)\n",
            "\r\u001b[K     |█▊                              | 10kB 16.6MB/s eta 0:00:01\r\u001b[K     |███▍                            | 20kB 16.7MB/s eta 0:00:01\r\u001b[K     |█████                           | 30kB 13.7MB/s eta 0:00:01\r\u001b[K     |██████▊                         | 40kB 12.7MB/s eta 0:00:01\r\u001b[K     |████████▍                       | 51kB 7.1MB/s eta 0:00:01\r\u001b[K     |██████████                      | 61kB 6.8MB/s eta 0:00:01\r\u001b[K     |███████████▉                    | 71kB 7.7MB/s eta 0:00:01\r\u001b[K     |█████████████▌                  | 81kB 8.5MB/s eta 0:00:01\r\u001b[K     |███████████████▏                | 92kB 8.1MB/s eta 0:00:01\r\u001b[K     |████████████████▉               | 102kB 6.9MB/s eta 0:00:01\r\u001b[K     |██████████████████▌             | 112kB 6.9MB/s eta 0:00:01\r\u001b[K     |████████████████████▏           | 122kB 6.9MB/s eta 0:00:01\r\u001b[K     |██████████████████████          | 133kB 6.9MB/s eta 0:00:01\r\u001b[K     |███████████████████████▋        | 143kB 6.9MB/s eta 0:00:01\r\u001b[K     |█████████████████████████▎      | 153kB 6.9MB/s eta 0:00:01\r\u001b[K     |███████████████████████████     | 163kB 6.9MB/s eta 0:00:01\r\u001b[K     |████████████████████████████▋   | 174kB 6.9MB/s eta 0:00:01\r\u001b[K     |██████████████████████████████▎ | 184kB 6.9MB/s eta 0:00:01\r\u001b[K     |████████████████████████████████| 194kB 6.9MB/s eta 0:00:01\r\u001b[K     |████████████████████████████████| 204kB 6.9MB/s \n",
            "\u001b[?25hRequirement already satisfied, skipping upgrade: scipy in /usr/local/lib/python3.7/dist-packages (from fastai) (1.4.1)\n",
            "Requirement already satisfied, skipping upgrade: spacy<4 in /usr/local/lib/python3.7/dist-packages (from fastai) (2.2.4)\n",
            "Requirement already satisfied, skipping upgrade: packaging in /usr/local/lib/python3.7/dist-packages (from fastai) (20.9)\n",
            "Requirement already satisfied, skipping upgrade: pyyaml in /usr/local/lib/python3.7/dist-packages (from fastai) (3.13)\n",
            "Collecting fastcore<1.4,>=1.3.8\n",
            "\u001b[?25l  Downloading https://files.pythonhosted.org/packages/d8/b0/f1fbf554e0bf3c76e1bdc3b82eedfe41fcf656479586be38c64421082b1b/fastcore-1.3.20-py3-none-any.whl (53kB)\n",
            "\u001b[K     |████████████████████████████████| 61kB 6.9MB/s \n",
            "\u001b[?25hRequirement already satisfied, skipping upgrade: torchvision>=0.8.2 in /usr/local/lib/python3.7/dist-packages (from fastai) (0.9.1+cu101)\n",
            "Requirement already satisfied, skipping upgrade: fastprogress>=0.2.4 in /usr/local/lib/python3.7/dist-packages (from fastai) (1.0.0)\n",
            "Requirement already satisfied, skipping upgrade: matplotlib in /usr/local/lib/python3.7/dist-packages (from fastai) (3.2.2)\n",
            "Requirement already satisfied, skipping upgrade: pip in /usr/local/lib/python3.7/dist-packages (from fastai) (19.3.1)\n",
            "Requirement already satisfied, skipping upgrade: pillow>6.0.0 in /usr/local/lib/python3.7/dist-packages (from fastai) (7.1.2)\n",
            "Requirement already satisfied, skipping upgrade: pandas in /usr/local/lib/python3.7/dist-packages (from fastai) (1.1.5)\n",
            "Requirement already satisfied, skipping upgrade: scikit-learn in /usr/local/lib/python3.7/dist-packages (from fastai) (0.22.2.post1)\n",
            "Requirement already satisfied, skipping upgrade: torch<1.9,>=1.7.0 in /usr/local/lib/python3.7/dist-packages (from fastai) (1.8.1+cu101)\n",
            "Requirement already satisfied, skipping upgrade: requests in /usr/local/lib/python3.7/dist-packages (from fastai) (2.23.0)\n",
            "Requirement already satisfied, skipping upgrade: numpy>=1.13.3 in /usr/local/lib/python3.7/dist-packages (from scipy->fastai) (1.19.5)\n",
            "Requirement already satisfied, skipping upgrade: murmurhash<1.1.0,>=0.28.0 in /usr/local/lib/python3.7/dist-packages (from spacy<4->fastai) (1.0.5)\n",
            "Requirement already satisfied, skipping upgrade: catalogue<1.1.0,>=0.0.7 in /usr/local/lib/python3.7/dist-packages (from spacy<4->fastai) (1.0.0)\n",
            "Requirement already satisfied, skipping upgrade: srsly<1.1.0,>=1.0.2 in /usr/local/lib/python3.7/dist-packages (from spacy<4->fastai) (1.0.5)\n",
            "Requirement already satisfied, skipping upgrade: plac<1.2.0,>=0.9.6 in /usr/local/lib/python3.7/dist-packages (from spacy<4->fastai) (1.1.3)\n",
            "Requirement already satisfied, skipping upgrade: cymem<2.1.0,>=2.0.2 in /usr/local/lib/python3.7/dist-packages (from spacy<4->fastai) (2.0.5)\n",
            "Requirement already satisfied, skipping upgrade: thinc==7.4.0 in /usr/local/lib/python3.7/dist-packages (from spacy<4->fastai) (7.4.0)\n",
            "Requirement already satisfied, skipping upgrade: blis<0.5.0,>=0.4.0 in /usr/local/lib/python3.7/dist-packages (from spacy<4->fastai) (0.4.1)\n",
            "Requirement already satisfied, skipping upgrade: preshed<3.1.0,>=3.0.2 in /usr/local/lib/python3.7/dist-packages (from spacy<4->fastai) (3.0.5)\n",
            "Requirement already satisfied, skipping upgrade: tqdm<5.0.0,>=4.38.0 in /usr/local/lib/python3.7/dist-packages (from spacy<4->fastai) (4.41.1)\n",
            "Requirement already satisfied, skipping upgrade: wasabi<1.1.0,>=0.4.0 in /usr/local/lib/python3.7/dist-packages (from spacy<4->fastai) (0.8.2)\n",
            "Requirement already satisfied, skipping upgrade: setuptools in /usr/local/lib/python3.7/dist-packages (from spacy<4->fastai) (56.1.0)\n",
            "Requirement already satisfied, skipping upgrade: pyparsing>=2.0.2 in /usr/local/lib/python3.7/dist-packages (from packaging->fastai) (2.4.7)\n",
            "Requirement already satisfied, skipping upgrade: cycler>=0.10 in /usr/local/lib/python3.7/dist-packages (from matplotlib->fastai) (0.10.0)\n",
            "Requirement already satisfied, skipping upgrade: python-dateutil>=2.1 in /usr/local/lib/python3.7/dist-packages (from matplotlib->fastai) (2.8.1)\n",
            "Requirement already satisfied, skipping upgrade: kiwisolver>=1.0.1 in /usr/local/lib/python3.7/dist-packages (from matplotlib->fastai) (1.3.1)\n",
            "Requirement already satisfied, skipping upgrade: pytz>=2017.2 in /usr/local/lib/python3.7/dist-packages (from pandas->fastai) (2018.9)\n",
            "Requirement already satisfied, skipping upgrade: joblib>=0.11 in /usr/local/lib/python3.7/dist-packages (from scikit-learn->fastai) (1.0.1)\n",
            "Requirement already satisfied, skipping upgrade: typing-extensions in /usr/local/lib/python3.7/dist-packages (from torch<1.9,>=1.7.0->fastai) (3.7.4.3)\n",
            "Requirement already satisfied, skipping upgrade: urllib3!=1.25.0,!=1.25.1,<1.26,>=1.21.1 in /usr/local/lib/python3.7/dist-packages (from requests->fastai) (1.24.3)\n",
            "Requirement already satisfied, skipping upgrade: certifi>=2017.4.17 in /usr/local/lib/python3.7/dist-packages (from requests->fastai) (2020.12.5)\n",
            "Requirement already satisfied, skipping upgrade: chardet<4,>=3.0.2 in /usr/local/lib/python3.7/dist-packages (from requests->fastai) (3.0.4)\n",
            "Requirement already satisfied, skipping upgrade: idna<3,>=2.5 in /usr/local/lib/python3.7/dist-packages (from requests->fastai) (2.10)\n",
            "Requirement already satisfied, skipping upgrade: importlib-metadata>=0.20; python_version < \"3.8\" in /usr/local/lib/python3.7/dist-packages (from catalogue<1.1.0,>=0.0.7->spacy<4->fastai) (4.0.1)\n",
            "Requirement already satisfied, skipping upgrade: six in /usr/local/lib/python3.7/dist-packages (from cycler>=0.10->matplotlib->fastai) (1.15.0)\n",
            "Requirement already satisfied, skipping upgrade: zipp>=0.5 in /usr/local/lib/python3.7/dist-packages (from importlib-metadata>=0.20; python_version < \"3.8\"->catalogue<1.1.0,>=0.0.7->spacy<4->fastai) (3.4.1)\n",
            "Installing collected packages: fastcore, fastai\n",
            "  Found existing installation: fastai 1.0.61\n",
            "    Uninstalling fastai-1.0.61:\n",
            "      Successfully uninstalled fastai-1.0.61\n",
            "Successfully installed fastai-2.3.1 fastcore-1.3.20\n"
          ],
          "name": "stdout"
        }
      ]
    },
    {
      "cell_type": "code",
      "metadata": {
        "colab": {
          "base_uri": "https://localhost:8080/"
        },
        "id": "oNlvbIYflmCy",
        "outputId": "5caba5e0-06e6-4f5d-b4ed-e64c5f5b0897"
      },
      "source": [
        "!pip install timm\n",
        "import timm "
      ],
      "execution_count": 3,
      "outputs": [
        {
          "output_type": "stream",
          "text": [
            "Collecting timm\n",
            "\u001b[?25l  Downloading https://files.pythonhosted.org/packages/ee/08/1ccaf8d516935666b7fa5f6aaddf157c66208ea0c93bb847ae09f166354f/timm-0.4.9-py3-none-any.whl (346kB)\n",
            "\r\u001b[K     |█                               | 10kB 20.0MB/s eta 0:00:01\r\u001b[K     |██                              | 20kB 16.3MB/s eta 0:00:01\r\u001b[K     |██▉                             | 30kB 13.8MB/s eta 0:00:01\r\u001b[K     |███▉                            | 40kB 12.9MB/s eta 0:00:01\r\u001b[K     |████▊                           | 51kB 7.7MB/s eta 0:00:01\r\u001b[K     |█████▊                          | 61kB 8.0MB/s eta 0:00:01\r\u001b[K     |██████▋                         | 71kB 8.4MB/s eta 0:00:01\r\u001b[K     |███████▋                        | 81kB 8.6MB/s eta 0:00:01\r\u001b[K     |████████▌                       | 92kB 8.9MB/s eta 0:00:01\r\u001b[K     |█████████▌                      | 102kB 7.4MB/s eta 0:00:01\r\u001b[K     |██████████▍                     | 112kB 7.4MB/s eta 0:00:01\r\u001b[K     |███████████▍                    | 122kB 7.4MB/s eta 0:00:01\r\u001b[K     |████████████▎                   | 133kB 7.4MB/s eta 0:00:01\r\u001b[K     |█████████████▎                  | 143kB 7.4MB/s eta 0:00:01\r\u001b[K     |██████████████▏                 | 153kB 7.4MB/s eta 0:00:01\r\u001b[K     |███████████████▏                | 163kB 7.4MB/s eta 0:00:01\r\u001b[K     |████████████████                | 174kB 7.4MB/s eta 0:00:01\r\u001b[K     |█████████████████               | 184kB 7.4MB/s eta 0:00:01\r\u001b[K     |██████████████████              | 194kB 7.4MB/s eta 0:00:01\r\u001b[K     |███████████████████             | 204kB 7.4MB/s eta 0:00:01\r\u001b[K     |███████████████████▉            | 215kB 7.4MB/s eta 0:00:01\r\u001b[K     |████████████████████▉           | 225kB 7.4MB/s eta 0:00:01\r\u001b[K     |█████████████████████▊          | 235kB 7.4MB/s eta 0:00:01\r\u001b[K     |██████████████████████▊         | 245kB 7.4MB/s eta 0:00:01\r\u001b[K     |███████████████████████▊        | 256kB 7.4MB/s eta 0:00:01\r\u001b[K     |████████████████████████▋       | 266kB 7.4MB/s eta 0:00:01\r\u001b[K     |█████████████████████████▋      | 276kB 7.4MB/s eta 0:00:01\r\u001b[K     |██████████████████████████▌     | 286kB 7.4MB/s eta 0:00:01\r\u001b[K     |███████████████████████████▌    | 296kB 7.4MB/s eta 0:00:01\r\u001b[K     |████████████████████████████▍   | 307kB 7.4MB/s eta 0:00:01\r\u001b[K     |█████████████████████████████▍  | 317kB 7.4MB/s eta 0:00:01\r\u001b[K     |██████████████████████████████▎ | 327kB 7.4MB/s eta 0:00:01\r\u001b[K     |███████████████████████████████▎| 337kB 7.4MB/s eta 0:00:01\r\u001b[K     |████████████████████████████████| 348kB 7.4MB/s \n",
            "\u001b[?25hRequirement already satisfied: torchvision in /usr/local/lib/python3.7/dist-packages (from timm) (0.9.1+cu101)\n",
            "Requirement already satisfied: torch>=1.4 in /usr/local/lib/python3.7/dist-packages (from timm) (1.8.1+cu101)\n",
            "Requirement already satisfied: numpy in /usr/local/lib/python3.7/dist-packages (from torchvision->timm) (1.19.5)\n",
            "Requirement already satisfied: pillow>=4.1.1 in /usr/local/lib/python3.7/dist-packages (from torchvision->timm) (7.1.2)\n",
            "Requirement already satisfied: typing-extensions in /usr/local/lib/python3.7/dist-packages (from torch>=1.4->timm) (3.7.4.3)\n",
            "Installing collected packages: timm\n",
            "Successfully installed timm-0.4.9\n"
          ],
          "name": "stdout"
        }
      ]
    },
    {
      "cell_type": "code",
      "metadata": {
        "colab": {
          "base_uri": "https://localhost:8080/"
        },
        "id": "srUTB6UlnWn9",
        "outputId": "c50fec28-f58a-40ab-9925-637d28fa6c3b"
      },
      "source": [
        "!pip install viola\n",
        "from fastai.vision.all import *\n",
        "from fastai.vision.widgets import *"
      ],
      "execution_count": 6,
      "outputs": [
        {
          "output_type": "stream",
          "text": [
            "Collecting viola\n",
            "  Downloading https://files.pythonhosted.org/packages/76/13/62a5785eddb80789c7057f82f2a5af569b230e37f81dbb7a794aa887a74a/viola-0.3.8-py3-none-any.whl\n",
            "Installing collected packages: viola\n",
            "Successfully installed viola-0.3.8\n"
          ],
          "name": "stdout"
        }
      ]
    },
    {
      "cell_type": "code",
      "metadata": {
        "id": "8-liMBv9gRww"
      },
      "source": [
        "learn_inf = load_learner('PKLS/edadesTimm.pkl')"
      ],
      "execution_count": 7,
      "outputs": []
    },
    {
      "cell_type": "code",
      "metadata": {
        "id": "1WjRXlpcgqRP"
      },
      "source": [
        "btn_upload=widgets.FileUpload()\n",
        "out_pl=widgets.Output()\n",
        "lbl_pred=widgets.Label()"
      ],
      "execution_count": 8,
      "outputs": []
    },
    {
      "cell_type": "code",
      "metadata": {
        "id": "a5K2_n6Wgroe"
      },
      "source": [
        "#Interfaz\n",
        "def on_data_change(change):\n",
        "  lbl_pred.value= ' '\n",
        "\n",
        "  img=PILImage.create(btn_upload.data[-1])\n",
        "  out_pl.clear_output()\n",
        "  with out_pl:\n",
        "    display(img.to_thumb(224,244))\n",
        "  pred, pred_idx, probs=learn_inf.predict(img)\n",
        "  resultado=\"\"\n",
        "  if pred=='1':\n",
        "    resultado='Prehistoria'\n",
        "  elif pred=='2':\n",
        "    resultado='Edad Antigua'\n",
        "  elif pred=='3':\n",
        "    resultado='Edad Media'\n",
        "  elif pred=='4':\n",
        "    resultado='Edad Moderna'\n",
        "  elif pred=='5':\n",
        "    resultado='Edad Contemporánea'\n",
        "  lbl_pred.value= f'Edad de la obra:  {resultado} ; Probabilidad: {probs[pred_idx]: .04f}'"
      ],
      "execution_count": 9,
      "outputs": []
    },
    {
      "cell_type": "code",
      "metadata": {
        "colab": {
          "base_uri": "https://localhost:8080/",
          "height": 260,
          "referenced_widgets": [
            "a95edf8cde19417f9398b48545a2e165",
            "7ac55c9788664368b9b902f644056c0a",
            "4073dea0ca9d4329a18521b9aa2ed792",
            "198c1cd8ccfc4d828f3d7c6bccddcfda",
            "ba260ec7054040129ae890520680a090",
            "7c4da2b65ff34a3280e1facd06fbc227",
            "3d3c4fc445a247d2a104977e9bf41aee",
            "20f587596681434fb331260c12227c03",
            "1b1836e9208547ce89b27b3b8678b49f",
            "a48072ae250a46baa63428692bebb17e",
            "9d649bd41fd24652bc2f8dd33bc4f3aa",
            "57b6d26df9f7476e8fd6cb7a268a437a",
            "407a4e1c4e444246afacf0a64d4c6915"
          ]
        },
        "id": "SCWTl5wxgtCG",
        "outputId": "d4aa80a6-754e-4492-9ab6-0fd00adccd41"
      },
      "source": [
        "btn_upload.observe(on_data_change, names=['data'])\n",
        "display(VBox([widgets.Label('Elige una imagen de una obra'), btn_upload, out_pl, lbl_pred]))"
      ],
      "execution_count": 10,
      "outputs": [
        {
          "output_type": "display_data",
          "data": {
            "application/vnd.jupyter.widget-view+json": {
              "model_id": "a95edf8cde19417f9398b48545a2e165",
              "version_minor": 0,
              "version_major": 2
            },
            "text/plain": [
              "VBox(children=(Label(value='Elige una imagen de una obra'), FileUpload(value={}, description='Upload'), Output…"
            ]
          },
          "metadata": {
            "tags": []
          }
        },
        {
          "output_type": "display_data",
          "data": {
            "text/html": [
              ""
            ],
            "text/plain": [
              "<IPython.core.display.HTML object>"
            ]
          },
          "metadata": {
            "tags": []
          }
        }
      ]
    },
    {
      "cell_type": "markdown",
      "metadata": {
        "id": "8O_p713ahi_M"
      },
      "source": [
        "# Aplicación para edades de una obra por tipos"
      ]
    },
    {
      "cell_type": "code",
      "metadata": {
        "id": "PXQRNUODhk1b"
      },
      "source": [
        "learn_inf2 = load_learner('PKLS/tipos.pkl')"
      ],
      "execution_count": 11,
      "outputs": []
    },
    {
      "cell_type": "code",
      "metadata": {
        "id": "9Qdt2d5AhnWb"
      },
      "source": [
        "btn_upload2=widgets.FileUpload()\n",
        "out_pl2=widgets.Output()\n",
        "lbl_pred2=widgets.Label()"
      ],
      "execution_count": 12,
      "outputs": []
    },
    {
      "cell_type": "code",
      "metadata": {
        "id": "19-0zhr7homD"
      },
      "source": [
        "#Interfaz\n",
        "def on_data_change2(change):\n",
        "  lbl_pred2.value= ' '\n",
        "\n",
        "  img2=PILImage.create(btn_upload2.data[-1])\n",
        "  out_pl2.clear_output()\n",
        "  with out_pl2:\n",
        "    display(img2.to_thumb(224,244))\n",
        "  pred2, pred_idx2, probs2=learn_inf2.predict(img2)\n",
        "  resultado2=\"\"\n",
        "  if pred2=='1':\n",
        "    resultado2='Restos arquitectónicos. Silleria'\n",
        "  elif pred2=='2':\n",
        "    resultado2='Escultura'\n",
        "  elif pred2=='3':\n",
        "    resultado2='Pintura'\n",
        "  elif pred2=='4':\n",
        "    resultado2='Dibujo'\n",
        "  elif pred2=='5':\n",
        "    resultado2='Grabado. Artes Gráficas'\n",
        "  elif pred2=='6':\n",
        "    resultado2='Cerámica'\n",
        "  elif pred2=='7':\n",
        "    resultado2='Vidrio y cristal'\n",
        "  elif pred2=='9':\n",
        "    resultado2='Orfebreria y joyeria'\n",
        "  elif pred2=='10':\n",
        "    resultado2='Hierros y metales'\n",
        "  elif pred2=='11':\n",
        "    resultado2='Armas'\n",
        "  elif pred2=='12':\n",
        "    resultado2='Carpinteria'\n",
        "  elif pred2=='13':\n",
        "    resultado2='Tejidos'\n",
        "  elif pred2=='16':\n",
        "    resultado2='Bordadaos y encajes'\n",
        "  elif pred2=='17':\n",
        "    resultado2='Cueros'\n",
        "  elif pred2=='18':\n",
        "    resultado2='Cesteria y fibras vegetales'\n",
        "  elif pred2=='19':\n",
        "    resultado2='Mosaicos'\n",
        "  elif pred2=='20':\n",
        "    resultado2='Glípitica'\n",
        "  elif pred2=='21':\n",
        "    resultado2='Industria lítica. Cantería'\n",
        "  elif pred2=='22':\n",
        "    resultado2='Industria ósea. Eboraria'\n",
        "  elif pred2=='23':\n",
        "    resultado2='Epigrafía'\n",
        "  elif pred2=='24':\n",
        "    resultado2='Numismática'\n",
        "  elif pred2=='25':\n",
        "    resultado2='Instrumentos. Aparatos. Máquinas'\n",
        "  elif pred2=='26':\n",
        "    resultado2='Restos órganicos'\n",
        "  elif pred2=='27':\n",
        "    resultado2='Malacología'\n",
        "  elif pred2=='27':\n",
        "    resultado2='Materiales sintéticos'\n",
        "\n",
        "  lbl_pred2.value= f'Tipo de obra:  {resultado2} ; Probabilidad: {probs2[pred_idx2]: .04f}'"
      ],
      "execution_count": 13,
      "outputs": []
    },
    {
      "cell_type": "code",
      "metadata": {
        "colab": {
          "base_uri": "https://localhost:8080/",
          "height": 260,
          "referenced_widgets": [
            "342e7e66e804447c89d2730460beacc4",
            "0ebc75b984aa49a282f0f2d63eeaf40b",
            "332a8db9332d4d7aad126103dfa54b8a",
            "6a32c62313824bc49ecb46b5561c4f45",
            "b21c9c60ed2b487990d9296771d1edad",
            "f97776cedc1d461bb03154999469d0d2",
            "0ed8e906df3e422b889d3426c4cf5f11",
            "0990c225ce364c44ba129f9c983399b8",
            "bef5812c2e4d4bf293e7a5eaad13d9d9",
            "1808121ed8cb42fa870ec0cca66a4be1",
            "f5242738efe44862985b4cf8acf3c4ac",
            "1110886f252f49a89758c8ed5c6343c6",
            "3276237c706241f78e6df11f82a1101f"
          ]
        },
        "id": "IkY28GFnhpmy",
        "outputId": "f3a8fa60-065f-4330-aada-abad6c0383c5"
      },
      "source": [
        "btn_upload2.observe(on_data_change2, names=['data'])\n",
        "display(VBox([widgets.Label('Elige una imagen de una obra'), btn_upload2, out_pl2, lbl_pred2]))"
      ],
      "execution_count": 14,
      "outputs": [
        {
          "output_type": "display_data",
          "data": {
            "application/vnd.jupyter.widget-view+json": {
              "model_id": "342e7e66e804447c89d2730460beacc4",
              "version_minor": 0,
              "version_major": 2
            },
            "text/plain": [
              "VBox(children=(Label(value='Elige una imagen de una obra'), FileUpload(value={}, description='Upload'), Output…"
            ]
          },
          "metadata": {
            "tags": []
          }
        },
        {
          "output_type": "display_data",
          "data": {
            "text/html": [
              ""
            ],
            "text/plain": [
              "<IPython.core.display.HTML object>"
            ]
          },
          "metadata": {
            "tags": []
          }
        }
      ]
    }
  ]
}