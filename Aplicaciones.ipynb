{
  "nbformat": 4,
  "nbformat_minor": 0,
  "metadata": {
    "colab": {
      "name": "Aplicaciones.ipynb",
      "provenance": [],
      "toc_visible": true,
      "authorship_tag": "ABX9TyPLFZ2gyfToD0C88OBCUrNr",
      "include_colab_link": true
    },
    "kernelspec": {
      "name": "python3",
      "display_name": "Python 3"
    },
    "language_info": {
      "name": "python"
    },
    "widgets": {
      "application/vnd.jupyter.widget-state+json": {
        "be14bdf569874f3590d9f9305a249d0b": {
          "model_module": "@jupyter-widgets/controls",
          "model_name": "VBoxModel",
          "state": {
            "_view_name": "VBoxView",
            "_dom_classes": [],
            "_model_name": "VBoxModel",
            "_view_module": "@jupyter-widgets/controls",
            "_model_module_version": "1.5.0",
            "_view_count": null,
            "_view_module_version": "1.5.0",
            "box_style": "",
            "layout": "IPY_MODEL_064f02e2e57e4c48a65e55e7addcdf36",
            "_model_module": "@jupyter-widgets/controls",
            "children": [
              "IPY_MODEL_5b8afb331a6d41c29dfd37b9c9c8bf1b",
              "IPY_MODEL_ed9ef7ceea49481eb19f38cbf9a9579e",
              "IPY_MODEL_a32d50c8d54a48eaacd000c3c960c397",
              "IPY_MODEL_4eb1c1bd2727415b93442a1da8af10a3"
            ]
          }
        },
        "064f02e2e57e4c48a65e55e7addcdf36": {
          "model_module": "@jupyter-widgets/base",
          "model_name": "LayoutModel",
          "state": {
            "_view_name": "LayoutView",
            "grid_template_rows": null,
            "right": null,
            "justify_content": null,
            "_view_module": "@jupyter-widgets/base",
            "overflow": null,
            "_model_module_version": "1.2.0",
            "_view_count": null,
            "flex_flow": null,
            "width": null,
            "min_width": null,
            "border": null,
            "align_items": null,
            "bottom": null,
            "_model_module": "@jupyter-widgets/base",
            "top": null,
            "grid_column": null,
            "overflow_y": null,
            "overflow_x": null,
            "grid_auto_flow": null,
            "grid_area": null,
            "grid_template_columns": null,
            "flex": null,
            "_model_name": "LayoutModel",
            "justify_items": null,
            "grid_row": null,
            "max_height": null,
            "align_content": null,
            "visibility": null,
            "align_self": null,
            "height": null,
            "min_height": null,
            "padding": null,
            "grid_auto_rows": null,
            "grid_gap": null,
            "max_width": null,
            "order": null,
            "_view_module_version": "1.2.0",
            "grid_template_areas": null,
            "object_position": null,
            "object_fit": null,
            "grid_auto_columns": null,
            "margin": null,
            "display": null,
            "left": null
          }
        },
        "5b8afb331a6d41c29dfd37b9c9c8bf1b": {
          "model_module": "@jupyter-widgets/controls",
          "model_name": "LabelModel",
          "state": {
            "_view_name": "LabelView",
            "style": "IPY_MODEL_2907ab1fe1b8477fbb8efe9bd3db70bf",
            "_dom_classes": [],
            "description": "",
            "_model_name": "LabelModel",
            "placeholder": "​",
            "_view_module": "@jupyter-widgets/controls",
            "_model_module_version": "1.5.0",
            "value": "Elige una imagen de una obra",
            "_view_count": null,
            "_view_module_version": "1.5.0",
            "description_tooltip": null,
            "_model_module": "@jupyter-widgets/controls",
            "layout": "IPY_MODEL_1cfaea70c25549a9bddf0adafc4b4751"
          }
        },
        "ed9ef7ceea49481eb19f38cbf9a9579e": {
          "model_module": "@jupyter-widgets/controls",
          "model_name": "FileUploadModel",
          "state": {
            "_view_name": "FileUploadView",
            "_counter": 1,
            "style": "IPY_MODEL_3e5317345f724256900b2043dafa8edb",
            "_dom_classes": [],
            "description": "Upload",
            "multiple": false,
            "_model_name": "FileUploadModel",
            "data": [
              null
            ],
            "button_style": "",
            "_view_module": "@jupyter-widgets/controls",
            "_model_module_version": "1.5.0",
            "accept": "",
            "_view_count": null,
            "disabled": false,
            "_view_module_version": "1.5.0",
            "error": "",
            "description_tooltip": null,
            "metadata": [
              {
                "name": "1.jpg",
                "type": "image/jpeg",
                "size": 190598,
                "lastModified": 1622367002949
              }
            ],
            "_model_module": "@jupyter-widgets/controls",
            "layout": "IPY_MODEL_0651f3d9b28745d0b399a400d068979c",
            "icon": "upload"
          }
        },
        "a32d50c8d54a48eaacd000c3c960c397": {
          "model_module": "@jupyter-widgets/output",
          "model_name": "OutputModel",
          "state": {
            "_view_name": "OutputView",
            "msg_id": "",
            "_dom_classes": [],
            "_model_name": "OutputModel",
            "outputs": [
              {
                "output_type": "display_data",
                "metadata": {
                  "tags": []
                },
                "image/png": "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\n",
                "text/plain": "<PIL.Image.Image image mode=RGB size=167x224 at 0x7F38D67054D0>"
              }
            ],
            "_view_module": "@jupyter-widgets/output",
            "_model_module_version": "1.0.0",
            "_view_count": null,
            "_view_module_version": "1.0.0",
            "layout": "IPY_MODEL_08cdf82cf4554a12acf4d0c820126706",
            "_model_module": "@jupyter-widgets/output"
          }
        },
        "4eb1c1bd2727415b93442a1da8af10a3": {
          "model_module": "@jupyter-widgets/controls",
          "model_name": "LabelModel",
          "state": {
            "_view_name": "LabelView",
            "style": "IPY_MODEL_0eb079b1ea6e45649bb3f244ac61abfe",
            "_dom_classes": [],
            "description": "",
            "_model_name": "LabelModel",
            "placeholder": "​",
            "_view_module": "@jupyter-widgets/controls",
            "_model_module_version": "1.5.0",
            "value": "Edad de la obra:  Edad Contemporánea ; Probabilidad:  0.9445",
            "_view_count": null,
            "_view_module_version": "1.5.0",
            "description_tooltip": null,
            "_model_module": "@jupyter-widgets/controls",
            "layout": "IPY_MODEL_f2bae839d9d44fa3b223213cbe719823"
          }
        },
        "2907ab1fe1b8477fbb8efe9bd3db70bf": {
          "model_module": "@jupyter-widgets/controls",
          "model_name": "DescriptionStyleModel",
          "state": {
            "_view_name": "StyleView",
            "_model_name": "DescriptionStyleModel",
            "description_width": "",
            "_view_module": "@jupyter-widgets/base",
            "_model_module_version": "1.5.0",
            "_view_count": null,
            "_view_module_version": "1.2.0",
            "_model_module": "@jupyter-widgets/controls"
          }
        },
        "1cfaea70c25549a9bddf0adafc4b4751": {
          "model_module": "@jupyter-widgets/base",
          "model_name": "LayoutModel",
          "state": {
            "_view_name": "LayoutView",
            "grid_template_rows": null,
            "right": null,
            "justify_content": null,
            "_view_module": "@jupyter-widgets/base",
            "overflow": null,
            "_model_module_version": "1.2.0",
            "_view_count": null,
            "flex_flow": null,
            "width": null,
            "min_width": null,
            "border": null,
            "align_items": null,
            "bottom": null,
            "_model_module": "@jupyter-widgets/base",
            "top": null,
            "grid_column": null,
            "overflow_y": null,
            "overflow_x": null,
            "grid_auto_flow": null,
            "grid_area": null,
            "grid_template_columns": null,
            "flex": null,
            "_model_name": "LayoutModel",
            "justify_items": null,
            "grid_row": null,
            "max_height": null,
            "align_content": null,
            "visibility": null,
            "align_self": null,
            "height": null,
            "min_height": null,
            "padding": null,
            "grid_auto_rows": null,
            "grid_gap": null,
            "max_width": null,
            "order": null,
            "_view_module_version": "1.2.0",
            "grid_template_areas": null,
            "object_position": null,
            "object_fit": null,
            "grid_auto_columns": null,
            "margin": null,
            "display": null,
            "left": null
          }
        },
        "3e5317345f724256900b2043dafa8edb": {
          "model_module": "@jupyter-widgets/controls",
          "model_name": "ButtonStyleModel",
          "state": {
            "_view_name": "StyleView",
            "_model_name": "ButtonStyleModel",
            "_view_module": "@jupyter-widgets/base",
            "_model_module_version": "1.5.0",
            "_view_count": null,
            "button_color": null,
            "font_weight": "",
            "_view_module_version": "1.2.0",
            "_model_module": "@jupyter-widgets/controls"
          }
        },
        "0651f3d9b28745d0b399a400d068979c": {
          "model_module": "@jupyter-widgets/base",
          "model_name": "LayoutModel",
          "state": {
            "_view_name": "LayoutView",
            "grid_template_rows": null,
            "right": null,
            "justify_content": null,
            "_view_module": "@jupyter-widgets/base",
            "overflow": null,
            "_model_module_version": "1.2.0",
            "_view_count": null,
            "flex_flow": null,
            "width": null,
            "min_width": null,
            "border": null,
            "align_items": null,
            "bottom": null,
            "_model_module": "@jupyter-widgets/base",
            "top": null,
            "grid_column": null,
            "overflow_y": null,
            "overflow_x": null,
            "grid_auto_flow": null,
            "grid_area": null,
            "grid_template_columns": null,
            "flex": null,
            "_model_name": "LayoutModel",
            "justify_items": null,
            "grid_row": null,
            "max_height": null,
            "align_content": null,
            "visibility": null,
            "align_self": null,
            "height": null,
            "min_height": null,
            "padding": null,
            "grid_auto_rows": null,
            "grid_gap": null,
            "max_width": null,
            "order": null,
            "_view_module_version": "1.2.0",
            "grid_template_areas": null,
            "object_position": null,
            "object_fit": null,
            "grid_auto_columns": null,
            "margin": null,
            "display": null,
            "left": null
          }
        },
        "0eb079b1ea6e45649bb3f244ac61abfe": {
          "model_module": "@jupyter-widgets/controls",
          "model_name": "DescriptionStyleModel",
          "state": {
            "_view_name": "StyleView",
            "_model_name": "DescriptionStyleModel",
            "description_width": "",
            "_view_module": "@jupyter-widgets/base",
            "_model_module_version": "1.5.0",
            "_view_count": null,
            "_view_module_version": "1.2.0",
            "_model_module": "@jupyter-widgets/controls"
          }
        },
        "f2bae839d9d44fa3b223213cbe719823": {
          "model_module": "@jupyter-widgets/base",
          "model_name": "LayoutModel",
          "state": {
            "_view_name": "LayoutView",
            "grid_template_rows": null,
            "right": null,
            "justify_content": null,
            "_view_module": "@jupyter-widgets/base",
            "overflow": null,
            "_model_module_version": "1.2.0",
            "_view_count": null,
            "flex_flow": null,
            "width": null,
            "min_width": null,
            "border": null,
            "align_items": null,
            "bottom": null,
            "_model_module": "@jupyter-widgets/base",
            "top": null,
            "grid_column": null,
            "overflow_y": null,
            "overflow_x": null,
            "grid_auto_flow": null,
            "grid_area": null,
            "grid_template_columns": null,
            "flex": null,
            "_model_name": "LayoutModel",
            "justify_items": null,
            "grid_row": null,
            "max_height": null,
            "align_content": null,
            "visibility": null,
            "align_self": null,
            "height": null,
            "min_height": null,
            "padding": null,
            "grid_auto_rows": null,
            "grid_gap": null,
            "max_width": null,
            "order": null,
            "_view_module_version": "1.2.0",
            "grid_template_areas": null,
            "object_position": null,
            "object_fit": null,
            "grid_auto_columns": null,
            "margin": null,
            "display": null,
            "left": null
          }
        },
        "08cdf82cf4554a12acf4d0c820126706": {
          "model_module": "@jupyter-widgets/base",
          "model_name": "LayoutModel",
          "state": {
            "_view_name": "LayoutView",
            "grid_template_rows": null,
            "right": null,
            "justify_content": null,
            "_view_module": "@jupyter-widgets/base",
            "overflow": null,
            "_model_module_version": "1.2.0",
            "_view_count": null,
            "flex_flow": null,
            "width": null,
            "min_width": null,
            "border": null,
            "align_items": null,
            "bottom": null,
            "_model_module": "@jupyter-widgets/base",
            "top": null,
            "grid_column": null,
            "overflow_y": null,
            "overflow_x": null,
            "grid_auto_flow": null,
            "grid_area": null,
            "grid_template_columns": null,
            "flex": null,
            "_model_name": "LayoutModel",
            "justify_items": null,
            "grid_row": null,
            "max_height": null,
            "align_content": null,
            "visibility": null,
            "align_self": null,
            "height": null,
            "min_height": null,
            "padding": null,
            "grid_auto_rows": null,
            "grid_gap": null,
            "max_width": null,
            "order": null,
            "_view_module_version": "1.2.0",
            "grid_template_areas": null,
            "object_position": null,
            "object_fit": null,
            "grid_auto_columns": null,
            "margin": null,
            "display": null,
            "left": null
          }
        },
        "e8ad97e8187f4ce09785e0a7d1e25f15": {
          "model_module": "@jupyter-widgets/controls",
          "model_name": "VBoxModel",
          "state": {
            "_view_name": "VBoxView",
            "_dom_classes": [],
            "_model_name": "VBoxModel",
            "_view_module": "@jupyter-widgets/controls",
            "_model_module_version": "1.5.0",
            "_view_count": null,
            "_view_module_version": "1.5.0",
            "box_style": "",
            "layout": "IPY_MODEL_4c859d1be5434514961fee31e6a74583",
            "_model_module": "@jupyter-widgets/controls",
            "children": [
              "IPY_MODEL_5bfad5816f5e475d9b7e5db23b5b959b",
              "IPY_MODEL_7d8d9e177b354b24a4ac5479ae3ca976",
              "IPY_MODEL_37f1916fba4c4ae9a7d744d85c517fee",
              "IPY_MODEL_f8f3eaa099944b098ca51e08da0e6bce"
            ]
          }
        },
        "4c859d1be5434514961fee31e6a74583": {
          "model_module": "@jupyter-widgets/base",
          "model_name": "LayoutModel",
          "state": {
            "_view_name": "LayoutView",
            "grid_template_rows": null,
            "right": null,
            "justify_content": null,
            "_view_module": "@jupyter-widgets/base",
            "overflow": null,
            "_model_module_version": "1.2.0",
            "_view_count": null,
            "flex_flow": null,
            "width": null,
            "min_width": null,
            "border": null,
            "align_items": null,
            "bottom": null,
            "_model_module": "@jupyter-widgets/base",
            "top": null,
            "grid_column": null,
            "overflow_y": null,
            "overflow_x": null,
            "grid_auto_flow": null,
            "grid_area": null,
            "grid_template_columns": null,
            "flex": null,
            "_model_name": "LayoutModel",
            "justify_items": null,
            "grid_row": null,
            "max_height": null,
            "align_content": null,
            "visibility": null,
            "align_self": null,
            "height": null,
            "min_height": null,
            "padding": null,
            "grid_auto_rows": null,
            "grid_gap": null,
            "max_width": null,
            "order": null,
            "_view_module_version": "1.2.0",
            "grid_template_areas": null,
            "object_position": null,
            "object_fit": null,
            "grid_auto_columns": null,
            "margin": null,
            "display": null,
            "left": null
          }
        },
        "5bfad5816f5e475d9b7e5db23b5b959b": {
          "model_module": "@jupyter-widgets/controls",
          "model_name": "LabelModel",
          "state": {
            "_view_name": "LabelView",
            "style": "IPY_MODEL_495af6b9fcee4600aeaf9589ee084430",
            "_dom_classes": [],
            "description": "",
            "_model_name": "LabelModel",
            "placeholder": "​",
            "_view_module": "@jupyter-widgets/controls",
            "_model_module_version": "1.5.0",
            "value": "Elige una imagen de una obra",
            "_view_count": null,
            "_view_module_version": "1.5.0",
            "description_tooltip": null,
            "_model_module": "@jupyter-widgets/controls",
            "layout": "IPY_MODEL_b3abce04a7924fb19aff555b0f52a066"
          }
        },
        "7d8d9e177b354b24a4ac5479ae3ca976": {
          "model_module": "@jupyter-widgets/controls",
          "model_name": "FileUploadModel",
          "state": {
            "_view_name": "FileUploadView",
            "_counter": 2,
            "style": "IPY_MODEL_a693c42a674640b9ba655916378b3895",
            "_dom_classes": [],
            "description": "Upload",
            "multiple": false,
            "_model_name": "FileUploadModel",
            "data": [
              null
            ],
            "button_style": "",
            "_view_module": "@jupyter-widgets/controls",
            "_model_module_version": "1.5.0",
            "accept": "",
            "_view_count": null,
            "disabled": false,
            "_view_module_version": "1.5.0",
            "error": "",
            "description_tooltip": null,
            "metadata": [
              {
                "name": "1.jpg",
                "type": "image/jpeg",
                "size": 190598,
                "lastModified": 1622367002949
              }
            ],
            "_model_module": "@jupyter-widgets/controls",
            "layout": "IPY_MODEL_63aefbb7fd064aa296ca6d5a63ceadbc",
            "icon": "upload"
          }
        },
        "37f1916fba4c4ae9a7d744d85c517fee": {
          "model_module": "@jupyter-widgets/output",
          "model_name": "OutputModel",
          "state": {
            "_view_name": "OutputView",
            "msg_id": "",
            "_dom_classes": [],
            "_model_name": "OutputModel",
            "outputs": [
              {
                "output_type": "display_data",
                "metadata": {
                  "tags": []
                },
                "image/png": "iVBORw0KGgoAAAANSUhEUgAAAKcAAADgCAIAAADpKeFvAADOpklEQVR4nGz9WbNuW3Idho2Rc671NXvvs885t2/q1q0WVeiIpgAQRBE0ZZKSKDskmU+W/A9oPTn0JkfYoQhbD36QXxV+VIQfbNKOoCkHIYq0TKIoEAKq0FUVqlDt7e89zW6/bq2Z6YfMnN93QR8St06z9/7WmjNn5siRI3PyH/4//4GxmRkgZgo1M6UJaFA0gwBqTYxmpqY0GgymUDZrAGCg6Ty3WZup6jxxHB+99BLAUllYAJjBzAAYTQgYQAAgBDCQZkqIKig0VRGqGgDQABAECJiZkUIyfhoaIf6zDAojQBKmRhFDgxlIGEmaNVLiL8yIAoHqTAgJMwAws/7DSTFTkWKmBsIAKCmgAkJQVUXEDGZNpBig2oQCADAFaQYYAAAkZzUBRSQe3mYzkASEJAAz9UcACRrN/9LXDQCgBhhKgRriURUkRVQVMMIMoiDMQCVECAPMl9tfHqgf/+hdUKEGkAYYjEYWGERohFBAiq89SYAQhdEIMbV4FIU2A1Up4+OXXl2fr1V1nvcASaPRjAYQStBgjK3qO0qAIrFIZkaCpO9F/IduL1BVXyZSTAEYfVHi7YRihoZ4bpgRAMUf139PUwggUvzH50+AiABUVTL+liQpMPPt8Z8GQqRACDOqfzPjp9FIocFtUFX7m9JfgWrq9gm6bfTdNf8bo7glkuIfDRIm8ZD5YLEr/tgGoxlAEYGZmkEIGNWEpSFOXpFSoWoUWnMz8fcCWOIUghSIAGq+HkZSSm4IK6AwU9KqEWpyth4XC5iQaqoUAjAqUQAFfNVijftmhRnQ3Qz7sQOMEORZJMn4Jt8Ti+8CYeZLTRAQ5gkzM39owCgSiw2YuPkZ6d7C+tIDIAvQ/LMYi6LHf6TAv9nMwtQMvmGEqbLEnh2fgiKMffU9MiBPuZEECW1SivlmQyAwVX8E+uekn/Bv9Y/0T1GYkL5hZlZIYVH67hA0AkqAMNO6Wp03ElABaVCyUMD4f2HnQlBAEaBAmu9MuoZcMnMHw7GANH8X8V2ie3jSfwsBDW6/J+4+VkgAzT8I1L2BgAaaqbkZ9SMS3sfNA3HU+s90n9F/MikGhflyw6Dsz9TPNOjfZUZSPPr4QQcUMEbMsjQfI8VdEcWNDDCEq3c34dZPenDxpTFrfkDD97hrz3dimmC6ZvOH6afF/VeEpPSWduII1XzVAIbrRxxV1Bdff4tAg1FjMwxopvTvoRogMIOY/wS1jA5QAGoG/xdTUzNDFZJGwlCkGAEV93cGI4TwH8YIZjDTXEF2b0Y/Nzyecvc88QWnp5MUAooG5rrlKc9A4L+w3++32+1yuVqt1ha/4mt9eUXEjCLa7ckAEZq6SzAzFRFfXrcY9c2KeMBCmtiJlYMQEVELizFTf2/3YYSoTQaJ148TZP2hCSqaSPEfGs7RzxLc/7qJAEAR0jSONcJPwdTjXvhusLamBNVhBlAQPlDM3KfRCqBmzLNsRAQq8fhjRpqBBQCgLCQLxIDm9kiceMETq4xdYXopwo7brEDxbWScHWj3hOEMRCSDJoTiuCxOZ0RoiYci7zeb737/h5vN/tHF+Wq9+PznPitS1BAxwPpJ6K4k3Ei4NLfpeDTmTwZZyNipvivutB1XgjAhNI+wB00wfk73GRGiCRrEPZCfY4P7TPVXpppl4I/vcofhFuAPlj/RPUQpZgoH4kZYLbXSaGzWtBmbNQpZhCykEEYUDRcHZaOZaTgFDxaqYlBA3VRESFKIRgqLdXeegDYwNjuIlwyNyAPHcMH+EhSNLTBxSCTiTg8QEd/jXGUzQgLF9VMOe++D99//4Mlmu9vt9h9tN7c3V9fPr375V/+KSDFFxEdY33v3K3aEjUSccgSwZKJRoamFJ/egDT/QuZsEHKbSvaKQHp4DNkhCmcSE+QTu8AIHkQwQ6LmMP5WahefxzyFNNYOuITKSjBXpoWtTc8wgZJFqmJsBszZTkMWxP0GasNBEpQn9nCaAoVEr0QwwsXz+PL8BwD0RYUBcEQRCc4sWgwac9FcKbBH+PIIweHIgyXDvJuI4WSzDHQCRomqAicjz57d/8M1vvvfTd6osZbl+6+3PDsvzb/3Ztxvab/z6r4HiWYAFGHEALyARWSKkiClhcEB9irTN/VDfg8CPMBooRtBMzN0eENg88H1kaRRLA7cW76t5UI4gEQ5SjjEpHqUQir65hVSghJ/xby96dGMoYF2vLlprs85QnbRZg8GElCJmbNBZD2gGaKFQKsVIocgp3DAB4BHFIrsgIwI49KU/NRAgIA6i/4+ZIZO24/lIP5lPS+l5i6+UA7MER2QxX1QHRqQUCknyJz/50Z9861sffvTktdffeOvtL9zdXsPaYd7/03/637391mdff/31eW5uH04SiBQAaibHHMP3Ro3pF/IhIxFl+KcM54QpEDas/nsmfaDWc8L4gJ4eiMDU04YMPgQi0wqgQZDiPq21BhOhsRyPg5uGUCJFMYCMbRDSUEnWWguKAYOZNVNtqk11Vp0MIixSzSCelutsgllNCwpFilR30mYOVQw0oRgj72dupIWjJ0AhNZ7OEo+a5dH2VXO3bx7jIAASB0FVzZRSBMccNzJh9zQUS8rm9vbq//Pf/7N33/vg7c994fbm6ve+8f+dpnmxGGsp2+3mT//0T95443VfLUcDyZyA1ixgd88Jej6QITX8inSXi/DG4QH8mCL9cmC+RPd2kod09OcwUTvO7GGrf2amp2YmIomQ0P1N+MDkAeKhzMgioGGuRYoDFcA82dBSAFNrUJhZa7PpTJvn5tRMcd/bTHU+iE1kgcDzO1AAKqwCBWj9cNpxMcCSGEn9KZkcTERvy1MUyYYxAUEas2Pmk+zv+DHoHsMIKfXb3/72n/7Jt7/wxS9s768/+uATitRB2tzu7+6b6g9++BPSnSLNYZNZgn/64ZCexGa49EMdYbJvzzGX8xMZe+l/f9zIMPqTxNWUmYjC8VEGbxEh0NyfOTJwgBWPS5ipqfneHbEk80OhGo6BQjqkV1YhDAVUg8IEtBJgz42SrRSzpZjONs9tZrO5tWZQJxfp2LahAcpmujhfFKno0cvSg8X5C7yMPEFkt18iMgKYaV9pHOHWKUOY8YBiHvNPzqIAYDE0KfzBD38I4oMPPtjcb5arsxdffOn66tmzZ88MrMNw+eBBfmx8+/EIhoNxvGQ97QHV0vrMDKos5Rg2TzkMc5dscS5J9TRVxLSB7GRN4MW0GzUrQbKCZHFfkumNiLQjh8VC52/EWktvI4Qm/o8UU0w0fIxUSgnUATFARQETCEGharPCojAlqGVRi1UrOkJtstlU5zarzWZSoObUqzhJ5C/iSaKQTvlKD2Gx4RZ/CXZ4DOeWA8uaQZiuLQ+19eyvH3/4y5rBkx8GaEatY5Xh+vnV3f39fv/xT37yk9VqWWtZLVdSCDQ4qd3dTRhTunZzChlIqwC9ktDRQwm7zjN9so0ArIiQbKoACsUBbxHxQOtvK8cUFjST/qYnIR8Z+9RDtmrGRnHwpJQCOOLJxDJtWQFIpoqQDL10Ik1EhA7miqCW4jmcFJEiQgooLMIqtQzDMC4X69XyYrlYlTpQ/MM8ngVVoaoGNFNk+heP78Gb6GHPVxT5NP0L8mcm/KFkGKdD2Uirhci0MRwVCbNf+9qvDWNR2MOHj4Qy1MEMqrrb79s8z7OSFaCIe9NuQ+bQR6SQFPGEMbaD/QlPfu+7i543W388+ub1FDxChycyRGE6sMyxcHLuLb+3/6uaUb0+RqI4SaeEUWZLctBdTR4wi6RRvRJV45EtKVJ3a27KAjoiF480zTMFoXmKrDBm5i2ykKLVTCKNiczaiieySTtALBBmh+xMrOG7LlCVoKAFoLgBUdMDJ+x31rmndvFvRkeRhEEg8vDxw1qHx49ePHtwub3fGFhqNehquSL5cz/3cxShiNeQWIqqmhMDnlhGaYeMjC43G6QH9Y7wjGoZadxRp78Bwaw09GzbzEjH9jRVyZyU/mI4+hd/pb6FAq/1RaLKyCMZRI67Io/hhFjWYAKuUogqQlhJOOUf5etLT1SYRVJhUWgsLCniGbaaOYgVEVV1Oo59K9x2xet3Ccw/xZz6yopYkl8JbXwjg4eUWIs4BEwqLD5dNX1y943x4J88+eTy8YuFOBym8wcP7jeb5XKhiiLy0quvfuazn21thgWvnKbfsYbvV+TM3U+ZJaw/flp6qxNk11mzowNAPnp8WbJATsbBI5q7ivgWVU3n49y+Hek8j/bibFJEuOL1EVP3H+W00hrZoFaidpI8CPjwLM5EKpXCdvRPbg4KrzNTClQbCbXIqEWVrIyMQs3JXY9xESs7Yg0/ZuncPcUMg1GCLTYaBvcYjgByb+JgSVTyotRmBlCEzqYZrp4/q8Lr59eTttVqLCxq0/Ls4m/+W3/n9ddfa62Fv7NI9sL4pPjhdhDavyY2LB1xrKZHyyjDnWK7NNMALh5amdHw+JWav0/L8z/QCXRzrI9kbvzYuufQKI3QjHFyCFUjRGrTJMMdhXr1a7u/v9/eX9/dTNOOLBG+WBihXo7hnlJYBCL0P0lEB5FyjG7uAB3aCIVVpH9l+HJI5K2BIk6iOnESLwWksMC30B8kC1kd+xOAKSjxlQQzvpJobf7qV3/285/73Mcff/TJkyet6TypEcvV8gtf+OK/9Tf/uqoeM65+lL0++W9snkWxyaEfOjkTrN4po55EaHIADvbtJJdWh1inEAHdXbivjWJfUJj0gOdwx9IXBfINIoCkHxn/mZq5nx/WUmIjZLffFMhiXLgN9610r+NLT0iQ27H9oMBzdPofsvTh/4rAaA4tuuWaEBDEVpuXjE2jlOJ4Ip1g5ErwIHOsy7q8w1FCD4C+qAFG/vJuVZG3337rsDs8evz47PxitVoXKBRf/+tfXy1XXhE4uhxPsdJ3M+raJ3sj8fLMR83jETsnPU4G/O5x4cSm2f/mCALyBDGhnoPH7psdLfqWFossKbIYyezICIp4Iuf7oJ1LzOQThvrg/BHFhnFlZlFlMYDwDJYgtYECaDvGPKGRVIsigpkGSaOq7nkLODNevZuw75O/hhSxOD/M3L1LoyxrpklIEmYNAFnD25EwL/5GQZ7sAa/vYGDjR48fjcvlOAyH/e7u9loor73xmbfffrv506az7vuBXlADeOSOLC3a38XZe8arQcxaHn2aCz0AoJhZIlcGm5Y0PjI0u79wyN+hiZcRnKDNk5BMm/8oT6k880wAZXC+Jdwgg6ZGQF8lgbpcrS1rnhKqFfNHsb4XviYQScDj2hp6AIEVQVAKKcDJSC3u/sxMLNcrU21mUm5BTtnJQTcKmB4DEKGkNwaSATl6RSbYZhD/WW9UM1kt1uNiQSn7+/tpauNY1utFKVEhpZDOQyavElFKlcnsnrhfZiXLV9FdPROjebLhirT8ehcW5JG1U2kejjAwkT78DGiSWcVr8yYBu/LxihSAGkA0RGke590nmdGgkutdSIAzDIVSSqTiIkXE89JIJYsUD+wnwd5jRkKpkEYwt9BPQqxgBDEzaMJjigUWc5hp/qWMkHwsChpoSjMaqQozBby+4jFUHIw6eRsJqxFqWQz0ryOMIrJar+7ubm9ur2st5+dn4zhc39x+9NFHIhLFDkoiLJz459yRI3w73f7jRjq6csvLylhuDqxIkVJiCXukIEqW2txWheZMSeq5IpAozH2rFQ8l6QuMmnEwPH86VvPwSQ2LzC9z+ANK/eT9H9fVarlY1XEpIqxF4uyrmSuSiglgjeE6nG5zTG2uoSUyLQNbQpOIUHl2AaaXdpVSBLau+MnVjBSl03gOzjJapwQnsyZmPpABMWBN6FkBM3v86IVXXnrt+dXTYRh2u11rbb/b3d/diQibQNw+RA1etO1ciuaWI1Ov/qindnCCDAiyoFhG8VASRLA8rch5QUxMUTM3jHgXstbI0p2VANTJd+Tb4+TjxbxCm8HSc3TzYm9C5YBAKGb1nZ9+B5RCKcNyWCyX6/VqebZYno3jUspQiq9pgVJMzTSph/hY0pwZdF0BWwQhIsqg7h46rknnJlnwSDB1cjqOkZs0dS7RhRtRpwlGVryaSfrqOs2TkdFdjZDTPP3MV778H/69v/d//7/9gxdffPzn3/32fr+b5/bTn/7467/1m+guNUrdPNnXYELSanG0O7NuhlmvcUTt+2QNiUcIUwWKYe5GYya0poSaCr36BYVl5U5gVkOWyCxRuyiZyQNF7TYcJAAPZs7SJ3KzINfdZM0AUtTmuj5/qKattVnbdHd7d30Fa+KnpnCxOl+sz1erB4vlqg5FZBCISX6QEUQRl81TwCmVipHJuB/3JXJIwh4O/XWiiJDq8eOvXssKd0UC0hOVjMCZ9mXUOdInHfVANrvD//Rv/a2/+T/5m1dXT/6z/+1/9u5P39HWfvCDHx4Ok5T6l5I3JhvK0FmAZFOVlBSkfz06MUuImkgVVPbg7QgLJr5VfnC9VlFCjQkSlaTByyoodFelaoA4bKJInn0RRklK0NOESALoJbZEbokf86gCpNTKqjSWWgwyUgGqKvSw2zz76D2AdVwOq7PzB48uH754efniYqiW7iIW18C0+ExN0qeQLgr0rUfHA+H0TPJwuk/oSRdTRu5GqholuaM06lhMdHb2U5wsXFYWaEkAlEGG1XhzW8ysDkMd6ocffHh7e/fo8Qt/KdNDQrMEaLGe/fEKZbZ2/HQHwTqrK49JuM7hU+BUI+Cy0KIQxXzxZlbyFHjM13Ac/gKSEVu8zMIU8YJmxxo9Ik4AcBk2i5lKhrl09WaGKqU4YFR1PK0oFJTFar06u5gO+4uHD1948TOXD19cnz0oZVCdJ51gnp34RwQsUTE2x8FRElXTEHrhdGX9eEQg9CN1LMblo/k/tNa85mHQTJCUSc8hhcCn5tIt2n1M1kLMTPf7/XazFfL87Pz25vpHP/rxiy+/rDr3o2quPYlTAhKqysjZvA4BWgo0/RPVKwKxF/1JLCJZeGHP9niMcXDcQKDAm1UksmXzMO4r0JhVcIgVY6OFht7xUFgKxTBbc7lCCiYI0FK0jZ6AeH5P592EKJTijRAiLOvl+uz88vLhS+fnD8ZhEJoQQikiyfF2Fixwq7s/TTBMnOzP/79fZn6Ow22eYGYElknlLzvW7dWdjqGPWLr/JhOwBGKliAhbm/f7/X63u3l+tdltf+/3f//5s2elFDeso5cKEuxTYT5KL/15grMkRaP04fmL74EI3bEzMKBQ7GhbCEyDyNPdmSB8oRuV9vRd88ArmsP1AgaLFlGTzs84hynxDO4RQ5nPUOAIyQoCLJFtwbu4PPcxKWW1WA1ljPyb4mKuNF+CIqrGwJ/h74MRTz45SufHaJjVBN8OqHdnhG4uUDOilpZhIhkSP75FvNTXmfMTwuTEwZZSSxFT3e/vnz5//qO/+MEffPOPhFJqba0J64cff/I7/+R3fvEXfv71119fn5+JFEiZtTk6OKYGJymGP57QJQOaD+nEoue1EiwsSBaL4+VSOVd9egWjGxc0IalLyJw6Cfm5FAT4brTm1DQsOl2cnnI1q4VlsG9edXqImUt6HIQJWNMBisIXneJ4mYTE64XpkqSEkoQMCUM04VhnM4h0skirtTQFdumIW5ZLgukFhEzK/g0/j+MPy++1ZEzjyz69K7GG2+3tRx8/fe+99370ox+ptcNhf319MywXvLuTWtZnZ4f9/o/+9E+ffPLJcrm+fPjwrc++9dqrLz9+/HhcjGYStDnDPJt6w5DLtNOmXfYfDIlLEU2RfRFmJFRDHWkwMcYWI+JuZFnu4yMwu+8SdUFR4AuiczgMVOtZkB+UBJSOIChmyQlSqYG+1HVKVsFCM1IleiGVBmeA5JSToUT3KMXhszDIEwkCwBAK+dOljwDe/87SLuR4WEkpAV5OAkI/uxGSEtk01XLUpR1B08lZh4hcXT37nd/5nQ8/frbZbG9urx5dXlDK3c3N44cPp/0eNNVpe38jlI9p+8N8fXf/6OGjV1955eVXXnn9lZd+9Wu/MowLx6CBDzxmeqA0gBI6MwR1SQ2FtVPNDAmGv320fpmhOAdlUUYIWENNvj/lxn6i3PWSxgKYO1gnn/wgmNIdmyCyuULp3a2liET/Q3y5L341SOgqaSFnD3iu/lLZqkajJDwREaUSzuDCzEmH2NVw7B3FEc7+moM+s2ZgNE7nmXYZr2Z7h5N0AZJPNEwOJuzTtpU/ocu2rIj88//2v/1v/l//71kbrInwyWr18suvQLDfHwAWKW1qt9dXZ+v1bluvb65vbu/ur59vt5ufvPfey48u1+erX/mVr83z3HOt9LRHut59d5xsx2tq0RAYxF7khP3IWu/hC4hgHvCsd4B5s0wcGE9derxnOOxgPgBv1EOQ+YwyKou7V3dNIAB1+lNnEwKlmj9a6LW1GXtm2Tmz7rKFPaCysz2IP5pFH4KvvGtTYBZtzFm+wokfD+s2a3lk/Xl7m1n37QGtTZv4GiV130+5pQGRaGbf+qM/feedd87OzoZapjYfPnzy9JPn5+uVAmfnF+NY9vtpe7/h3DabzTTNNzd3i3FRnj89TPvnHw+f//znvva1X7ckWFVDqtcQ/fLW5e5SoCoRpoOFhB+izL00AHtQCl5h8HQucqo4Kc2rxmbRb2cGr5YGp+oBUw0OsMxpdukv7sdDTV0bG4uiKlLVFBatMlVbi0QK/j8KU0VMDSCp0UpJpy59X0sAUahET/+xny6cMQhvXw6Q343HwpXTIJlrerVNXY4TpBgzeIrrKbR3lUYchNtVfjEipQdR6/BLv/RL3/zWH9Za7+83TkORmKfD2YOLB5cPnz594qq4p8+uZChtd7jZbs/Pz6GzlHJ7uHr/g/fn1rwrkZ/OuE7OFgAI1ARiINiiZOQaD+1QhJE1AUB2NENhxQih27gHBQdPLVyF1266ODB8r2We6KllWEQUuhzn0bwW1w+h54RSIAJF3e+2cC2KkaSi0Tw5biXLxsxMSejtcj2cha+yeCtNYwCcZhE2196G348uZTProfk01faHEJHWWgYiQDVyhY7d8nB0w/B/QKRVBPnCyy+SVNX94WBmr7/+pqChcLvd7Q8fa9O56UuvvAzB1fPr/X5firR5VsE8T4fDdH19o0290Y95Xv0R833jpQqoZkGe5MM0Wo3EmwREoqzpQF7NxKycdPYwIR4lI0a40sD9Cdcsrc5/mtdZjMcmZ69sFhOX1QcmUpjFABKAqD/6k3/d4m1MzURNKWa6enD52Tffzs3tXtmTCjG0PIze7yygHuOYsWWkiSiAqAGJIXXm6HJp1SxMJvkQAd0pKIOqCjMiZDOs4yCQalb6xke405dffm2xWF5dXTkf+e/83X/n977xL58+ezpP8zCO67M19oerZ892+70Bi3F0ddBBWy318YsvvPLKy4vFeDhMlmK/PrPA4DFTrVcQzACoNcR2tWx0NIf1/g2dVwJUfcZJqE+6RanlHAuQME2JKDIfsiPadYRtptDeIOMP6k45s2dLlXjiLKD+xtd/qwEw9TSiWZvm2aY2GXb7VuBZZMfT7kHpysnOpsZR7tlUMOUG74aiN9u5iXoGLwmOYTARNlMJY+8wng1aInGw1Fx4euSQg4B6Fwo6a+PnUtuXvvTF11577enTp4AM4/DiC4/u7u8fP36BwufPn8+ttdbmSaWUy4v1s2fXrTWpZaiFlGmaD7ud+xsmRk3OOdKYFvznEWYmqQAFKqTbvYXdOwtjZr5u1MBHkY0h4nCcLwLNAHoLkUUJ0SkESfYwzv7xAIjB0DzwNa9JS7pxi64aA+pytWoplirWWnY/Tfvpo4+fIitR3Z8DId/wgxoIURwPpJggYq7CRK25XirszOGDNh+hIvDmeIsWopCJUk2JIhZZQzLrrqMFgzQwgQd770T0VVVKNbVxMT64OK9SjFJrHYZhdX5WSr27vtltt/P+wFKEXC7Xh8391FRVq9KsAjjsd+uzc4pQc+ACmrNaAeFovbeve6mMP73uLgCOJcUcVBT5qVf0s/PJVZ3m+EYtuEEj0VAqW7puHCkjP2GqKqW4Us3FbrO7QX/4tIyS0dG9dSVEgupvlv5L4w/HWEFGA4CmmlOABng487aXwISR1Zjzgwm7/CdpHFHL8+tcoW9kighryO+NZAtL9/8v3adKBMWUhVssHqKHvrTWbu9uWYrOc+Fiuz+UUj784H0CYtgfpuVKah2n/W5qs1O2JGZtpQmAxy88qlXarF7fMBRn8nGC6fSkwcROzr2pWYlGk2LmPeEneQb83KtqCn5apPAuWwjn7J9C89hLA6jQoOGdmXcvYl5oNGS92X+aZ9XxI7Is6GsnVUrxdheaRXYR+uLAf9IP+dHLh0kI6Og1Q5Y3NAZWV2fc/Pgao8IWT5YCvxg4kA/FciRb2I20J+5Z1fOJWnb6VMc0kzSYUBbDYK09ODsbx/rP/9l/R3C5Wpq2Ms2LQjNr81zHRR0X9FoqZRSZ5+ni4YOrq5vdbp9aDYDRVsMTX9bPnDBERsFqSXSSBOcVGD6eDrFTCnR5qwfOnuyEfTC0K97/K0A0CjJDTs8kEu3FtIEeTzPo0TKku68XtRZFHQdtYoQWd2cQyfaiLKO5BakLnNzHeGxvps1Us9nYX8OC0DaDKU3oVgLEiCwYoKHEgSFCuxlaRD9fO7pax9KAOqSxTAuP8D6kWyBsMY6PH1ys16t5btdXV7fX1+0w29yUKAYhVmdrKUKRcRy8CjSMY611c7f95h/+wSefPIm6RR5pI/2Fc1oSHEv2umLHvXEoIuM7kf8mAyP07p9u9KJG9OF5sfFKKWAhCdYIgKmkx6kEGjzaBYIOjDQ7D0VU6ggA9bs//IGR4zgacNjvK2k0nXS5WvkOdV69MwAW4EFoNlsLy1drqtpaiQPQP66f9oj6sUOwZib41OwG9y7h/yUfP5BihMvwHN4kEYEA6SnYv7Iuxr/6W1//g//xD9VMStnd3zXV+XAQKW3aj+OwWC60TdNhGobBl22xWA7Lxebqudn2gw8+2O92ImzJpakpXJd4rA6EK2Ogj7DxvvEAsqYRxhHV3ySST/LcJLeO5iQW4+COviVOdhIy2baepyCShQDy8ON4GnUjUWZ9+vx509aabjfb++19kbJcLg188YUXXnvhZc/LXfweZmqemEcsExS1JgZVw6yttZJdOTrPKCV64onig6cMpqZobrB+tj0+EeKGIZGG+xmSUGBZVvbCrD2Z0iK1mTftdW7HQM7z/Jtf/63/63/9Xz97+nxYLKbWdrs9zWitiCi53+xYShmH/XY3juNuf/iN3/zN3W77P3zjdye011577aWXXvYU0SdNCEWRHx9PIkJRakqzIwQIo6ymgWjM2/stqygRM6z527uwAfHgHa8ZKYrORjuFVzLSGSMXsCzaSG5xIN4Onj1uKLSfuXqxPjdyVj1bnb1oj+owGmCU8/UasBgwwEzI0u4yWh1LaAAU1lRj6BtMRKz3Z6c2JPVckL+EcCxOLTsotKPPSEuOA33Mfo5SqoB0QQ2bNW0XF+cvv/LK7e1tqfXBw8vt+x+2WVfjIFWm/TQMFcYZUzOjyPn5xf/83//3/8k//ker1XK3237pS1+6fHi53+2QH4lAWX2qqDWzEuRwEm/9XfKEeNodASC4rXRNEbvTUQWHLd3GrZMlIAXHpjhSXYfkxVhPAkEWmVvrKax/VmhmYoqbOPkqm2nat2bkuFqvzi9kHCGFxDTPXvXzKNmnyRAsEHrbUkAuhzRQM7dfEEaqmbXmpiidRDMvDOd2WifnhYRJRBNhiBC87idCLx+I5C64R6TvQoJOZnZBBbBYrL/wpS9LlcP+8OyTJ+JjtQrVkVutlw8fOn598ODhK6+8/MYbr++222m/Xy6Wz549Pez3zIEfPY4yQPFJRpGcnKXWz2AaYMrUZsA0S/FMhgcwsgASc4R8BYQKVaovIICYyZAO0X+pmVGyeE4v1wAwVWZdK7bdlzOwmfSzW//xP/5HKjhMB6GcnZ09evRorLVWefO1zz784s8IWI5DZnyTzc1ds41XiDlMVzWyFAY4B73CZkZKwZHXYMKyeI1CNaJpI3w+CoSuPdNmVig+W+AErXqEOTJmoQ0KQoAwlFr+3X/33/1X3/jdjz9+Mp6fD0OdStsfDgUs69FUDXp2ca6qpfDq6tn17c1Lr746zfPZ+YN3fvLT29vby8vL3EggsRKj8BTcoWSiEcOLjxhIzDRZhPhGd+QMEUSKP8MHO7zJEBfoIWKWO5SokSW6CfygkW0F7x5IypRC00AiMJPeFIX61ptvfPj0E8IW43Ksw+b2luv1YUKbp0jSCBidMHEQqIgqbBg4IuUL6i2KePGETI1fpLlJxR8n+CBCdEI/r2QDwWP5b2KfkQm7hG7g6FXtmKpKDD5WXZ+tW2tza2paSrU2tWYUtu3UOG3f303Acr0guNlu3/nxj194/EIzu7u/+fwXP79cLhFuCy0KHlk3S6zOHBHDpMKNGWlBJxojU0W31R70DKZgSSCIhA30kX7hW9G9vYmUkJRkLDOAUgJf+wBhCn1iFejcu5BqWdABQdYPn37UZn14+eD119602Rp0vVp//MlHEm905Fs7znBRhal2IYen8DE7OlG6qhKZaXTMy342XU0Vkj81Ky0BPTNOppjMkjxAx/x9ugJyDeIspdwWAFhqPTs/4yfPTG037+b9odbaTK1ZA0ut52dndajPnj2fpmm73X75Z768GBZQvbi8LLU21W7dXSpgsAaUPlMliYNIZTTPd0f4fmb9nfOwAkZTNa+vH5FXIpgeKIRe7MySZi+pI7IXT1uDqkp46BPRI8N0ZqCTMATl/Q8+KKXMrY3joi7Glx6/eHZxcXFxMc0zQ0AToAnHRzbvd+mZrFv2MY8Gj7WqxOQKy4lxJE1NY4S2nvRdhkFEVSIzTI2kX0NhnMI0Q6rtg5aIz3fPYk314vLRa6+87ha2GIbzYShgLXWo1Z/g7u7+6tn1PM3TNH/nz/7spZdeOlufGfjDH/zFzc11TMlGCgX4qUkmx83K9BSIPmrmKc3T3VFRR6jIF/zUHwOVpl/M8wzkREoL+sN5D8cyfYZgCMs6aeCzkr0BzeuhYmo6yQuXD99+6/Ovvfrmm6+/WYDtbvf44SWBYRxL4CaIoaQNRslbgzJnYkwLDK0MsgRJzJmT/DytLFnGZk/cYdU1f57hZIU34Hh26kp8kIR7B0VKBPjIK9IIQ0HQVuvVwxceex1lbrOMw3q9Ors4GxbjUIsBh8N+mg+r9frB5cO/9vWvX1ycr1ZLs/bs6dOrZ8+Y1hSfjjBA5LwdOnY0A9B6QhbmfJy9YZ3N9KcL38kgwwASJSLcKVGTCB7OYlEsc58oxfbaUDjhoxnR5/1mhzlo3X+S8ou/+Ctf/erPFvK9Dz744pe+/PKLL/w//tE//NaffOvywQMNYsw/MqNCIsaeRxFJECEyRyNUXfMMVY1iOaKFLK3fAKg2RVwzAY/kpnTCMglY7dOoPRSEWsHDicYMBY8ynz5GJEU4jEMtZX/YC2WxXGqbd7ttIcY6+Jc9enT5wuPHb7/91td+9Vdaa/fbzTCOi7qoQ0WcOGc0YVGODhEATpbYzZk9wU1Y7tsveWZ4ko/7EroNsZ8T5F7GV/k6eKi1JMzyZ4XHlUSQXkIxyfEI/RCgAwuSZH1wefnk449fevyKDPWHP/rBd7//vbGOv/iVn3v5pRcbMCBdDqPQ4lDLfGSuhZLGjVfVW+ykgCHiJX3jAROpwDHV8TTXnZKEIs8/JjQTLSl99qMRqowTksAAl9G5zjb7HaK6pVqFb33mM8NQAIzr5X632x72jVKkTm0qsIvLS1I22+39ZvPhhx9tN5vWZkBMbb/fM8Oz0orX3LQxtD0xH5GJ0SSqy2COh+sHEEBxtsqVBOyQJEutAZQJmPp8O4sxYaGGsAh18fbel+45HRmMjdC0JQBKOGgR+MRzHrAA9Z0f//jsbD2Mi7u72+fPny2H+vprX3z80qs3t3evPBoLANfVmpLaG44sZAJKY4lPd7GjHwlVazH6NNgKL4YKoK1pKTUSlewgtKC3MgFKZ+J8SGFMzwcgkf2ZeDN+YqA8HCRhTP38rL/4V37p7Oz8+ub2sN03nc8vLw+H+X6zGUUWYzkcDnebHYWPHj9ar88++eTjeZ6HcUBxmToieTLzs+gHynGo5bslJyHqX2Nd/xuERzxjOIDAA4y0/WTqcZBOyoxYGZ0j+XHG7BgdE2eGv0ESGtaHvGambGlqzm187Zd/6atf+ZnHjx+sFotXXn7lS1/4slDe+emPr589c2qFiCKwV0zcS4dZIh8wnW+C0NgGS9Mkc4AYmCOenXoWM5vR/OmbQwOz5i49qoj+vwlkOha242b7byOmeKQxqmFu+pWf+9mv//ZvTdO0PDtfjouz9eri8uLBw4vVcjGrbvYHKeL39kiRV197rdZhc3f/pZ/5yhe+8MU2NwQcluPHu9PuV0KcPOIxzFtw8n5mLcy6F4UjyTFYSKKDZYX7Mx7PFYhUPbdkeH2xwnos2+AS5Tm/8pe+kt4RC4INqL/+i784mfpaT35Nk+k8TbvdPO+mYUkkCR9bDQOM5kdOzdQY2FpV/c4mS+zjcm0PT0nmWc4ocPZJo9sods5nhhCqBQXCBisOXtKCIm1jzOR2ellMQB+Jmjg26Iqm2s7P1gTe/tzbz588ub56fnN7v6xFm6LIYhwBaNPVarVerxfDsF6v7+832+393d3Nw4ePVWcmXM/I4kE8bSAPbyTuJx7eAuhZB/SWQkcA2ddmMWMkOTWv6DsVVLzY0OkswKwJxfIBJNpADSyx+uojHhwfIe4kMQ8RHhYgc2umZg1Qq5SxlrGUs+VquRjpVcX0nNLf2BMzC74uZlGSanN0W8Q0rMT8Zsz5IuEpCPj8WZOoI/hZcb9mAUYsYlJYSNQTc8SUJacReItOYhNm0n8KAPDiwYNSy59/988pvL6+Oex2h3ka1quz1dmDh5cPHj1U2LhYjIt6cfngK1/9ihDvv/ve7/+Pv19qSUmf2Ym40Y7avczZTggj/9NxYAeCWepxlolVYj2PYNh9KlLAlKVb//d8cbeLT+UCFIGHWph0WC9dv2mnhmtWNW/3QPenkXSpL6c/bQmXkXUb00jmVQ1aQCVam7x1GoDZTParjIxRTkuBrLu3DPnwXAvJPnfRp6koIT6bQLzm0vdSTUspzJwgbwzztCqJTrCAn/vs2+Mw3N3cqE7rs/W+Hkop2mzWiWbL1QqwxbCoUorg8vKSpDat4yIo1BPtL8nW62DOiPVW+zyOsSUaDqeES+xnIAynS/oj5UsX0olbZDYY/3ICYwk4f9f9TXp7gWn6iojrgqwPkYDqrDFbX63Nnj5Z5BKnBAQiMUHecWWIOTgW+RIVsDbNOAKM/iJyTN7yfERvevwNYiRaP7hGoetHJYnY40lye+9cSD987A+VXxhnTdujF19YLRdqNu/2A2WETLu9G9OwWDx78vEwlL/9t/92rYOqHabDPM9N22IYk4nwqJPllgBfdnITzJHBkjxSeUJP0ADQz5uvTXJ1wTEjWRzymBWnicCvqEkI1dUK8R+nPTwBjgYGM3FlG0Bt/YdLiasHUw+TmXFIqRwy5oEnT57XVQ8M9kA9q2kN4b4YtGh4LE/VfCeCog+2L8NHnniXV8SQP4W1WF09bYj5FK7K7yTAzujx6KdU7eHlo/VqRQOltDb7cIHt/f1us93e3zXYYrn+ra//lqru9/sP3v9gXIym+v67P3U0ZrA4333whhmOACKfig7JnY50FxTuqyclprmjwShlwhYnLr5SEt4jLnIwv34uTqO/YBg+GTMBQ2J3XJUT7EmDobkxMEYwuYi/KeCBVxNBw6hiBgvlNhM2M7qYsspEkqUUlhL0c1RfYF77IZmdIBb1emc5og8ku/8YlzpRpByBhHR6weyozHXjcPca7+pVHOAYCkg1HZeL1fnaTMs4lsXYTIXQ1vbzYXt/Pw7jar0aFyPJ6+vrH/zFD2F2OOx/+tN3pmmGN69FInTUdADHBTZY98AtBkLmy3qmFRUjlE7uhKf38xZZqxuEWi6+SzTjBx1nNplZQWhMLYahuEdGHkxfMSizURUka7DXUTw0jU4tTRClampe7459+VTkiuQjTDCGjpZhGIvQMr9V05CNawaPZGt9i5HYLX6+Ky99Cg0iAc1kU9JDSh4tIDiK7uSORWg7sXNVffzo0Zuvv2lqRQRmDy4f1GEoUoahAra9u18uF8vVsul8cXn5V/7KXzGwDuPd3Z2vQpbVuzs6da15jA006b79hEhKljB/yNFvMxvFw1XkUnR2B9kJB/ge5SIgZse6H4j8MIwlIUSgCwKi+TNjmRkYngGkCC/uO+0fI4bcdMRBP3NjZp13815NCSkmhTIsVpAamWu8DBlMcDRA++AIA45395DJT8EYRR14tSbqtilJ63DZd9cSgVjYE3NJhXByiaCaLcbF13/7ryvscDhoU2tt/eBsWC0GlqEMIFbLVa2lmZ2t1//Rf/y/PD87e3B+fnt7Mx2mPncR1GBAnJ+IaqPn6HE9hESAi52KcGvaPGuPxqjA4UfFYx7B7rNiPIkHzzyr7lQNcRD1GN1UswRsgPUrLEwl5G7anLnPU13/5T/9HRmX43JYLRbDuBiGsQ7DOAyL1UVh8U9GLxAn9Idn1matNcbUBFutVgedYQZaazPN/N4Cywu7HA/7R0OPmQ+T0/WkMkBLNmxIJh9OPHrre5yq8GvZQmGZaViOofePNDx7/qwIp2mSs5UUATAOQ2M1taVws7nfbLYXF+fzPH/lq1/5wuc//51v/9n6bHV99ezlV17NLTtGZzdMEk0DtYokb+7X3qZfijeCj7t3frr7Aeumap40WV8l/1Hw6V5h3UTepFPShXgCHljW0ZQffVLCAOENspZOxOmaxdlhnp4/v/nJu+/8+fe+92d//Me///u/97v/8nefPbvyI4/AR0dC3EWDMJAiLG7pRlmMSyklBqymBChtLN5NoxLjlG1rrfm8urj7Sh0JwNQSgncQbA4J/xKuZg+w7kk6Uk2vRlK1vf/ee6XW1lSNZrq/3877/Wq59Oz2+vrqW9/6Vill1nZ2fv6ln/mZfWtPnz375je/iawy58KdlngCZFrCZgDCnmSHe/fpPSUDugtNRbrX76630w/9LiBkDpDEnaPT8ORmBmizI670ngb1NF21+ZVd1mbRRtOectS/8ut/o+k0t3mapzY1nfb7+dCm/cWDi+iuSGCqKY4IL1qkSvGT5Z9ah8rI3cC4nvyEwwJIlFJFqI2JR0MSEofeYalq3v/gOJjdmZEMTVqh3y4WMu/EB6FeplncMdeFzNztJxE5Pz/f7zYzlJS7mys3gsN2/81v/uHf+Bu/DXLW9vTqaZvnqbWLy0eIdguHSuwpqfHk9z6xzsmJ2Cj18X7N4hdEoOotO1FCC4clzW+96F013pTAJDJTl0eyqRqQo2oyhYucCvmQzpqqeKeMhJtQuEQHZlbXy1XjSlORrAo1hc3z7q5NO0tG0UJonW4lFCvioyXZt4cWHju2UAL2AhbkD6y19BNOJTqLkI4hN9j/pAHdLWl8R4coWdPy5Xbvo3H5m3sxt/doovu1X/vaP/7H/01Tfe211z744L2b589RyiBlOuxFaFCdYwiRgMthuVgs3nj1jbc+8xlqDA1gCBTdhpRmQBHvUUyySUQychsR6a92T5WprkWciEOL1GFG1hFv5Tl0zAiUJAG936mZqxYgKVMKaivTbY+Inr0KxNNsRqoH8RZBQYM1vx0vTDsQE/KJk1ANC6A1neb91A5mDVQhXB4XwCqTSRHWUhLcOXbzniqGchwBOcEsW8QhUM9UmXgqF076dHvgxEY6nI4IlgQSobDzBxdDFVP9uV/4+XFcjOMopeynhjKwVoO9+MKLCKO1r33tVy8eXBrx/gfvehW4deyoTZEqAQSMMjNDQ1g+AZQQLNGFuT06At6ggv78AePDa6RzSgjuphDXRJxkbsjIkmWq9IVHt9qv2AP8mvUIf2Kg5CRzko4YLWh2nzuTQBwwmhIKqsuWpfhoqpJbiCPpAphGeJPcobS0yMlxwkZFZSY5djkh2x00nf6Ijng7WHHA1FFQx88nv7jd7ABRxePHL3zmrc9stjtRe/j44dn5ehjq+fnZz/38z/kGG+z8wcVqMRB03JS8GMTlj74RborxCJpGmRUqP5YpBggDP9nd3Jvwgu5IjzVm4ISER7dxwmUL0sdPB7wJLi8uNAhGk5nKA0fNGQCg5iFxFW2kOr16QeT8wDxy6OtLEoU4jhTKp3Xbh8Q4wrzPFupX+sBKsHKpbgSyG8h/aZLIaeDHA92Hk/hqiq+nz02QmLsYb+rTC8VxzeufeeP8/Hya51dfe2232c6zHvQA3pVa2DAd5tma75iAH77/wTs/ffeVV166vLy0aHzxcNwYkzpEwbzACCIQE4Yz96AORPdizliKA+n1TbVSHA0UKVBrplLFqJL6l7DggKvO7tupWaNLVU/wpWXqGMKANCkpFZ4Ok+JbQnPMIYQIjNHS7FbuBNAx3Ux2NIw6pITqWp4Aot0lI7xIqsNAskgRFmEJ/++xoGZIdy+r/dtPDpGHGf1LLx9PijRNV5PGObFkE9s8T/NM8Obq6m//nb+9HCsLzHS1HEHuDocf/eCHTLX+Yrkopbz2mTffeuut1ubcswDTSDM0PyQ4kiDxmozxt3k0mcMdow8yY5+ADCaLwL/hovoaOg8ca2JGYJ5nP7ghRA4kAPZwAOdVIJo3UYQXJ2EinfF1OJ6tJLFofpTgYAHoLqz7IcQgnlNY0a3ScVWzNpsiEJjDs2OqkyE8rNpo0q+1S5LyxC06UI9Z+R3B9jlMKddLf2QkMEj582//+fXV9f4wffNbf/TZz39hfXbezPQw3T67OTSF8fnz55bpx2a3vXx42deYAneWXtYuFCFKpJBWcv+7Ieb0Brc6D2Reys4lyS+WAAEsXnMKoiXXzi0DkFLc6fa3TWU+Yu/cNmCmFhSeqifJ5gyfwQyzNk+LTyV/rX8YzHwEFiCwGCwJwO+3ZH5g0BXOFOVZ9ZOX9/4gMinJHnqy9UMKJMOajJ6pxmDZo+OytCVJc9T8aw9ovvdKaAgWLR+NYbGwp0+f1GEchgFmh912P03bw3R3OOy1CWy/363Wa884jHj3vXcvLi6a6t3tLVj6wjpfdSS283nyATtM7rQhM9wdoWeycOFgw0L9LMRnBJi3k18ACiN1NpjU6gIySjSC9UjvLIv4YD7XLGcdjJFuZDoUzhyt0+zmYNq1KXkKHK55oul6Kof3mTK7WwlQohERNDCS5igV6yO5mI7DYDFQ3D/LEgjFajH32fq3SXCPgHU4SbcjuvOIEQwiU5vKWF548QWfQL1cLPb7XaEAdNpmGMftbqttIk0gm5u7jz784Pb69ub6urLE7sFaBmVVcwCvWSxBgA3XmXjXn8MkGiAsEumLQ9VSxNGwdADrK+bXr3UxbGIx5zPQWqa42vM85obFuvlZiAF4lCTV+2IaSQn0qWqaa25Kg7CIF8p6qPjU+UuiFjBjC3YxjmMEVYkBYTCjabaKeDavqs18eocFbvTcNU5HMj8B17OKlNSA+e5aJn1eG2DAazchmDdakG3WH/3gR7c3tyDm6fDOu++uzlbr1XK5XCwXCzFeXj78xje+8Rc//NEwjKa2Pxx2h+n+7h7efe1PACGl5hgHpJIztzxW5tSTsVdPQjQt9COLUy+GTMNYKOaXNLlWyctJ9KMrcMYmvRyyfy1tIBYweh6yJAwzmvegNQkplUbLpEMrO26qV3tRcKJO7ZAmExZfi64ChWVfnrqQYm7aKCZVWApzpki6MgtCM/kHiywtq1DeUJGrFv/jHiviVCRulutQ+uUAqXAKKydB7vd7GPb7/Ycfffjqa69fPHy4Wi3H5XJcL2sp2/vNH/zht0xVofM8m2G9Xj1+4YVZG49bi+OWgjAX7HZeAFJKpE7eshH3TbJ/fTjVdNq+GccVJ0rgkQ7JkKC4p9cJ1AN7ZW7mPtDLpAY6VnCDyOKuAYCYSUVePe4ePSTAVIXSXWhk+C4hCc8fewEoo5McJz4mLAOEWa22WNKMiD57klQrbdJ5TtCXDL/POwRMpKgaKWpzYWmmCkswI32/Pbaa9QltLtrMjpz8VSj77Xae51Lkhz/80WK12N7fU9vq7GwcB50bCxeL83/xz//ZFz732V/7ta+pmoh89StfefzoofskJFQsx5FXAsYMbDVX7J0kV+GBjmjUn91/kDfxuDAXMWDOpxVGNht8BoAcCabpV12so0DJpzIzNfUxJi0KomiWdJxD+SheC0RMW3XMeBShk7C4IoaBUn2zvZ4YOnwG3HLUAUZJztJsOw0r1KZzY+TNc6nV+x3m+WA6UlyVzH4YQt3cQYzHrZRb+R0q3j7RG/bEGFhBYlKLxbgit0sTs/00LZaLYRx+/hd+HtY++fAjhTx66cXddm/WpJTDfiMir73xZpvnw37fWnv9jTdqrYdDyz3Dsd7JQJEdN/pzW+YS3YNLrtfxL4/kUp5mX3UomSgKkW6n11MpxWdsejBham0DTnoYtATUaXjuUd0h+RQ6mkHjfnfz+ClGwhoNTsrnmDgLQ2eoMHqBM4OZpH9BOkJ/r6azGbQ1bXNrhzZNbZrafGjzIbJxmMU9cwE2CBGWjBlB8TJEcP7MUXTSkOZ7fmIxUzu4YGEKugGIcBgWJNs0L1fr9z/4sCwWCmw292pWymjg+cX5V3/uq2+++cbV9dWz50/rUM4fnHcZQ0g5DaCqNZcyN3Pc41dQpaEHkD5BXceQcEx6/QVP+qGONG/fSwO9OmtpOorIoKWzmh3vwbTkLTu06EmVtDMpyEhNny2eZugaZRQAltPMALDkJ5h1u0R+UUad9EU9DmXoQvPtUdOkiROwRZ7g2P34bsKec/nJRbKR4ZFKAjv1Rv0QE4lqsHqwZuqMjonIt/74j25ubs4vLg6Hw7/+/d//4MMPztZrz+Jub242m/ta6+3t7fPnz+f9Yb89XF9dL8bx8aPHnn22fBSkljhsPfYlhhkgM8mMtjxdpf73fsZEpObgjVx9ExzbKFuIkay5WXezSFRgvXsyfIYf4tAjdXsg4A4ykB09yehgzXzRYRbFMXbcHyyOWYyhjT1mTxjMzIt1aRBzizb5+TDd3d7d3t5tN7v9Yd5ttrvtrrXZr3VmzG5Sz4jdpak25MubwYO6Lxv6sqfdgvmGuaSW5kFCwFLrt/7gD3/ywx/ud7vHL7z461/71cPusNvtDvvD5m7b5nmepu1mMx+mH//ox588eXJxefHw0SMz3G82Jf1p5I+W6xhnlCUk44BRI63KekzmFF7x1ZRKJ8l23EH/1+4eug8l3NvSQZlG5D1Cbjf4uBs3SgToZEYkmSnw9OPkf5CAT2bwZKH1C0vDPPvadg+R9hWHMLRtKfrzJKPXSw4HTody2Nluo5v76eZmd3+zu7vdTofmp9oMkNJPidsxM6j1ZwhXwGhVF4ShxBCNjrfS/fh3CmlN/9rXv/7yq6/c3d39L/7ef/D225+dDoe5zRGUKBS2eQZ5fX3zL3/3d8fV6vLyEUWmaQ6+JBKerkB1B2QNeoKUkPYHs4Z8iBJ3oGZh4yhqM1VldKr0mfPWLIYzdtDXXQS6SQEeRHr5FAEYrcMO/78S+RlEncBwjbLVkFAHYrNeEQTQ8sgEwmZMDmkGiVNlHX4YTNEss7tErxjH1TAuLaaSFFMlpNkspUQPc5zv6GACQBYYVBtrYdRi+/UKjkkV0YvDfu7NoKQ3PaUowyY0NL7xxhs6N4Df+MY3Si3zPO+3O7CaWS3F5qbg1Jop/vAP//CrX/3KT370Qyj206QwzUFM2uNWBrL0+QnbQ7hIUgwNEDULoZEr3sNg2IEYIyB1ripCxTFA+lZn7Hf/ofAfa0GOOcMD4/GkRN+yRZeVwpsvg6VBdTm0RxdXy/jOOblZQMl8NJLnAAIE9bgcjIxB3VpzRpaqQtrRcfkl8BRiIKmmZJHECfl8Eu+eByTyZMsc0cw0ukUdliqzuJYKzEgDHdOV8oMf/mA2W4zjH33zj1frxTiMi2Exm0JtFBqlqS4W43Z72N5vnz99st3tzy8f6DT16pWz0/nMRJaJFQ3wUeUx0ZnR4ez9tnG0+7Zlxw+7a3LNtVNtQolL/nrHRYD5NK7u9o4JXhAW/cYct0tBTBpsApoV9FzNANQeRnqu6aWROZ3FSdIpSP958kDov5j/VXNRaJE+KaxvhgG0vJGXSa/5yjr4oqEJi0ix0IcYGaP8jMfAlbEv5NYe5FryC94pUkUI+73f+9dGKyKLxWIxLkotLEaYHg5qujxbL5ars4uL25vrZ8+e/MN/8A/nab54sHA4eMrLnBy/tC47YiZENoXukJneq397P+jxr5mm8pj6HN/Ocss95vY1PN5L2M8SKRB1XVNSOua3ALH7atfLQk0r6O4iejv8nzUaxVz/ECLVfvm73ybsKoveg2OBXALQqKG1FlHHQCk9Rvd7Ud3iVdG1YVG9jrzTZ1VoVK19+8OvZicUXLPtdh5lMQFg7mOVJtras6dPbq9u9vvDsBiksgin/UGFdbG0eZ7bNMx1v93WInd3dx998KGhHfa7Nz/zphSRiThSW3maw2pdqmRkSbffLRzosT1yGfAIUe2YbQfXFKmwuzbNxOro8PN8nXp7MG8v7nwAQ0TsH5AZNhXedFOcGq+mplEUMQItQyYt6mGWb+1BxAMLE13FwQ9TD+ZGilQtllEOGaUybeneRc0kRo6a9Q/xaKnaeGrRzuv5hAxh3nzntgKfWkyghIvKhBU2DuMgpR3acrlYnS33+/2szdMtKcN2uxNVm22/3z9+/OJ2ezg7W5tZHYdSh36i1aww2zMiZXATNoQu1CdZxEAaHsta7KlRb4LsDsBfTSK1O6Zbvh2ltwyEAzMk7tO+8ZI1Ojcdyx/r5ti/zDJIAqRU4CQLNctIxow/mRv1mGKAX10SUcW/vvtCI6Gt4Tid4Pi96aCONURnG0x7r2vcoKDdx4Xd+IhCBMvlF6Vb+gWkf03ETShJU6tVvvmH3/z+X/xgdbYqRWoppdRSeHd106b57nANMzVt83z56NHt/d3d7e0w1LOz86YtmsGty9gs8wselzKN4Hh2P/03sWU4OoEM/HFwcTzNRw7nU9sfUdE8u2NYe4C48CaRtLqVMa699UOajyTmd5SI5jVsFpS7CxU1dpBy7MdJo/FdznlA9CnWjpcRPWi5KEGdhTtAmgwsoj68ymgxIr77AyKYIrN0pNF9Z627mDlUnX75rHqrn3++5e2SJpyt/evf+9c3d5thMcxthsjZ2dn67Hx5dhYbAzPFPLd5nkhqa/v9/jDtF8OwXCzVFNLZGcbxcSkRMfcM3Mdr9LTLU7SQn/tDotDAUxQQW9tbFJm9S/EFjq/TuPz0qOblOt1hqNGsO5ZUNKlrONyP0MuDDApGRKqdQD93IurpHROvQSnW79rsOgHAC3PqTrl0x+3mYn43SfzyaGSIy3wkq4SWzQrHENAjVqjV8tblfgIycrjNNvb5PRkYAwQExr2+u12vVp989KE2K2WYp2mz3YpIqRWtDbXudwdImeem2+24GNs877Y7kovFwjy3tCgKdZ9lecgiaIW5Uo92b/2sO+y3UPgcB090Kz+22x8dYjw+c8n9kHQY6Nv/l/CBAwG/ZlforaDuHHNoYEaBip6THU8jAjEyvHckUWg+6rsBUa+JVNOBqMJUiUK01hCQzZ+/j1sEej9fD/ka0VJIJyHjnZ2x8wq2KbqtwPPxOCjqpJMfKR4pURgLuN3cf/TRRx+8/55AVL3BW8/Wq+VyfHZlstupmZQyzdPt7S0BKWUxjgRX67OHlw9UXS8ato5429jAYgCtuRbAsjntJKENPxqgPmsfyAuM/CsTcgEw03R+kR84tCbioti0Oya0SISRG+etUJ0hzvzRZhj9kmg1ABUZGePJHcinvz21wQyjHvt7EA0YaM7J9k3M4bG5xYFGmDkme+wgzayU42V83fv5u4sU6+4IPlLUf4iad0JHAs1uPe4xaykffvjhe+++q2rDWKE4f3AB4O72+u72nobFamWA3m/nBqG4nqKUcna2eOW111544bEHRijE2QKGGRbm1V2aBw6m1grKMRk1zc2wVKKqAuK4BubQB4ZUTh0Pei5FoAFNm0uHaMx9NVX6PYDHmk20fTVPwii045DiyMIQmwzLoZPxAKRPCkyfG54g4Vv8wVGO+LMzqWq/yyO31VJ60NvmJMzOP8zcjR9dWzj58DU943ULU/8492ZBQWdAtBgO5ooRI548fbpYLSHYbu522+318+dtngHsd4ftZttM1awO1T+9aSOxXCzOHjy4eHBhljQRjnHUIr1EB6SIVWZhQebriPaBZFVMU1is7Pvn3qCvuHuI1o7QwOJs9hDi/5Vj74TnFxq8biyP69bUNblmdtI06DDSnBgyD2ByjCX+RbnxceoCuRrUJSBd2mYWN5l6BdoM8zy11vzju9m4DMgyx+tOoCOcUyCKjGFpclBT5FVE8U1MH5k/IQWp6n/7gx/+8JOPPtFZYbh4+HBcLU1tv90pdJ6mzfXdYXeY5ub+U0qppQJYLpa3V89vr68oJ1VC9F0+0k5GpOw5WNK8evHUTaboyiSuyPYgJOgBLUsP8R59HJC3cfta6HGtjkgoInFaAFI5h44vXNdnTgQadFZzQUO6JP9n/4x5nvfbLU8kAEe3HNgqatpdGmoWJRsYS6niI9xyYnAeYoQMNjYyEr4cDRt9Hp5wx5qJQxOT1NUbMxLClyQhQip5CIzD8P0//96/+O//5ay6WK5ACHh+cdnaNE0zKev1uo6jgUJx6Y6qllKaWZvn6+dXPOV3LeFb/y9IKYqQCrpDYMyG8xqoSyw/Zbgx+Txgp1pI0anwtMooEkYDM4SihO7JgZhrpHGim6qz1AnHaIAmoA/yP5mAHMlIuqyl+CjW0OsHbVLGcX1xHqOgXFyRVZaUhQYEzCkJ4T80BkumSsAtsgT2KKkK9VXonVjdcBMfwI5nJfZeJEbh9k5H9rktyUuHvbPsp+l3fuefPH9+NQ6LcRjGxaoOVecZ5HK1MmBYLupQ3Vqk1IBaaqvVerPZvvjKqxcPLlvroh7rgM6PnW+fhf91IZs7m6yTZrqB3qcW/EqmVdHmF0JujesCI2gDCP5F1S/EMMSE4Y7jipAxcMoVyQiZWrjk7tQdjxIw1x/Vb/7B749nZ4vlcrVcj4ux1mGoQy1kvGd3+kaw9Rgbko2wH2WAAg/VoYVXHLG6JYQ4goQ4NBonNhT/0f/cd5u0yNxi3Z0hdsBsfX36LwNFSpU//qM/+vaf/NnjRw8P0/T8+bXBHj56ONTh6tnT/W7bmm6meZ5nEj6qZJ6oimEczh9cSKlf/dmvXJyfHQ5TbleaaU92CIXVztgAfbxbd4o9l/Xz6N/KQOmMv0NsTnI3ebSsz/uypi09mzNH8V30xuD0/O5USszhTabLb5DIyOPOtc7zfne9t2tCzeapNVWR11559a233tjvdov1hSlUm5XKgLDhSyQej4bIniMfAVRbLTUICEklmcJMu1j/eLgBNSsSaSsDovbfm3mlztV5vi4uQe1SP2ShKhgqa6r/8l/87kcffXT56FIbSy0vPn788OHD6+dXIiKlbLa7w+GgChGM41i0qaKUcnFx/ujxo7vNZr0+A8zlWSEkzcwTvfKUyUs/Bz1jOrFCM0ZFwavqgQNIpalqKL6NUoorMyWvxbG4tzI4q0ga1RMLp95Fk7pnZ7UDVJB90gl74dUNkPWVl1+ftU026zy3w7w7HA7zZGh1HGVYlChvp0s3k6ThO2oWQIyzAbCsLvh953RigSKmdtKGeVwRx/M+n+qoyw7AE8V+sp+no0ZTTnkbxK3k5qmwyO3tzff+/Lu7zfbxo4eHeW7zfPbgoo6LUuv5g4v9brfbHc7W69def+XxCy/88Ac/fPLk2TAMq9Xi8tEDWGvTNDefaZuvCm3G0hX4TF3XyeNZpKfBnNjRL37a7SfG8h/tS5QTazxrgTaL8CvRCKA6MSUnEpNj/SYXR1kM6aaXxrwLiPTxWbBsCk/gW1frM8fkplC1ZjrNh9VqmaR+JFroTSk99c46UvIqLQpwJ2xxbjNLEWaqBg8BfYO1IUNQ30Lkh0iUjtQnXWuAGpoFJ3WEcgQIBSr55ONPPvrwI1Curm+nqbU2a2v77Ua13V7f7g+HL3/5S3//P/lf/+zPfvXsfP2vvvGN//3/7j+/v70/O1u98PhxkfrJ7pMP339P1e/Lic7RgswazOgjw0GkHfS0KLnl+EsmvWaRfwlCoe/kSMjqRI5u1E8TKQpQlRLd1H5MzMwPvwOCOC5y4jv9MJLRWnGCc92QSVYKBVW1mYC0glILl+PC/y3wc+QG8TFHj0elsYvl1KyY5PaFs4sOHpyaQZzXbv5dphKRPjgABi4O60LP9/oXp+dwz67x9sLvfOc7pFw+fni+Pnv27Ioid/ebZm067Hbb+1/65V/+T//T/83Lr74yTc0gL7/8MonFOFycnW82+8P+xkyHYfQT6MIHkDG297iRdHlKL8L0Qx8hLPmWwGuRt/Rp6+7J1HJm8KkFR1MjepKWk6j8Mm1L7bKZ0QSi0LgNlWZAoagFaWenKR1FDEJUidt4SmgxLeZYkUGe9oCZrJPxJHOKaxxDluwtNa031edW4zSWqze8GSQnS+fWhZzv6AYCILsUJE8PAhXlEjtjYSUH0Wzu7r7//b947bXX5mm6ur5SbZeXl4Q9f/pkd39fa/27/96/9+prr253O6MMYJtnndtytdzP0/0nHw11MMXnPv95UgwzAFCK2RwpUj90yIiP013vvz4FASMT8x+gQG+8xYl4+mg0lv45Z2PDrPRTi5J+ruvg/fa8aCRKssCOngNHHsgsbkxS1WjZM4OWcXzw6NFidVYXC5RCKdIrQ142SsIs8vWozCK0fAG48o0Zaoy+JD6vJlYjEsDYUU1Wx9uv/HTkkqTx9KQiQ9CsMVoKDaTstttnz64O07zdbc8W4+uvvnRxebZeLwnOrT1+8cUvf+XL+/3e+3zmaf7Sl7/09/+Tv//iSy+I1Lc/+zbJu9vbeZpFSmfAWpYsNdLYeCNNJQp8WMin89W+6EFNijB0TZHxo2duHbs4LWZ5/OJv/CeEbXXPShYkr+G4uV/kBJp5JwxCGWlm3mLm0sIk1XIgby3lfLWWZpVcLS/W6/PVcrlYLMoQF6x0lEKwSPWydUbqXm/NzMqyTJfi5n40eihCMk4B109AE7zBMCwsvrMfk8xv04AAU1suV8+ePHnn3Xc//vjZ3f3mwaOH036+32wFbK09evTwweUDh0UMiT7/9t/5W6+8/Or5g/OmqoaXXn7lS1/6UmutH2znbuGN3f5gPeYkSi1SNDzqEcf5i7fW1HOzbg1+xkMNC//psQGGDnsAmGoOjXC8YAa/f4l9i1Xd8P2PIW+PBc/T4g9cIAKKlEEoMERDOwht2/vrq5unm/v73f3d5v52s9scDvs2z4TVWuuwGMZFLcOijGMZq0fTFs4uwx5AyFEkHX4uWy1PFiZeUD/NLRtT0sP0lck8xOR1f2XXF4ero6rq+dn5f/y/+o9Wi+X6fD2sV5vtdm66Xi3nNpVaLy8vq5cszauETSgff/jxdrPZ3t799KfvmrY61NJVnHFHCc2TXYgfa99FxAE6un2JSOWhPbyChFbdzVPNtEVrHnzaosXu+ilJ9xaiAVOIW7zzaGHldFigcVMHOuTL+bEmZtRsVCWyGGcmi3GxWCyHxViHQYo410dwXJ6VcQRNddI2z/PcmkIN82RtbtPU9of9ftrv99PhMB0O8zQR6bp9izT2VxO5HcGXT2ZKf5X5TB4Ojdim8bXSHYREq4/Xb9IfMKqfvlrzPP/13/7tX/rlX/zgnXevnj5rzV565dVxHOswnJ2fv/jSi7UWA2LQmAHAt771zavr5yBkGPbTdHV1dXN/F4ZpRljJUnE8sEQfAU8G6nXMkXZtjGwlqar083Ck7K8meRAN7ejT2+nP7EI5S9ff1RYSU5hRfYiBHiVrEeIt2W7/bsKAWocqZnWoK1hTnQ/TNE/32+1ysdTapnmSUn30lC/rbrfRZi4y3E/71iYa52mSRSkPhtwpFKm+c3ZENUeRYVPtCNwMIgERumnQNWhh1oFxJCGKl9UIQZ+kLFBDcfIGNs/zf/Af/oc3V3ff//73bm5u1ucXd9c3pdQi5ctf/rJIaXMw5KXIO+/85A/+8A9ffOWV65ubzdWTw27/pZ/58ufefru1JlnsDqLC4rvcVHMl03uG68rsJR1ZB/kAnKWRo61HwtMFa2af/g5G3iRA1td9eD58+n8AdXMAlxCuf3OqZHnSR6eqFUyFqbJQymIxjIO2ab/dTwe1u7tahjKOdRBtGGS839+nHJ0x5zrkzyXr+96WrT7W0BC87THR6sIKxEv2KqsJmlkFzZuZ03dRxFXRx/iPkGcH+jsZiuMe7Stf/cr/4b/4z//iBz/4P/+X/+Xm+poi0+FghkcPH/X7itQURZ5dXf3ohz8GuN3uXDF1tl6vFktfwrjmJMIl+rLG6SEbrNLRReZdADKB7sufqLrQ1TUB54Pec1+Xs2bEIUCJXo5ctJOrTwrpOKHEcB46PeqVezLdqjHxZOQ7IEGp9OY8a0wJnoAohcBQhMNQyiBSqCwUM10Oi87SIEsv3izrrKP4BCYByXYiq+o5yaekKQx4GF5I4y5uT3K9xdb3N6z6iAGpXpdL3ONaC4eQBkyHQynl1VdfffzSSz/60Y8P202bpgeXj15+5TXTuHkSqlB98fHjKuUnP31nuVyuz9eb6XCYZjU1SpvNvbMl9dG5K+tHyVJACTg+i3zXIue1rHqZTybyQZoSXe9ux8Gz5pc5T2EdmZ2eYYPCigfTUzzMoMYdOvQ8EJkDxzcbCMa8OVeMMJu+i7M/pYgUkVJrdT6omQJS0rsxWslhMKuihDNKpuEAwrR4AvsZ1UhmAV3VnEfyhTvGe7/XhPSpyYyFcPfJONKk0vuo+2UhvcZvBjx7fvXhBx/O03TYzYfD4X/27/+NV994dfaaCkCwtfnFl1/+P/6f/ou727t//Y1/9V/9V/8XgNfPn93f3y0ePvYHV0OzVry5JSVCHWtkV2J4+i5mjppE+OsU9CEIM0eBIAvpODibmEhvteERAMqpAJeASajrPaXKqMAjV51ewZuZAjmGiVkAZ8DHFomIsVCO5VD2qZTSuTU4RQxBhgyE60DW20/inJm1T+mj88c4BUQHJBLjzzz85MW9ngR5QMo6fYRDIIH9iSdVi7m3fl9cLeXq2XM0XQzDpLpcrX79N3+zq0060pzn9sLjFz7/+c/f3N16if329ubJkycnygBD8h6SfEVERQdVx3os+iNpT+AY6vxu+GEfZEQZ9ZJVoMCGo3iy4/+Mjm71uRF+AiLJofaqgbNhZjFK8FPAwgzmhfVSWGupJKPW7j3reYFBWqlTuCWmcYtfH0CfSxakNA20/JdCJw7yWU4+XZs10xYoxrk/6ymf+NxGc00xzJukDLRoFj9allg/bX6geJzNAT55+sl+mgm5uDj7whe/8Pprr2sLeIbMYvxUPX369F99418VkULcXN98/7vfZxY53DJjviNBg5gyJr6Dp/HuL7E0Pns3AWlfd/9oRTZ+eGAiNEYkxlKoqsFa/kw1c/Wmcz30S9HMgBhOIMFTRujxc0CDsLoYTJuqNlfBkxSwghQpcQrBIpVCkSIsJVmqSEPjS0QoloN3rJNQoMN1az6pK5Jds9DnuZYn0DlgfrlnthuIizY1D5g/kJ8oh0xdZf+p/81sGEBcGgXV9vGTJ2ptc3+322x/6699/cGDi+aXWfmUdlPGOdOHDx/+23/n3/YVJrnb73is5EaJqWVK1v+6p8p+c58/sl+rF2DQ0/pkx2KAg1pIm09cFT33OVkZ3xgLBXonOsJJaVwxoWEQLs5UdSU7QlvnU10hJ/c5e/LjVyu4b5JAoD4ETQpzagH9phoKGdNfXIoa9iWlO5zwAuLnnO6QvC7k7JMK/Dh7/AV94qzPfwudvMZOJq3nYczMtEXcyeTHsi0l1VOqiLbEzXbz3e98Z7lYzKqvv/76L/3qL6s2ZFuPMwPuH1QVkF/62q+ena9hOsf5yu1NVRcSxEUzWAQbrwea+SVZQSYF8EzPnPabbQbBxHaUZWZ+D5tFefdTDt2UcQ2LxHIiUqEMJQbCSbY5HE5EySCU3LmQoGgOpTL2TicRSon6TAweyzCSaYzXoJi8mVAg8SPU4soBNdMYzeag3lMLmOWNp3l3nITTC3Wv22Xk5kftEY4p08mBc9aBMSXZQl3ijrjg5ub2/u5eKIvl6u/+e3/37c9+Zp4bU+7nd3coj5+wWizHOhZSgCrR1XPcEqKAcdNCfLT7aEGI86WKFIupET5xoz9n/D7qd+7SjzAHYcEReCzngka4jozULIK/WiIz+pS6mEaKoy12nxAfbK2ZaqOZWBy50M1Buh8XFomI7VSJ87qRWLIwtHZBxqUL8ugWJusnLnI79avI3T79tCMrCggmL84EfL/R/zVXzJ/sBOocC3QR7L1tzouJ5bvf/a4qDtNBTT/7uc/PUcgHGNJ9czGCGcCm+sLLLz166QVVI+yTJx+34JSS5/JfDnKOas/jhVv+bDl3F91lWlJq+QPSak8i1DFkMFZGskbVYU9sciZEzbT55KjUmKSuMVoE+nKl9pb9nGRcR/hf6/ouA3OEan+roIy9amAqgSMyFHmUYH9hOECgkCz0MSRGi1lX3rvm5qRgMYrRxcKWhTU25MSOjIvu3EITf5z0yOC8LE+L8eOPP37/nXeePXv+6suvvv76662pEz10WJjvpVTQ1ObFcvGFL35hM89Tax9/9IlPi7aou3RUUxKBC8jekJu30GrLpwXYors6oimSjg2jYNJp/Vf2smf5NnUWhHlDg1Qi3bLAAykgBhTkZwReiE9A9NyoJPYvUsRv40sjsA6ihDkhiXELV9BLjCzOn0YZQ+uTXEjDTTeu2rraC8ldGCyjHMLN9ppa528dPcXI92PaZiEyNSA6MlvMLkbQpRSQ0+Hw0ccfLVZLVf35n/vq5eNLbTnD1BtWYIAVoDgPYKilfOUrP2OANnv65JPddueqz37iLd+PqZFimCC7aLz09BopKg807SmD9beIoJ2niiSjktYlE4H+ADTrl5VrfldAZ9/frP8is2r/ef2R4244VWtNRc1cpGfBPwa/Fr6KJCXmDqebyYop0Qd+x07DAaHFoEExmnoKD42B1eE7Isa5vRWUNFAfGChZ7De/7bdX2RjZLgoqgrVRGGhoqj7twn333e3Nh+++v1yuHz169Kt/9Tdsnns00E7hqSIr2oSY6mffems5LqZ5fvLBx/d3t6TPW5CYIALSMJvGd5tfjap5Qq0j7cQ7sT8Gk+Rv4kwj8pgIXel4zNQlxxnuwjOUkEW76SkcOoakfuaJXllOgotnPeGk5WRnhZYG7XbS68UZddMhpY0F3Rhf41KnGIkbg3tOsqoo6Pr59ihgqj22OUo6nvD8Lv/hNccnBJGRwRCe3SFbMPyjCZ+1Blgp5fnV1c3N3W6zvXxw8eorr1izEnjdCiDAbNbjpWfJTfXV118/uzgDcH19c3V1HS/uWVaEv2Mznq+QC5NTpJgG6ky6Zjsx6HjXtyEWHJHxKv2YqEgkfgrtU4iFIpZu0VNtOQoxkm4LV3esVvelylGnSRT6eVb3sZ00NViLH6LxX9GTyplRsmyvcPVklG19KcxQpYZP9mWIvKZ7OwO68CPs3Ztg6XkmkmBrZvkm1sd+gQbO/TAYrGlzrb/6MqFQPnzvvTbPt3fX++12rNXvOPN9juMdUoXmXK+aQbFer8+Xi7FIQ7vfbHLkhHljSjN1qkZVe2NeWDPcd0lQFPGwxlgh87eL9gkLYGY4Dgrx5NTdmYPSgPowQzNaACFfKAC04tMCY2Cwt7LH+jLgnLtQTRgbub+LuCP5kRhTzUwm4yxm55whZ+Yhk3UkfvfHtnRopIs22IldUsSoOcJa4xrLuCdJvaBG8bwz3RsEbOapSi8zq0G7oscMoIiUkO/6KCzVd9957/z8YrVarc8vlquVmiq0WMfALP2zSCiddpumqTV1AeC7775baoFAgvGGf5R55iVZzzZEGdMsox8d8MYp7elZsi6OVyIFcxAbSDgN25MmT167aiMcvkCNQVL4TnQHaRkjfB/64Oc+gDS8lAgDzeoJT3T0YP6b7lLSqzAaqKxDW8AsiCQD1Jz9O86rMIvk2roejUe/rq5LcdSXs86OmNFHXEYO6DuVfH28YWJQZwg22833f/B9X7W//tu/vVyu/LQESNLsyrFM9qILyVars0cvvrCf5+Vy8eFHHx0Oc6bIURT16pSzUuoL6jYCKvrliPQasJ8VzWQ9QniHu/AwG64jbEc1/Kh7oCg4SUaxdPUgTFys5q2K8XdmLQ2oNyqZHbnQiON+8IMW6csN94PZep+yRcuefcT0YsBMLCxGAHH9IOKaAyeFcyEaAWEJb+jTL8xAKxn6AhlY3EvpHBPZh6aHhYmg5A7nwVLSnAQmcX199fTJk6vnz+swfO5zn48NyBPoS9E0GCPV2XmWZjaMw0svv0xyv9t9/3vf2+33xW97iQvyfDUaTOMiNaQVkjSJW7ICqvj4lqAvUv9iJAud2FI6ciNEap40N630omkqWZoJUBNeOkKC5ZzRBNbM3e6fC8CVenReifljTNAvjj/2loarOTpUx67aGiwaLBxLJBrzq1f9l9mcF8pmBI9GbvfvPuJXu3KYYNy3yOOqdbFlPEEWOXpC5e4nDxOMuLq+uru7u729Wa3WL7300tyawprZ3MXqFqhWLI3JE5BSHj16ZGZNdXe/0TbHzHTFEL49AHDGOc98eEzRDPFKnwpVbq005BF0qi2TJor0zYmtJZF5IHkcHkrEzQFO7mn8IO2RNhOt+Oj++WbJokXqHZXZ8CdpLJ7IsRN9QeKVwgCKtKg1phoaBKQUlhINzP3uyIzl6pcdATEfnCUlCIi2J+dQ1HVz0YXgrL9EnRPJHFgncDJ79kxLypOPP1ZD0/nXfuPXX3vtVesSPpjBmmqyCw0953YMVORLP/OlRS1mdnt78/z5FeM+OjXTmLDH4geqRKYuRrbYvagfFw8FLSiK2XwodiC4KC5SfDqeCB0Smnis7zx0t+g4//GSUiE57obBnmsQISBCfa2e1jlaPJq2uSKBfrNRFEsofqVmVGYYDkthOVbY/VRIMT32IO0oRLzdeCRuQXcu3m8djE3SE6krglozCdJH8qeBiB+ZITLJIiKnWDnP5L1RUJ0P0w//4vvDMJ6vzn7zN34j79ZAodQuhmAImEAq6IJoM7PW3nzzzWEYYHj29NkH773vd5cUKW4azBZDb9hoMTn6BLId004eTzkAH+WoRjA1/8GxKHqs9hpX4TE3t6C2g6txcbt0zpSefzH60/2YB4XlA6hCRhs7ktmgp5hUjTiuPlvDr3VryAlfESTi9+4P/ZCqZ8FUuBbX8sXN/FMZlRYE09IlYBaD+8MNqLLF/jrIDYY46rSuTEpN6tHnm5c/PLgNpVzfPP+TP/u2wF549PiVV1+e57nlnJUeEeBzI8hMwuPftNnrr7/5yuuvQXW9Wl9ePkBT92rmNyCyR180WHRguqdyS0JoftzXaqC/uIbKe8h6sGytWTotBagm6tKB+Jr0xl7/NJ/W4UgrDprmiTOD98sl9glUJenORU48vCkgymgrC9BOS42S9ctoMxnMZMJTQCTPam5E/sQG+K0MwWni5DWOVEsE0/jEoIGYZGmgETt2BxHWO6kzqMfwB2BWBU1EfvqjH8+T3t/dv/WFz52dn9vJkMZg0zz787/x2zLjOJra/PDx41/85V9W2LAcpFY9sa5MMqLNTCKxzve1DvCcGsiXTagbGfgxNzp2nvTcKbgdTS42oMIJrINlV7dYaA4IC+UdMnNjFxjGlkSSFzZkeZQR03LB0IBYxwrpHEJXjbgKWC2m/UHh/et+Q6HmSB1YDgxKr+PGY7FjFg2jWd4wJsHuzkuPiXI6uhQrOVrsTpIuCCfV9E//+E82m/u7+zupBQE2+ypEttlPm7+Pao7YAZrO93e3tZb7+/sf/MVfkOx8nPfoS57O7pY0pIC+Q66KCSW8ADmvBsjUJFyf22t6teqgTegiebfsbkD+G7+2Ka5JiJyQ4cyBrFYwnU2iS7Up6/7+2J6uU+gBv2OrMDGXK3oUSN42MlwP13RPHRL1yMTib31ouJlp833V+IKT6OKgxr++J2uIZDJvxUSv/J+6vliUPtbZjORhOnz48cemWuvwi7/wCyVrnapKiLFA4znTW5mvsEhx01aotTYf5nlq3//+92lQzeJ/lNMpWexzCOymNWu+nEbe657Ynz7lYV6MCM2OnfwKX2KZzmTR2xddI067Dz7W2dOfJFHo3M1RzIE47sf6t9FFiCSLETxetUqIJPCJQOEJlEvv06y8RU5plnovd80ty42kExoifqdUWrcd89fZnHd1jXjKff6y/jDARLg5t7Zo9/V9FZeh8frq6ubmWqS8+dZbP//zP68xQCuaVQjtjZqti7biwLiOXhZ1ePvtt13Q/vGHH03TgRIWrNa5VTu63TjfJEPg4HRe4iRofqmH4OJX9UTwJQEVWvK1jl81WyAdhwZAzhNcWYp49UOEzHxSMllzpJ5dgQhXx5PhXXL3/Oluc9tsEsTIKJEixfkwiXF6sdfm7+fwPshA5ONkkCUppbTWslM2fWlriLB4UiFAHERkPp+Yr3Md6JHScoIbDccvAC2iGkap3//e97abzers/I3Pfubi4sKnnznd7Ux4p75DFhqShDxtMKh+5rOfnZtN07zd7zabTXg0PwjiWAcNNnt7khfuVJMlBbLxAznAyR06Dbm1jCexqB4F5s6UOCCbbxrBvIvSHauDeNU5zcLzCCkdviUGQ4C8IE3T/lC3t3eo91tKrQuppQyLWocyjGWoSbcG86PiqBvN6SgNx9Ufxd3IPE8wI6WW0hVqjLvggqnph8P3TTr88LJ0gm0/qZIaPX8N1RhE2VGWqpUahYj33n332cdPt/PhN3/rr9ZSW/Or5FpHgWoGtZg9lcE46F6awJrZw0cPL87XZrbdbO7u7lcX5xqFfl9FgVCaWhY4TlyYv19M6RFG2Gaml/4dGp0MAVh9tK/6SH/kPTAaMesvwb0Ihi4rjUQ+h/lbTnpJrGOnFE2sMdSsstArS/vdVkSG4TCrmU/VrpWljnWs41JKpVT3Pv7h7jtU1TPXHvL3u908z7XW9fqMnXXLRECkwBNWHneXIv1897+0hAgwNFUR5gDF3KtkDEuhr9J+v5/3h4sXHuP2/pd+8RctW4g8ifJ3dojgUuu4FsnhhoCOLJq9/PIrL7/4wk/ffW+73WQhnIRla5ZBSTvqq0TEM7QOklVd+wizrC+bCnIUHDsN5s/DqL6Hizeq/4R+Xi0OPQQxoMCKiAUVDYR+wX/vN0aJQGZVi1tXYiQVCVOtZPaHCqBGgaqiaZsPTaSZ7RQsRWqti+U4jrWOMoxFBoJKVJHMvsx/9DguFwtDHz7jhKYeN5XHKg67PXpFJJK0tKHY41jccIGWsO8IQxyUFbl6/vxP/uRPPnzn3Vc/8+aLL7zYh1uG4ZvBusg9ChIhMiRLqoEIG8cBlFn1yZOnTz755I03Xp/j2U1YYlxwkI8dQCG1p4SZSCB9IX1AWYk0PJvYDQ0txlblIDKTwHFANEORjAJWnPRYDv9c9z1kUZiZZui29ABJO2Za5G8tUqrt97YayjAWoc3KQmsQEYECLJAGhWmbDtNhvyOrFJYylCrDIMOyDGOp1WhSvMTbQJRSPGAHunU0laf5eFUAMsHst5kd3VEeZks2Lq3d/6X42ELNg0DUwu985zsfvP/+xcMHZ2dnpRTrXD17fHNmQyniHxupi2e5AVVssVgslkszzPP8Fz/4/q/88i/PNiviJnFJekIAg9VgtDWmpdJOaQwhNW4M8X5CCKWhy6M9QoVhq5lDDQ1/wHSQop9GZ3AlneUhgama5zg5RNs1PzE6lK40VFAVlLp78pHWoZRShirLhdSRUsp6pMncPIk2kVIoLrF3eeA8Hdphp7gBCilbTucvPFqszq1N07SvZe3aiA66T9xyjiPzDVbNdCwuus20Ljy/dFN1AKTWXYSF7cdLarPvf+/7r73x+vX1zX6394n2dkwUs9qYuZr4F2QNaYa682iq43L50isv2Xf+vE3zJx985JfHhSJIzQDXTqhlpdmgREVMNqCIt/u6qflAcNKTORrJEOdAYiaYCOlZePE5+mosbDDTVuLmRRWRMN+8iCvoDEPvqHVwKeJlSy2O8M2KSPOQLqK0ysWIZm2adNrPm7txuRzKsLlFATEMMi7LOLq3kUIa5maFRJFiYqY+1evq+QfPP3mvqa7OH6zP17bbjcul1EFKXC1vLqPr3J9P5bVkKtDhyvGgo7v9tNao6OTXEmBeVmBmu93u2dOn0zRvDodf/as/9/jxw8PhIBR1Jg3wkX4RLMMDBdJs0BIXDRlIM/2VX/2V3/3d/+EwzU+unu93+0IxGC1vUYtFDnjn+VWjoRklVCgg8m3Tis0iK016Qy1Ux8kceOnEeT3GogEKExbQ/ZOVuLYuCAOfnHCMgjEmQZkkuJk1VUMfX4napkNcsz4MldLarIeNNZ8zrVILa7VxqKUOi6GOCxlGLQI1VEEZx1KXUq7vPtnc3+02m+39/f56yVKHOpTFsDw/H5ZnKFwsV6UIWcSBPRju3xewqUE9buemm0gJVJ9uP5w/IyBHCEBc59ZU9/vtzfX1Ybv97GfeVNV5nopUx4S+KVKkOUul3iIk4TXcW6jlyC/+/C/8wuX5+dOrq9vbu/1uv1wvVVV6xmgCGItYm/2qN2Qi49DKzCgMaYQAiqYNgN90n3O/8nYgd9D+MqaNKCTMahoEceyhJWlg5I+xXEpIgzoZAHERQYf/+V2eJutMKbWR2mabZx4KQClshIgUXyhrOs3zvJ8MexGUAYPU5XIoA6TYUFFlu980a2VcjGqTzvM82TzPh4PtsLu9Zx208uHZhQilyLBcylCG1bnUUT3eu2bBrJm2RlWV4iiQdHic4IjHFwhX1+LyBKOItba53+y2+0fnD37mZ77iZFxrM/3CyMTb8K0tFIipzmbF0fAxOULTNgzDchiKyP39nUELRXU28YEVYj5FTxUWkx5pOTnD0GAlLNopd5o2ImWpFqZqHWCbAjZIMbOmMbRB1cK/JEzwVyiBF8GQE/oPAdUYDaCp3kqsGwoYx5YghbVATVjO1irUaW7NoG2eJqfLpEizNlNYSplb2+8h5HYLgAIUMWA67OZpYq06tf00y2Ipy8FJnkawTdvdQbYbljqMg81GaF0um1Spsr44q8NCpGIYSpFaxiJCORU7aVNt2oK9IPrVcz0iuNM7HA73m62UMiwWZ2fnBrAKGj2SFoiiA6LMhRw9uWuUEyCp9vDhw+XFGs+e3lzf3G+2Z2cXDiyY35XKKI/damZWitM9IoIcweKMSh49MTOTEFMcg1Un+pDdR9ZUGCEovpCq5n+ORpFk6SnFvNJVSoubuBP8HKeABIanFBiqVhErOh0O+52oqqGBRqml7MU4T9Smpm02WlPvvkBF1DXUpoNqQ2swQMrFos6HDfa2n6a92vLBw0rO014vLjlPk/nc0qa7/UF1NLt7IhyGoSyH1ViG4ezy0oTr1ZploBQn8QGnOPt9Ea4jcHbA0RCkyJMnT+7v7lWbI31rTbWZslbJfNBAshwLjs4TuNAPGlMCCKhZrXW1XAqorV1fX7/y8svxT2qgEqJqLPSmgcwtfONYwEZA/RJDURilBKY8Ei5GViFNW3IJnnGh+Q3V/SeaGrxzOKbD0kAWMmQ5BYguQYcFqt7ZoT6BGYBPl40ZMkazqtvd5Fc+jkODzhRpxnk+7LdtnmjGWiBVis4sZRgx7+ftHVpDOyhkJigFzbCsRYjtDnaAcZQqavrsw8kgkH3b12GllFpHWYxCwWEHGhVtd1C2ab+lyM31rWo7q7UO4+rBw9XFeRkroBNKrYMUoV9H5hjKBQYiNBQpH3744bTfH+62L3315eVqqer9F22eQ6uEzogg70sya6q1hmZNY5gfm7ZxMX7hC1/4s29/T+e2226dK9WAVzofKRoEUeHZOdjLmB68W5QxsyUyeSvAFC2TGwbRlpROEodB95m6dC/qhx79RNia+nXWCA26UmlRG/WHy9jFpE6MJOq03U1mBdogTjWbCErhaoSNetjrrHqY2nQgtHEDmgwLLhemC9sfrE2cG7RNNzsVDuslFysFtM2kVLJNVgC7vznothXMwziXYW46rldtGJoaRESKEhWY9rs2zSwyt6ty9XwxLhar5bBaTuBiXDw4P5fFwDJAsu/SgZ3Ie++9+6d/+u3HL7344Twtl8vI9wihhNgU8DFz1jI79nNZShw9uCQKjrNqqZ/74hfV7DBN9/e35i0ugSpEVasIDOJ1olQVGMyFcYKQ3obALpImb4pTmI9Gjxl97CPneCQcg7H3FkGFMAo/kUNaOr6QrEQ0oLm4hmJsRvO3V7AQ2lyXVii1VCqIMnKerbU2NZRq7VCMRVW1sRQWDsuVHfaminFs+51omQ+HZmAVlGpmAw00WYzzfsJhJ4rZxKSVOhzAioHLBSt0arbZic7TdjOXMqtKrVaHyTiOow1lMS7qcmlN2HTabw/7ndyVzTSvFuvt+JRFpJTFel1Wq/X5hQtFzs8vfvrTn/zxH/1Rm6bFsBzrUEqJRoXIx3J4e861cIafIcCFs26I8kxMQzk/X9ehmFmbm6W60pMulwV61VzIFqLpEq0sQZo1tUapHvU9ycx+PZchGQ0i0lrTEuJqp2hmqJCFVPFkx6RQjeZlBaZGx+mFIIyROVvcwFzEu0VdawQw5og21UrHDZgptLoQIQrm+5011XnWaR+thN6JVka2WYTalMOgs2KetB3UVMxYi047gByXIMWoh/08KW3eG223l1KkipTRlisx6DQJaXPTeRLl5ubGBNta787OVsv12WrBYZBCa3a4vVmv1pvdPYxSy2a7ofF5KfeHw2oxPH78wg///Hu3d3cVZbvZPHr0eByHzW5rRBEAxWFhLHbm96Soui7F6yQCaBBmZm2ez8/Oxlq2282Tp0/BvHgATaSmIjUrgm32u0/dZkgH49b9sJN+h8MktYRgIiivIIyy+h6epukxsDvfoCo+x6hAaJi0SfU0wSeHmJm1loSU6gxWTybVvJ0B3TjIOg0Vqq3NUAULWjNoWYxYLqWUdtjr3Aht+wkwnWdOjUVYBqllpM06csQgxKTtsKeqDANFainQJsuqKKqzmRymvamWuhDS5r3MczFKFbA00JqtVmsTVBLzvHv68X0ZtNTh4mxcLGVcQIoMowBSirZGopludxse5JPt5rvf+e4wLA7braq9/dorH7/3bqllsVhMZnWxjJ5+Cb4wKJqgw90rw7dfpI/z4sX5RZG6ud88+eRJtNVREFVuNaAIvShI+i2ynvGzNffRPrc7KiLe9EIpZDFtTZtXbT3wI/ko0qhZZgRoVr04ADAaHGGGIuLu32J0XYBcD2otinYxQcC1t5qcpJpVbdrMMAyu+5TFwsbBpn3bbXWaHT42kVJLHYfJWAsP253t9vPdzdxgtKEUGStkqOux1FEENs3cblVbsxmkUIyyqCx1JUKbp7afXFOtk4hthSArbJZaTdEKZFFhhTofrp61UpVyu71fnZ+vHzw4bO5kXChtnhTThNVibvP102dDkW1rw2Jgm9/9wV+cn6/WdTCwURt4/uDh4vxhGUY/2QDmZmZWh8FPlKvDXczvwX5YLEQKgLvbOzcaNxhFrzCYKiA+yxsWOm+qiJkJpUG1adz2oCileE3E1LxU4YS7OJRvzVO7pipSoOY8XXUiNmj/TDsjMbPoFAIAFPEoAe+v8EoBChHRrYEFatpapVlrM2eqcUJjKaXNgLEOshiLoR32NjWdD/v9DpAJBikyDrJ6OJRBdzvTGbNiOqiqcmtNuRiGiwcswlntcAAhbca0wxTsBhfDuFyaDGPT2WbdTzDTaY/9xFoKFxxLBabDVFhAK9bQ5unqcHN3AzFD0Xmapulus7sptdVha3qY9i+88sp6MZydLXe7rYhpqdvt/bNPfnrYT2cPXv7M579cx/Fuv3/t1VcxVJEqpczToZTqhL0qnD700uRyuWIREpvtvXpNAmrazGmOED42ZK3Ok+lofxBRj9M9kptRRJtq3r6TtYReQHOxF0SKi6XcFL3AmC2DTlaGNt45InPmSI7d4JEgGoXSzIQ0Wgm5E6tI5TBILdbU2mwzrTXMk9SitbZmg8LAuhxpgxqgTfd7GYpbqba5AiaF6yVI0xlNG8ihtt2+HXaYDYSMg0ix1QVtJocyVtvv583WphuBSSljGeYCLtZWBoyDbfe2vS9N/XIQlVoKIEVqVRgntWZoc6E8XC6E+s6z56SMi+XNs6fl8sHzq+uBlHEhy1p1cXH+YFe2dai7+zu9s4+fPZ+vn9fValwsx+XaDttSyurhYxsXImUxjqEJVV2tl2dn66ur6za3GL9IKUP12lxUdqIBF14aMcOsSkKtMZW3LnJTswKIFFUtIumRw9EE7xoMdDauEaWUpmqCQjZTyfSOkRB2q4Hw5MJ7mjbXhmXLcVb0fdB91e2eTDXZsprQhMXafJhsavOsJFqRiEyknK0bIW1CU5tVW4MpDgczvwaqjMtFM0JElkto80uuyzxrIdBUJjlwlMI6WK2tCKdp0tZ2rWjTIlIKiKEONnIog6naYRKbMU+cZzCoxlIrliuAbO1u92Sa5t1u9/zqeiWiH70/PHqwvbEPP/5otT5brR6drx8vxpGFu/c/KOM4rFfz4bCdpu3tTam1UqZ53sNqKQ/PL4fVSmqhyPnZ6q03Xn/vvQ/2+0NrWkR8wzRBnGMv1zKY5cGNwQA9C7OgYFRNRHUG0NRIExPEvTIUKWrNByqoKTt3B3cjZI7QpFfsYY7VTL0Mwaaz5ylFipnN8CsjmOU3wjUAFIVVni1lOsytsTW2qX9CLaMMC5Yiczsc9qbT3FQU8+4Azk2kDqvl48tSh2lzr/u9zc1ms/nQbm9ChjmM5eGDoTU9zAbaNAE67/aY1IrpaqlliPnxzYZlgYFtFpvmphMJqQJTbbUKZWWm2hqFaFZKZYEedjI1ofzkk6fL87OmulytvvKFt1947SUFOO0Xu818f/tcjYtxVpsKKzgdhmGxOFsu6jCOpU7TPKnqbnu321Wz+fkzotT1cjEsxuViPRYA11fPN3e367OzQFhCa9meBSseWO2oG7DUYOJEl448vtrm/WGSUpyCtqYi1YVwzjlK7KP0XlfH+9bUmO2hpkUEKLH91kXlbK0hihYmLmGiNxa5nlRgWhfC/TguBdp0mg4ue/WiD+dZDjvoPMiIYajLUsYRUqbdVptBcbi502lGm0FIHbAYh8u11DptNmw2zzOubzBFs9cwDhgXw8NHUDts7ts06/YOZmZNDELFMJYHD7UW7rbtcND93uZJIOZjgeo4LKosRmqz7YTDZLRC3O12H15d395tt/f3y1q/8pnXdTfrNAG6GmjDAqWyCAoVttlMZbv/5Mc/+YC2PjuXZhcvP7o4ewBjMx2LQEqbW9tsD9gutuOj83MAT58++9Gff+eNF1+EyOLsrAxDXSytFPempdTMoPz6aLY2iVMmXR4iUkTQlEKzUqvVOrgdI4aKZpnBaDZHI6Sz+hR1laGI62x9XJNZ0OwiBaE7ENI5YyuuvoaPnCPRLDJNFbDqZkfYbBPGsS4XCupua/NkDWIKxUzTaTeMVVjmWWVgada2e1dvQMhSICJVWAoms8OOB4U2AQXQOrAUGRdaISbT7cYOBzvsXRFhJlpkWC21ShFrd/d2mCiYWwslUl3oksNyUaVgv8Nuw7mZoXi5SYZPtpsGgWB7mF58ePnS+drm2VRhM2Woy6UUKIH9PAjXy4JaJ9NmujNtY93vt5vnz4iyVzx8cLleDovVGcBCzG1+5aUXKfL8+dWf/dm317/ws63ZIDIOVepQl8thtTSp4/p8qGKkSFW23oRKUrWlJMArcnAEsBgXFC96WNCILprIEaWqRmgMhC8gqaYUisk0TXUYUrdpIFWb+ZX0XnbN2RUWOR4BHwNPkE3VTKuuBjMzq7bbc7NvkfbNTYW12DgM48BFmTb7NkNv75znUH/MxVCGGrXwNpXp0OYJcytulXUh40KEppTCdpisqUyTQlEqxTguUYdaynw4tNuNVtYylmWZ9VCHUs8vIGKHw7w/zPf32hqHhZRBShWjQupyNPLjdz4ys/P12W6zf+HRg2G5UJtkGOvF4zJN7fZmmnc0glUEUupUxFqT5eJyvZJpsv3OSjnspuU8Tx9vrwprHbBcri8ulbJarhbjME2Hzd1uMSzudKvkBNh0sM09WttaffDo4XpRMRQpFcZhfQ7ouF4H30MRyRs2XASX+q1A3D0ieL0cKRbyVM3736SkA4eq6tykFLi+w7PGUFjEvpuKxkSPonaitomk1epInZtWGez8vM2t6jTPDbIQqYJGnbG7tx0ryFJ4viTksJ9kvdhPU5tt2uxwOHipUkoZaimLWkQwDMM46nZj9ztphwawVFUrQ0FdSBlktTSTdnenm3ubtZi1g02yB2UYxjLIsD6ft5s2T4I66QRQpr3NbLAJxDCWaarDuJ/m29sbTA2wB+t12+/ntqeUuTUxLVKwPG/TLFVaa21qOk3aZpv2envrfGJZrMpYhlVth6ba6ryb7/b3N8/uNofd3Xa9GO9UP3z25Or+tog0m81QF0NdLE3b/vntbnu/3wFzG2qVYbTn17WOpT5bnK1mlCo2SBnOziCllMIo+pnvvVBaa84TB2kEMe9tNitSTEpTdVaqlGpmy8VibjO7tlODFQ4AD0ZpX0gUS0PwQoBFr45V7iayYVaSrKJS6tkIoc7G2TuHZW5zMcrcAJNaxqGgzYXcm6KIjYMpClBNbZq0wCbItNe9YFxgvYaOowzTtME0zdMk+0nLzjY3LAsasVoti6DUdjhMuy2azbtd2+nu9q4UqWOFYLy8EIodDhS0/VSMNk+Y9zYd9vtdqYMqpv3+xQcPFg8vsB85NTad56lBUSnri7oYdb8TFW1zhbbpILMPAzEVYqjTZqv7ScZhGsYCnEu9XC3fs5h99fEnT64/+mA1lLlJKYWLYXF2vjg7nzm7VoloOmM2CG2epjbt2hNs9vOjh+uiGM/Ww3JRF4thtW67qS4WHAe2lhM/zEg7ubLF1PmWvAMlS7Gef5VSYFTqvD8sxgVcWQs2bSJSpIZSSIoQ1oz0ShvUfACaVSxXpR2mNsPMDiqwtodqK6WKDLo8U2IsaPuJbcbczOYyNVMjayGwKLa8ELBt9yzSDjubJ1B1atZUmlopslzPEMHC6kBjMbN5hjWdDxwWshwLwdaENpyt4K0LzXTaq6rVUodiptztnYkqiyVgIoPObdpPtwddLVe3+/2D9eqtR+u634kqVwtTra3Mi+WwGO3ufn72jNpUBh+Fj1KtDlzUenY23d626+toO9weYlyLyHI5XjWdWyu1PHny/ObJ8+X5yrQ1Uo038wezaRvq6s3PjoslRYbVCFWoFbG6Wu13E9tm2nBvut3uyjhSbBwGMwylyPllXSwWi7GOA3ykevhpYM4sHGjTVMoQw1tSSWGqoClMSlGiSqGxAVIHxrjt0IakqiAmUZdQGmo1kZkDFitSeZjY5jbPrl7a3l/X3bYUAaUuRhkGHRZKiGmbm3EUgU47ffbcYFaLTUWEGM+sUsyUqLXMu0Pb72UxTvdbn7PRirAUMynrdVkusNthv22zEaKkckcWk6GsViJlsV63ze20P7BwULZ5mvd7UFhYa71S/PTDJ5vt/WGzW5+vL1fjvNmSmHc7qEqtZVYc9gDqek2TWWfA0EyatrbFQefbGym1jAsKiwxOtk/3mza36TC99+6H0zSLSIM+3dy99sqjMo7t/p4HXcoMIU23775zJyJDWZ5f1IvLcbkqRDFrOpehmh8vsblNhWV/aCRb049+8P2L1erywUUpFcK6WIzLFeswjAuW6q3MtdZhGEJrkdHeYr49i5mWuJbD00QRCivMyCJgiz4A13yZKzMJJVmnu7sZlFIIcoDJgqul1MI2rYdB54PNClXbzkqHbcIyYDEOtWprM0YD9TBPbRZtBmjbk2AdZCht0jKMthA9zGW5VG1sMycXBremrW33RQQiXBQFMS50v0czmWfMTVmm+7uhCGs10upYhrFO+7bf6aQVePrJk9XF+aFNM+6/+Jk3L156yep42NxzOrCZtgnTZPMBrYHAaj0+egQR3N/qrGxqrWHWed7rwWQYZClcr3CY51rGKuNyeRAsV6vFOA6L4c/fef+Lb7223AEGjnW5WkbNhMQ0Sf3/FfUnu7p0W3oeNopZRMRXrGqvXfz1yTxFMlMik6JScnEBvhA2DMPuERbUENRgQx3BgOCWu7apBqFrEGDAHRu2SFGHSR7myXPyL3a9qq+MiDnnKNSI9VNXsNde6/si5hzjfZ+HDVR2j8fjERFCyqdp7tfbcHGBREjBVUQdQZyRKbCZT+cas9vJYbmoOyKFnIeLK+yzinc5pX6Fz2ZlfN7u4vMVzRQJHJeiOyJhQHWjhUsGiEygDr5c556LhT/nkQJ2Hbalp9egIHh1RGJ2BHPkbkAOTKi1ogFZA3NU4amZA5lG4sjsl9uUssyzzMVqRa0ggq0YmmOEwPFiw13WUqw1RLLWoFVTdzBoggGx70LK5kbGkBGc0BTNoGmTigA0DMCkUnWajJC6DIH3peKiJev6//DPf2nmstshmiN5SoG75QHS6hSvXlAI+nBn84TgBhwYBQhz6DiaM63X9XyU+0eQ6kyIKDOsUtflbrPdnM7HT4+H/f7crTprTQB1KWCEAIghMvcdtealEqg1l1azmjzd7/ZPHBPEQAhGFPuec6KQZRyBHK5uWhVCJApO7BxaKbsP70cRj+n2+hrxCQliNwTmmDLF5IjiCmZEgUNAcHVnZnw+pdvz2nXpbJgjkoH9+8jQAqMOvL30eQY00WrVgrstozoATMkBXE2ETDxGstgHYpfqUq0UVMc+AbGMJzkemagLwTa9w+AGMp6ICVIKwD5OutupivNy1u+gW0UmUw05WQxtv5PHnboTGhIZRUfkwNANxtRdXLXDoTztFiitI4hXCLQr9fOHj+dp/Hu/+Obb19fWBJi9qbsjzOLqhBQyUNA222QQEq0DlgraVBph9DYvkiKZJybinKHrBMybIdHxfKy17J7EXAOHx/3x9XZFjuRAfTZTG89VPVan00gIwIREGAkBabvB8+TWrM42OYAjqR2jIznS2exdKS+mab1erzZr1VZHE/ftehtiZPBayvHp0cXUNMQcyULsU59D1yHFArperV0FmBYgV+Tw3NVdNnhuCw7F/TmA1VpFCuCORKHdPziCMgIxpwQ5kqiIQEpeqo+zaQEgR9eqhskZKQQPKaTBYy6lYCleKyG4Amiz2QGJQgq5pxTBAWpxUFhcrgYqFVSZ2IiQWdGtTBQCXSaoplZNDB3BTM0BgTnM799zoH7ogIKYKRBImc/zx6fzcHlRAG4utljNAZyZwgC5R1CfZmkNRAFAdnsCcAjEAMy0WcfUydMTg5mp1koCIAYBiZi3m3h72cbz/eEkpThzyFlreXza2asrUeXVOvSZyiSJySCnXsC0VjTT1sLQUz+wixMYBohIFOrCMGqCCDSkjDhoaQ+fzvun1uXmkIaBunRGWA3rUoo1wXUPpgHJrRTx6jhJ8/0OgM+1vLp5QYQeY9d3BGgxAjPFSCkBEi7lJkJAJ0YCRFsgLujuwcBUwVUB2EBpZAXgGFwLpoRrAstWlUxMq7cCGK0CoglOPs0IgSNBXmPIbuJ1ZgXThlJAzWdeInpASF3nISAHHI9Wq5l7a+QCraCjuShxvri0fosqOhYjNhFrAtYQDFrTitTlNKw8Jpv44+54au3i6oZD2q56dZWqmIiHQU29NjOjvgdHBicTkOrqGELYXqqIHfakzRAhdSFmN1C3EDDfvGxlko8fD6fz2axbDaU0M6mIChC6Pl9de5lk9zTXAkYpILaJKTgGz5y7HIbcnp7KNKKBqQMKUQAMQEgpUpcdwU5HAsgxg6PNEyJLldDl+TzBMOyL5S61KZsDxcALm8GlihCAEano8fHRrBjGnHNgopRz7gC9Ww2xXyEzM6soh7hAnRaQF1EggIAXmwjcxjM0fYbHmEMVN9BxJkbqEm2HyAhzFVUTRVFzQFOXCQxdA3WZ0UJO6qKJmTqdK6iSu4gCUggBU2ADLqM7Wj8sh1Bzg1rVDLst5whi/nAPtT4f0lP0PqFHRfBS4sVlq1UOe68Sid9/+CiiKXnU9ptf/QnkHNcZiWw82zwvFXJtoyMgBUDkPDjCsNrKOPm4B5ElOktVFso9EEIa6uFgrcZhtT/Nr159Cfj54e4BwbTpijCYyt1nI+KUUkqujtasmUpzRxRr0yx7YQoxdwbE6K6qImCuTa1OcCJE5xhj17GBEFR1BCCD1hSlHceRDewE+4c7jYmHFa5Wqe8DhZgSIpqYu4tpa4revBYjDDnP48xI5/2u1ArdcDH0IeVutQohUAy0/Pm1OlHwIkjKKXkEZJTl9CtKRCERRUAxOO5cLTA7U0zZU1YC0Ca1xK6PIl4r16Joi1jTkWOIoescgXMX+h6OOziN2qqaAjI0hKWsFQLESLkLm3V53EGtbupEz/5naeAnD8xInLtWJlLDroeMaPru/nB/90mafHV9tXLUqdDcmAGJ0sUa1cosagou6AJNrVUjP51GDgFjhJwJkdSYUcYi2sjcDkcHoEAFw/fvP79//+F0PucuSWtIdHt9qa3ZAmBhXtYltBrCzUZPk7YCzc0UDEwMWgMgTBRWQ06dnsZo4p5F1KVpa1CLO3gM/eVNuti2x8clwi6qvgwQzWGaXKQb4vjxwafmIeLQ5+2FKQijAkZmZm61+Xj2KI05MJUm4/HO+j4wx64PgTmE1PWcM8WQcw4wzYYuSyQHEZmRCFY9dZFrs3J2qSQLm0Jcoc0tMhMQdin0qwCgzNBlNNBWgupCrMdJACbkiPPRzpmYrc8eA6j58iVTdRFXAUMeJ90/xZgshhASBKTm6C5zIa0uSgiiI7pADOxIHJUC98PrN18+3X8eNqu+i9YUrC19DB2BAsWuh7RKbrXNLODeqDV099bqXIGZ+z5dXmtrboaU0TQYtlasNQQtTZyoX69daqkTY8jDEDYDSAvi0pqFkC4vEaA93nuT4OAUOBBy9/y5SNlSBql6f7/cqhw4UIAcAMwRKfdhs9bzsfz0o4pg4IAUYrJAxNkM0qrr16v58T63aoDQKu6n9vTgIYzDCmNuRBRD6ntCnKcx5k4FnFMKRhyaFJkNFxzLYQeYiCzmLhCBPsMNERXM1aFBqTqiEyNHXnUIZNqsFasV6TlsC/OkS6kE0ZglZry4QiSezq7ComAN3NBM59mQ3SUwaez58tINvMwkTcpM5gSqQCDVW/OUEDMwk3nXD46dLRSXOnEzE4WUKWdjMCITnU7T6z9dD12eg6ix1kqAmAKE3rToYVcNAz2bBbFbuYmWyqvL1A+mKnePUAsFMGAkauTUrXAdpiZ34+9Xm9U0lv3+SZtsV110ldO5IaZhM7z5WqazHnZWKiIwoampKZlZM1pvcBioVtvtVZXwWToBBN5UVPhiPdy81Drr44O1AgiQchURUy/nBT5GFO10Gs9HCIG4czIzBfOAAK3B+ew+IiNG1rlvOdWpCFhI+Xw+sEPfpWVdgxCMAIkggKrL+RjSmzetNZpHAm6nUyAXNQJ2AKyTAVoL4kA5537NSRDRm4CpNll6UGZOvILIKCatqijlrJECqqlSq6HOFhKklblJU797eg6IsKc+OwRgBFF1wBRITVvBZmrNl0agowUKOfrVBWOwVnScf//j3efd8fH+HgG/u7rE0x6a+jDk169NTI4HGM9guqTKwYFEzKSC8GpItxdSa90dQBs6EQcAR3CpipHypuOc8O5hnmelUMYzIjCGv/jmqy+uLwQpby4IvH766HVyNeDg8FwvIkAIOV5daW3ysPNSIRDgYjUzFzer3A+rL944Q7u/k/GI7gbASA7Qp6yARsBo2kwcQBq5QlNDJGZ0dyNfr0JkPZ+WLR018XoKjJEDtFKJvBtM2mlfnUIMkYAoMngiIOboIQfZHbxNnDIEp8sNAUb3djqrGq/XISdvGspk5Wx12eBiSJ1g9FWOQ2dT8VqJgp3PrrJgaVUKmRcizr1vbpBAx7PU2Vt7plovTt6mqmKxx7yGzDxPej6bNQJwDsDBHKwKcqQ0WA5QmtQz1goOf/jwcbXe7PKD1rIehtKt8YLZsXy699qQnICBAruAu5oaQby86nOy6WwPD6AOAIHCz7oLN+Z4vYqrHqYJH572+1Ps+nF/MhUGqCK3tzd0+SInRpn1OCLKM/3X3YncMXa95QwYqBRV4a7TGMEbmkF1EHTC4fUr7rvy+KSnoy8NJUB7toWoK8btJTDjPMXEDZEwuuFzZ08UwPKLmy6H+dNnbo0CO7KF+Eyfq3OIOaz7PM84jXYC5DijiwKEGFZD328RIa/XAcqERFqqThoIIUQaVvnVS6tFjyd9OqAr8UIeJQch02k6cLdBTC4GqiSibSbSf7/bQTMIDMMAHLyWNo4glRgB0AlpyfIRhc0VhshSfdprUTJFXBiZ5tZsqd5drPvNhZ9H3R+8NooEQIZ+mqa7T/vj/tDFsP3iNr95OT49+H4fAJwXEvTCFRSNGbuhi8SI7TgiKEcmVABEVwRUjjQMOUebju3TGRE4hR9PJeXc5HH5T1Hk0AVqU3s8OgKGBMTQdUAWHKBUXw00DHr/pPOISAZIzInJYvQQIQm7r1+9bufz+P49iCCYOTrS+TQ71NVqYyGF6y3WCvuDmCHzYqslAGTzkChG3Gxi5PrTTyTqRCYGVsEnZlqGH55YxzPUJmrgzqpgHpy8VpvPZ3oCprLZLGRjcjSOHQREil5mfdotUX9040BuYgSizWMI/SqAR3c9H1Tqs9uTARzcwNA9JVxfOwKcTzKO4MRmigBGy5DIuxRvtkBkKlYKNhNZsJvPkRFA9JhCyugtTpNPszLR0PHF1luj1u4e928/P+53RxH9i1//ydrk/P3fYQhxNRjTM+dqmhsiX9yAqe12NmkVIcpE7kTQd0BRQYA4rrd+ONjTXsUImYB+eH/3L373+9qKmgbmWoFCDIDeKjCCurUKQEBm6A0Yc09p0HHCnCkEq8WKEIgKWEX1kZiRqdx/dvC0WoN7nUZmR5FhlZEyroaccizVa8PcIYD6UhtVkOoioCaEtDPRAjlhTqCVGdxIp9ZKISYggVKYiIkDBSEwJEI2c3YwE5MGxep4DoLsKXaboc1zOx5Y3BwCoRISBV9w7iFaSinEmBO5t3mm1pAdiU1Q3dEUA2vXcYzQqh8PgASRsVurOKtKKabGqxWvV4xo09nOR1d1ihgTE1MIzuhNMEROEeYznU8E5uSowIpWinOkYRMvhx9//LgfpzLNXQ7/6Z//OjKrOajUkyAgBWohAAVe9SFF3c/E2UGWYmkTQySy0tCBEUl1t08IuhqoOpir2u/ud+vtZv8kOZGKOGATuT+OxpFihwCqYiJuDcxAXUvl09kYnJg5UtdjTyqCaFYVWzMVE6Z2CggKjMQhRgWlFDgnDkR1xuOBkFCsuaYYHdCYPHJ680Ubp/l4djcTA0NiNCnozzJPfnWbIsluR2ZmLlLZjHUytciMhLC6CLcvx8+fuJmbE2joV9mmGfbVzVO3NkQysVLBtNWCXZeGzIRUC5yPfnQH9xCNmfrs4F6aqHUXL6zOPFYfnwCdic0AFH0EDslizutOY8jr9fz4oOcj6M85LlcvM5MToDAzMzETqHKCLrgqWDMQcgRCt6anHYxk53PO3RnPtWgDSJttbbPPlRfctJuXGZFlGhs4xR6YsR8IKbiIgdam0tCVBAjUgNSN2ImYQjoiNYrWTqfTFIjnMkqtqs6qXqo0JXK8vAo3WzgfpMymTrUutGRsKq2Cu1Pgq6v+5kV9fLTWQJqImqlKQ1VoqrP65cXm1WuYxvb5E6kCuJkiekB00woAxfn6ehpH3x/APXCmntyzA1CwWiuBpdsbAJg/P7orc1JGYFQDdw3B3Bw3F/H2dn7/kc9HAhJmZA50OCxQughmtcUYPAQbVgaGyAEplpPOkwES4UIUZFVoYnPFgIyU+5Uu4I/ETL1rMXVGFFUGsjJBrYoOFOrhgEQ4rJCRVNs0RwAzU3NCAFVrjqUqmhMDJ08dQAAiZKLzBK4Izu53+xNRyH3HKl8NMcyjpwiv3/g0u9VWW1RFdxU3rS4zVbDZoO98fckLEzNndwExMkZrLpacWtVHObVhfTqNnz9/sp+l3aKKQD/cP/2vACiHfHmh4O3TBy0NGJHYY3JCc2R0qEXdNl98bfN5/uMf3cwIiAgNOAbqelTRVoebyxB7//Be5xkZAiEBG4KagasDYtfzi1vf7+FwApTI3OqsszESRgKK3HWxz8ixPj4FMEFydbJmiGKmRAwYmaBfzR/voBSMAQ1JzbUFUSMiFYGAbmpVvc5gjkQUAsdUkLFfM4GpoRQkRlUnJHKTBo7cWkBqhBwIUlZMSy6Qp9lUnH/O84FiU3Iv5xZi0pjjy9cphXY4YikGCNPoZG4KSK6gbQacvetCP6CDhkZpCExSzh/3+1KKmN1eXPRD0tgxmj18BBUE6lO21QDIKGqteikNkLuMiLLbYZ3c3JmQCFK2GIgzAe72+//+X/ybndhmsz0eTm6Q+9xaM3eO0dT+7tOnv77f/8f/6C/r8dgePz9LXMWAzJo4ggIyRQqZ+9xqk/OEMbCoSnVRB6Q2KzEhMbNPre3PgRxjiETQmoG5oSFSXsF6A62NHz6iAaUuMBgoEaI2E2ETE6VGWmZzpMjYZ4bIhFYrurGaLDgpd/v8GZiQ2QA9BHIi9IDXtwCG49RaIZDnwgVHMCcVbxWACAByhGFD+cLGM4qYCrgBGIEhCELgZqju6hwjxARoIbNy54Cu4qWA+WJJpdTjdk056zjOdydT48Aekq9XuFxgpoYu2K3i0IPMurtvzSBErRWZdqU8nGYzAVXOga9vcJpwmmkhL4FDGXmemwMxxxTbdh3z0ObZx9G1OTKSugOIukzIeBL87ceHu7HMIXURxY1jeP3mVRM5HU8yF63FEd3g//0v/rW09tWLq4uc0iYauCtKrS7SDFydWESMp9l8R12kgJZ6xh4coqlOZ3BgYFDwwxEJKiBR8MAWGM3QgdebhlyfHmEuyyxPixoAkhNHCIkvL9HUpgnVHJyXQ0dVA312uBDT7RXPtZ3PjsFVaBmPmLqrOghacHDgaNwgRkdEF6+FHJkMVB0QY4SuQ3Jsk40Hqw1jAiJOvSUFMJdq6pw76gdoAuVs02npAjkzcVQOPGwhokwzrbchRds9wWEffIl7g5XmdQYM4EiJIUfPW+p7m2eURhzMwSmAVTS7fzwqIgMh46bvqBqEaBxcBOoMiKrIrmSOriAzT0ywo9A5WuqzUFJEnWaXSuaHWf7/bz/dj8+FbY5RVTjgelg/PjwgQlONOa62FylGCvz/+5s//vT04k9evrgiF/cvXlxASvn2OlZpx9G1eVsmKW5lttmX9BUNF+uvv8HxPD/du6OXRWPly4rISjE3WG3iZltPx7Z/IlTOSbU5MZoRoqqIaLq6AoK6O2FrzsS5c1MzB3U2JXVjh/XG5gqHPZMjoC9xSmS17E1MJFxsA56PasvLB5DZmTAPzuRsMBdIKzOBabRaAAgZHcFaRUCtYmgYUkg9rlcQXHdHqzNKBTVDByB2NTVEgVKAQyIkaa0VzJlSJ/NErXmrhACUYEmbtgKVrTTZH0JOnIelyu1VSdHNH0vthvXxeOyHVW1Wj4cUE7spo+XOAYmTtQqtuKs1QwQhwzotTh/kKTCn1YBXr/YPu9/+u787A29WKzMdp6m1VqqcDqf7T/elVACLKW63m5xTSnlBhJzH+Q93j12MQLwX+/WffpNEy37XA0NKNQEDSq1glVoDB9pu+xc3cndvxz0jKgBGJF57YASz0lwjX66giXz6jGopIMKCnY3LPVbFoMvp6kan2fZ7AkNArQ3ViFAckQLF4Algs4Xa+Dy6ubgSCqjBgsxg5JSkz3G1Dgv5delKqhorOVRDcsYQkxiiG+XkGJooakUHYlgYaoRotWorOFZCxxCo7zGsQd1bsSrPcW8zdAMRALU6mmAIhClT39F2hYbaGs514Zo0cQrOLgRBy0ylODgEou1l7rf1PP7+3afWJKesDpk5ETK6mpoYeIBhDcSoTbsekU2ra4MqC50eVD0G7fv7ST/f/Xg8zSf1i80azE+nEwE7+G53HyhiiNhkGqfVagAkU5cmRNh1mQPXVtE95+7tqTz8mz9Sq9LkL794cdnllHtrliNYWkGPlmNYDeXDeyiKYLpovJSQGrZmAIEchqwOOlUMpK4MsJAvEIHAiwNcXXSbdbl/0t0+bFYYAqm6VDcTU4TgKi5gBPa0Cxwgxdj3boLOVmZXBVUQ8yKEbvt9wH4tpYA9S/kUlJjcgNxNK2BlNyJWgrDqPG6wqUwnNGFAV8elFA8KpjIVMANw7HpcrcPNIPsdiZI1U9W5LSvsGMhdbCzYqsgqpIRimCJ0WRGDNJgmN8Omy/gIVx2lDpq0/cdS593heHjaB4DT+Xz9iy/jui/zjES8vTI1mmeX6qaEZAvSOARf90YEpTTXU+j+pz/+tDuNEdkBOIJKOe7Pf/i7H69vLrcXV+v1mjmk2lqdU04cE1FYqiopd7XW2iTn5GK1NSJ6muZS6+P94+l0/N/9/d8kMwC1ptCqAdIc7VSIE29ZXBjAWrNm0AoToosBeq0IzsRGwF0mTm5qjjJP4BZe3DJBff+RTNOqQxFFVEAe1mim3lhRRBiW+jSYVjVzChDIGDAnpEyRvTQvwgAmczDEePPSpUktKA1a0ybLt98dyBRc1RVKM19RiEQQc1aM7ohNwdVLdVqiOeohUNcBBJxHOR4WFqbHDJnSgNjmNhfSBjnDKiElKtWOB1PTBQKdI8ZEqw3E4LUQIuVk51PbHYAsxXw+y9PuWMZxNJUqIs2JYViF9dbK7MeTiz5bB8DdqztiUZgLElpIj41++8fvH3fHGGjUOk5zbXW7Xqn5t9+8OU7zcfc0T3OtTaWa1BQjMRPidB59yDHFvu+WVmFTSZRU2vF0NPWrm8tdlXNMOUWfXV3ZlxqgsEObxYo5EgXG2GHHFCLMszdRaYBKxtiEyREMRBC8GPDNVRyGutu1w4EcFN3FyB10ciArBQHTly9Dzvb53lURmAm9VhF2AxdBLaqA6y3nvs0zdwmREVPAudn5ztA4MHCw9cocoKm2GWt1MMqJQiI3E/XDkzmgG7kDB+fkucN+6ypNpnR1gQJ02ns9O3gIDAZGiGV0YqMEhEbkeaDNjcyjzyO0RuC+tADctTZsoj4jMzBS15sAxBwugquA0Y9P5+Hqyjmc9gcHDIA4zS5WziOF6CljQnUDMxSBqoa8INyawe8/Pr7dH5F5tepbLWKauwwIDtRkfnlzIwafPt6fjwcOcZomDiGk3OVg1nLOMcZSirvFGFJKKXbovtsfVTTnPI5jF1jOU/7qa6uz7ffPHDJztUZoZsaMVpsjd7e3Ps0G1VIKfW7S3BDqRA5ourytfHORUyefHqCMAIDEBIBk/u8Vfg7p29dgPP7wzr2hsxM6M4aEEQlYpaAjX2wiZbl7YBPDBshAEKIWxYCA3gykwVwxEKeEw9pWYKkjmX08ea38jD0wB4SlVqNiTZ2YY4A0QOipjZyTOoICkJErODCjKThUEGAAlWrtjhPBqge8UKlaC9XqZs8IQHTwFiC03Y6IDZA7zjnNHD6MFRDNJEZWxFeXl0CMZG7otTlUMXMm4qCrVb691nEmg/Pp+K/efnh3KDmlzJRT1BRSaYDc972pzmXen0Z3315uY+T97unictMPK1EghJxDjEyMrQkCqXprou28e9wdp9FVjgBqLjF215fWqn/+xG6cuuUBE2IGA3DzWmm9xWFV7x/scAJ0kZqYAIC6DaTsxObqZrS5wCby6dOC5FhUAviz9MMBcehX33xlTcYf3qopIZgrCZG7NgeASoSMkDoKsYxn6jIqc2sCTuahOKjZwg9fwAegZuPsgEjOXBXB80pSR6YoBq2YIiIbLp4ZR3JSoWp+nFpA4Kg5wMJMaYVUxYwXlxWSuTEzmvosWBsTMUUj8psXiuTThE1QBVRAjROhKRvIVHWa//D58f3DXpqEmFUtkd68vpWYTBVMDZUxGriZ0jBEAtgdktnB7P/706e73ehIpVRmdtPWtJbWdDZwpnB1da2qCOCI8zx+9dWX5kbMtbWFP8PErppi7rqs0vb74/G4r0Wea5TMCDRJ++mH9935FBiYM4khGaOyggF6iLheh82mnUZwoI69SeSE5AHcy7SsfO15DVFAG63XJK3NDUDAZCkvmXu4ueouL+ePn7yUbtMZDaDWpHkDtwZNEACRrKpJbacJmXWxbKWOiA0klNA9c7NNFvCFzJoCOnFUR5/ZFao7kOYMKeL6IoDq8QRNn5ma7mYtuSs5WYA2kivGKKm3zTVZFW3Q2lJnAXElx6q49HqhaQTPg6tiGUGEUg9dcjCt1WphEQDAEErKf3330Az7rivTqKqlNBGDlCkGAMA616nBetUPiU4HPNUG/La0v306jgLDajBzMJ/n2VxMHYGbSAgBCVqtUlsVKbW9fvVqnmY3p8gxcpna7nhMKbn5ZpNEZLfb7feHOs+Bg6vnro8hnI4nMfnw+PTdVy8CEFE0rQwApubkYK6GZW67QyDCLkNaqwgSea0mZrUiAiGBGbbi8+RAzgFDwK7DwERupUqT7uWLEFJ79xG0MiiUiRAoBKKAQ6eczUlEvFQz9FaREFTRHcUUVBExYlhFss2VolOpXqXMcyRkl4U9imBu1lyQgquBAp7PBM4x+GpAoHmeoFZWMGdAdTNPGXJEgFCrP3xyM2DyGKFbES35AUGYvDXoMmy2oGJzg9MI5OhUT0cmMkIPDKnHPtU6rt68erjb52Ezf/xhmufW2jSOjpRMbLcvrYQUQz/QxSqsh3g+GNCnWn+aYVcEQ95ssqoQYFM5HU+tAjiIVhFBxJxTKfVwPA5Dv+46VwPwkELX9efjobay3my7nN2tNTnsD7W1QNyIzSzmrhuG8Xh09FVKa0SbmubgIeZhs4C1bJrBDZwDIbpKay7tmQ1HgVLCLvOrl1pmPZ+xqFpTADIAE5O2rAorQri+vPzq6/nTp/b2HYBHep6bA5g3c5tgrsaWvv62j9nu71qP6q5NWykobbFMoLmqBg0M+8dQFQJDiuFyCxykTiiq8yS1EAfsewghqNs8YqsNYZGdYIiRo/cdbbdWKohwjlYVy6StLhIbJwJgqubtrEhOESL79pJisi6W+8dYSyASBHdQR0RSM7fmEpaAIwT6+P27f/n9p91penx4NPfWWlNjgEAEhEwc3H0603gen3Y/qn88HZ/2Z46JCAC0FqltRncxVzVcYO9gZjrPwkx9yunmagG8qTsC1rloqwYQUgiBuy67qasQR52rirXa1uvVsFpN0ziX6c3lxf/mz371zatrdrDpTGVuI1Hu+y9f1dOsc3UDM/EyIqCpBwQkx1asTH5zDSnAoZIzbjoDIFOvoq262IKPTS+uV69f1nfv/PGe0AEY3Mndie0ZR++eU/flF+ww//gjSl2EdSmE1GenXs1ZpEyFLq4Dn4q7AFCtDZv4ODuw5Yg58dUqkKK7HI90ngiNwJ9tWMuTQA1UfBqdyEOiYVi20ZgTMnqt0MDIkRmRRYUBQdWb2DiFQEgYU/LVCmPgKtIKzAKgwMiYAdncyRqZ/u7D3W//3d/UUsxsniYzSym2pnNTBAgpEsih2cf99P407auoamAUnedSWq3msHD4Q0g/86J8nuaUum7IzKG0VktNMdgSYmGC5sSk6uCUYgRTqfV4PE5zzV1nal99/Y1I2++fIuA//M2v/sEvf3E59FGFXELIZGo5SwzjhyeZZkDHwJYSri6IGFVMhOtsifzqCszm739kQ0PEeQJy4uSBabVGRDfN15dxvR7/+KMfDzHRgrBCJEDSRTzriqtV+u47nev07j2oITCBmbpJZRQBJQwUCdd92qyDE5izOjiRY4AFZ1OrlmIUnSlEpDTQwKgFa4W5BHcM4LDAkBRDAHdStf2e0Q2JcoBh7Z3WuQaOtRYyfcbiuCMagqM2EKBWkRE4GDFwCq9egKtNM5aqrYEbLUPD1F1fbH74fjdN0zOvGZAIK3l3uX06Hr6/O7/dnSdVbZIScWRVa624Q8q51hpCLq2JCC1kIOTN9iLH6O61VUTKKS28Z5mLmiEhc3RXY3X3+7u7j2/fC6I7rIc+9d14PIzn8/Vq+I9/9SdffflFP3QQGeOKTW2edNWrIh4mX5AxpqbNakMzD5FDxNT5OneXWxWt+ztf9vwELhqY0VTnAh6cQIlot5/3J0rUNoOAgwjU6siw5Dwd/eIyvXzZPj35NELXRWYztVrR1EXUdAFqLuVLGT8GXA1aqlRxB16MbojgSojuDcS1KgJ6iNCRd713AzT1Mrrhs1udUF3SMynR2AXGaqeZEIYh23pI6cJPU1PR0qBVsGeQ2kJOAlUV0dRB1xF4UAF2uthUVWmVpvpwOv30+V7F8tCJ2yKLmKcC4Ie7x7cf736/Px+rUUpca4oRXFWfcbzM1FoLIYApMzMtaC0BwsC8PLQWhBeyq5nqM8ckBe76bppLRHy4u//4/oO7rS8v61yk1rnObPoXX3/993/53fXVBQB7q1DcAksIyjHFvksohNYE3VFVFYkDMRCBt9bm2QHm3T7ECDmGyzUhQFUts2jF2sAdgjM6mdqhuOFkJoDriy11A4gggJYqtcWri/DiZv5wb7s9EwBydedAHshToqG3pt5ETZijVUPwkFR4vZopzqcjyXK4RUSICy/BzcEDImjBE5geLedwdUU5qqgTQ2tUZhCEBR3zs8Ez5oDrjSD58YitMTExaAwae1Nt46ToJOLAvFnF7Rbc/HSy/V7AMYDZiYlC198B/Q9vP2+vXuyPIxJdXV2Z6ul0QkQO4YNA+bxXd3RQgpwSuJeqVcRVU46injAxkaNHczerTXLOuDgTFvg3kiPUKuCQY3Kd5laq0rsf9ufThIxPT0/A1Hc9E6UcReqvv/zqL3/9q5tVF4kD8f+ifmECs2AAh5OjAxJzgEQYuqhoTbwuBDALTLS0jVtDKXI6ccrMBCFz35krEtlYTZubEIIHXgGpg49nc3cMlFgCp1evQo7lx/dQKscAVgEQiUDNtUGRYkJ56L79uj092VwpIbQWYD6hSgo5a4FILbMjmS6FdWMDBzVtFCL0K4wBSrFP96oNORgHyomGgXgNItRmGCfkxBdbIYZxpjYHE3RSqaiG6tYMCbouKw10k4EZkXX3BDLDYiUBFwMHDeZ2PP6//uXv/s2P7zar7el4BMDxPE7juVRJKQ19DzE0teWqjQgKzQFFFFwdoNQaOMQUxUxFFjlyzpkZFxr3kghVN5Fm5oyE6LWMH999LKXVUgNiyAE5MJAUOY/TRc7/yS9/8ee/+Pbi9pYiIjIHQlE0YDV0A1RaxN8cgyhIUzEkQOK82sLrrZ7OViq05rVE00VlZego1QWsnTAg3d4AR6hC/ZbIXao19drCkn9BB23tNMOrl4Fo+v4nVmVeHD9hGXOpGkBABMxd/vJN253k/onAnYLFEDwGbjNMk5s4eCayEDFR6wKFTqdmCrTeCAeZKx0nNBEHwUhuKGJS4QxgBl1Pty/4NtSnnZ2LlfqzgQwxsJuaOiLQArsOMW22jN52D22ciRyZnrkeAO5L/BnfTXLidH37Sue5zMVcz+cTEoXE5jpPc9d3XU6l1sBY5nqeZiDMMS0EFw4xcFhIjG6gZvysxPIGbmamSsS8IMlSKLUcj6f37+6msQB5iIGZYo6ipqop8n/41df/wbffvb6+oAA2jjEyBwqxC7c3NhY1RTNW9TIHVHUPgZEwmGirFhMMHRzPdHyKKXkXfdW7mVcBEWjFTas6p8QvrrEW+XhPiEqjMFMIwIzbQdChzF6agMQ3XySK7ad30RtwAHMEQI4uDcGIXE0l5f6br2x30rtHJjR3NMfWgh9HRTcERjYEcccmWC27ydDz9Q0B19Ok51MDc4SIzIECopgxODgKuAKYQ9rvTaqWCZEMyGWpURFUMTM3wRTD7Qvucxtne3yUNiMZBUYTa/a8MSEgd2Q+Y/zd/WdXvbq8ePfD07Dqdw/3RORgUgwRun719LRfr1aM4Isih5zAck6tkUgLIRBSE4khRXZVQURVQUdwr6Uwo5ozojvsDk/7/fHx/mGeSg4BEpsIEKoZI3z5xcu//M1v3lxvo3uQxs4RIQJy34d+sKcHOE3EIeRsIeBm60hu4mVqc0FTvrqCobfHnU8jIXppWJu7KyLG5JGx3wBAdOD14LuDng5ICERujmraJjKjkDQyJYb1ejrP0dEOBw7ICk3tmReKigRqwU1oPay+/krG4ojxxY2XCWtxEVILRGiwlDtlwZ4Du3WD9Z0468NhwREiYiRAQAWHEMB9OQuF7VqIY2tYZhpPgBCYwDAuskCAulSnGeLNbbq6luOxfrxzqbywcZzNlHFxdaGrALGv1x7iX//tDz+9+xBS3j89HY+nBdfq7gRIMSJhSElFD4czIwCRgOdu6GIkIlFNKTOguocQluVBimmcTrW1RVi9hFpTDNN5fPvhw3F/sNaae9d3q/X6fDy4ORLfrFZ/9vWXf/rF683VJS3ffgQUIXe+2qac2tOOpKk7qci5uSEwUWAKybsu9QP0HcQk795DndV/dqmbgjtg8HkCBacQQgh9gtq0yxA2WJvVhgt7gIljcEFqUscR8dwztfs72Gx4uDDTIG61WpkWFBEgw9U2vXnZ3n3W3d4SccqpG3QYVAoBBiQACgzQANwJhwH63prpebIqyIRAEVFhiTFiZHdTZY7bbVoNdj7GwxOrEpIwgsOiR2BvimCiwIFvruPlpZW5jqOZYBehoNTiaoTMiIZsJgZgq3UYss1Sd08fP95xyA502O9bq2MVW6xujKthGM/n6XyMMVJ4th2zSkR0AFEFN+Lo4CmkWmtrJcaMTKbWanPAEGKIjIj7w/Hh4f50OoUYlSiagsPpdHLV29X6l9988csvvlivVojgrUArECLnjvsuXWyYqD4+gf7sWXMQRwcLRlKL14JndATsEsSu2156pKCic9FzsWaLHRgX1JwLNgMpAI4cKAAz4WrjIVkpoFVrUzdC4LCgyt1E6+OOCTwEyl3oM28GU4d5Mgrp9Sv58Mn3TxQAnaCObS5qRoyYMv63/+f/vaEjRel7urnSw6jnE4kSGQLrorchXhi3yy+e15vhauvHo4gJE7tQKVSLqekCPgYHtYrIF1fh6trGc3l4hCoYQuiSMYWcnZlas7laPTcFXK2pSzrNPs4M+run6VNzq/WP33+/e9qZqrRmbtKkSSOk3EUifnF7e/Piph96eD6bORAGDmLKDk2FiABRWsNFprvY4Tg6Apo9Pj4dz9M8nlSVOZjpEtNGgD/7xbf/4IvXqz4hP+fPOHAgDDEmpMWQThwwJAzkSK4NWgNTN8Xn/BCHEMnF3U3AEDjmnLJ32Tp2B5mlteq1wXlUU+IUnseZguiBowEtjw1NkXMyQJ9mr+KqpvZ8xQJ/xkGbMLqFmF7f0mqQnz7i0r0yc2QiIyJTN4KgEDh33vceI4n5ZLxeYUKYqtcCrZEt7kF/PiBeboe+D9Nc3751awwEiJ56zT10PQfysWCdraqtE6xW7jC//ejlBMiBWNFtHs2wHc8eAscAOeHqJkR2ZLl78FIA6UHs7XnMOb+/vxvPI7iZaatVzAC873OI0c0ub65TimWqrhYip5CaCmNAQGZCh8hBmpooAj6rEtxCCOZ+d3d3PBz3T0c0D11YrdZlntyBkK6G+A9/8e0vvn4TVwOFAEsEUIzdEyESMbOKBSS32uUtsM+HvTNzChg6pOBaoBRWcxMAp5QokGgDFxOoj+fFxoSBVzfXtO71NNXxLMcJWlvOnstKE9DBmk4FS8K+JzPQFlZ9AzRREPHWvKo1IXBgN2Var4Bj+/4d1ZkDmwWkCg6kCu6BWFTNIPiwYdFyOrq52RFTgMCeYth2hGBVdDo7Ag2bwIlk9I/vmzkQOzChByJvxdoMAB5TiMm21x5jiIz3Ox135OCR0MlE3AnYFla5qVmrcj4DBWTEFGnd+2bz9t2nd+MMAE/3j9N5SimN56M5tDYjc4q56/rcpdVq1WR5uJiaWbUyl5RSraVMU0qREWNKRJBSXii8gUNrrUzTw8P92w8fVQ0BiamLEdTcvI/pz17d/MW3Xw5DHwhpLk4lB8auD19+xdp8HKEVGwsv4Vbyct4xekBrtdpk1PXxzZchkO4fzVBErUyp32opKIIoKk6MbuqO1PXQiv7w2Zn6boDbKwEnhulwxnE2EYIGSNB14fYSjiOezoAm8+gcQ4jO7KsO1wFUYJyazN03X4Yc60/vUerCEwQ0AEdQXIbSguBuIQY5HsHBCQ0BAoI7tGalNXQKEYaOb27jZmN1bp8/2jiTGfDCtHE1RyNiYHc0BWlQK4xTCEQcuYu+ubVmMk8+z4tmiyA4gpo8HzpcTJqLztP06aPd1epARmiic6lIOE+neZpEPaQ8rAY3H/o+dsmXnmTOgeOzew+h1sqBAMkNOXErM1KY5wkBm5Zpkv3T4/7xKaY8DCtViTkvDNBxGr+8vf6Pvvv21fUVsbMbc4hEhJhWXXjxAtrs+yMwKSNcrInRpplcrcjShgBDXF/2r270cJweHhM5xByZLPeGjqtMCds4eakxMDLw9QsWgacHBDcBbbJoOjzFnJPfXDqwTpODpZsrv7vzaSZCBwKGQIitejV1xECceu877i941ev9Q0D3GF1tgYY4EvECGWQz15T4yy+CgisAqgPxYrYwJGJAdHSzw1GPJ9sdMHLYXNDlS6uTlVHKGBzI0VGRCMQX2a+h43ITqjO2GZgoxNwNuNkgcz0eZG5ehIjVENEFfFa7H+vbcymqTnhxeVWPx/1henh4OJ2O2mQ5aQ+rru97RExdF4gAOYZkjkuzIsWIGBwWp6ymEJqYGARwVTuejqfzyBxra3noRVSlxZikCZgnhD//+ov/6Fd/sh4GIia0TAxL6Ptqm3KWh53ViZFBHVwZCDgAEfcDbUiK6niOlzf5Yt0+fNDx5ISTWdIGgjZNiKyE1KVhuwEIzZQ3g5zO+Lh3dMBF3bhYQlRn4XlEQg2DE2FgmyrkDjj6NOESaFnUQ8xgaOZUJnWA6SS7J0gdrTdGSI4ujUuhKmiOjqoukfHljR3OAWL0VsHcBJwRiRef9PJzIACioRQshsejE1uKtBpgvVYRmGcsxRQQjAib6iKwc1vcZA7NvE4MkwH60HevvwD3epz0dPS5fHjavxun3TgfjifkGIlDlz+8+/D+7Vt13z88zLW4w3a73m43Q98jQWsKAE0kBFqvV3MpTTwEaNLcLMYIhinmmLJICcxELGUmCl3uxtMZAU77AxKmvgMEae1P37z+q199d7nehMCMkLpA5gget1u6vGy7ozx8RBMCVA6AZAYMICbIQXcHW3ph203arNrnz3U8gT2rv6VKJEZAQ2UFHMXm6g4UgrZK4HR10aR4bahA1kR18Qm4IpmjjYQBxwbngIEhRtxsjcBbBTFvwir0TBU3BFrG0l6az5MjeUwYkvRD2CCoWalgkF9eyn5sT/uQL65jQGlVTqOVYmKMYKTs4fkM5AKgRMsyDnCc9LD3mOTqJt/c4nh2cKjV5gpiaBVQAZPjIh131wZdhu01dXm+e/Td3pgs5X+3P/7w+WGcCwcaVgOHAGrjPN3f3/dddzzszWy1HrTJejVc39yourTCjKrKzMg4zWOKeYjRQWoVoqjmkYkZ53l2t1JHM5/LFEIurYjUab8HAje30r65vPgP/sFffP3yJiCDGxHmAKjiIcYXN0isjwefpsocuoRNlpUYAi4yRTJFZgLwprZ7LI/7kBNx5CGYQeAGqursKua+vNxMlBixziiECOojheSxw54RjMrkItTUHAwIVY0EEdlcayVdyPRGgNZ33nXqILVard6MXByBKBGhgQV3lwrSUN1CAA6w6uP1i3p3D4dTJAztwweLkS83wy++1dOpThPMs0+TmwIu0CgER2/VARooccChy+tVOp/opwdEgBStW+Xby+Iu4wHHCUQWpqUz84uXvL3y3b6+e6emHIjc3n5++P7TfRPhQMyRkHYPj2Y+tzYejg7++PCAxDHG66vrLucqUkrVOnfdMHR9CAHQckrMLKLmnlMSsdBldDsc92Vuq74z0If7x3kaibhpgypiHmL66suX/+nf++Wryy01IYWcnJfdLTiuN36xxWm23QHRCRGNQAViDEza1InIlNQQXAzAGiAFjs6k08TkUAQxEBOmBBxMDGpRbyCmrYQYiJ5HGmCCplCqoVqMSIzDhjd9mOd6GLEBIaCqM7pCKxXUCEHBbS6BqOUYv3jjh1OrMzhCE2viKsxkakZKyEBLeKbydqif79vDIyMwU5BEYbvxEMoPP2KtKSdYDX65ARE9nUEFtIApGkCOYbWmlHE80eNnQiYmBLNWsba7+6fc5e5ihbevzE3HkznGi2s5nk8/vWNpROYcgOj+PP/N096JYoiO7AQppfuHh7fvPhLiajWo2Wazvri+AfP1ZqsqKYTAXNBS5KFfM4OZdV0+ng6c+wjJTHLOSFiqznMZx/Hh7vM8z9IqIEYkjMHMX9+8+Ms//fq716+GVU85pLg2RfbGYmZGr2+Jk93duTReGBxI7soOUiddjKeBjVEoB6+uwIDoRupq7mHhM2NAJ1Utc1Pl4SL+yTdyf+/VoTC5mho7Lps0AHr++hZRkLC9QI51PFDfhe1lq5NJQwXG+gwqMeEQ0NQ5xBdXeveIxwOBWoiYMvTZAc3UoILb85CbnF7e+FzheGImUEc3/G//L//UTqNOR0AmFyZqAsAQVmsYsoaI0nycOATsez8d4zSZVTJDZGAyNwQiomoe3BFdnDn1sF6Fy6tay7x7bOeZzBgUAn4e5d9+epJA1dTFUDxEjiHvjrsPHz/N05hjAsCY0uXlpdRq4LWU1grFnHgZqgcmLk2228161ZXaAGizGepc3n/8uOQDuj7v7u5/+vEnBUgxmWng8Pe+fvNXv/rTi81A6AEA3Sj3oe+JnC6uHBlL8f3BtSx5IXu2HRsjmS1QfjBA2G4gJDsegYkwUJvJxM0XQEt4ln+TWZPcp9sb2Z18vwczjNG6iCl5E28KTVyE3ADdU0pffSljqZ/vsVVgoNATuHLAzJHZAb2pzLNLo36V37yE3b7uduAGQCKFCAwiccAYPEYgREJV6S4utbX26Y4JHYExurbgd+8Z2d2QePE7s4sD+emoh4Mzxn7t/cCblc1ndzNXNgMkBwPnBWBnJnFB6rsHQm+j3p/86YFz6vvV+ssrcZtP5x/fvvvbx915ts1mWOXO2Gcfm+g8HdHxzetX81hMDdDnUsbzSURSjA5m4OS1NjBDIsw5LwB0N0IAZhgPx7u7j3OFy6tLV5UmIafN1aW6zXO5Xm3+6pff/PrLr4ahW0jJISCCuxm0Gq4u1VE+fyIpFMgZY05a2vMfHkzd0dlMaLOxzcamkZ8esosiGjJGttRBTmBGrWErLgoIePMi5t7ev8d5xpCZSE3wUIhIYsSYadsBgNfq6PnlS3k66sMdYFguU2bqQK5ipRgBxogx4WZLAPn1rT08wTQ6gyu5KyK4o4GjFrOKE0HghoApqYJV4c1KywzNtJ0ZKCz+LQZHk2Ui7DEAEboEQjCB80HOO3iM3q9ws7bVoGLQKo4jmy5rE0AAAoTnQ6URABqRQZupiZ4Ojvgwlt+++7jdbjo0IpbaTGVutRWJTKUURA4xUoKpzv2wOh72atZUQqBhGJrM625Vmy4Ss77LpVQxS0TH8TyO42537FYbd3t4eCjT7GhIMCj9g7/3619/981VTgSLThECOBkAU7i8oM2Fns+2+8gOTsHNCF1KAQMAQmAgdYMmjleX6fLC7x9oOhEHKYYB0dyLQCkwsuaEHK1fQydpc+GI8vZDMAkhqD9fbZnZwKk1L032SilhF8N6jeIACqsVVllIo8QJEFWFCMBNpuJTczxRjFIqR/SUue9MGpaGDV0VHM18cXKyVRPAUqfTyOSQkjHjqkcabJqD9oOViugGgBiA1CngQg0BjMzmnkICVTsd2umQImEcoM9+lZsKjoVNyZEcf9YXGiI+O4eZ2Emsgfi//h//1f/nt7/vh/7m+vqLb7/uur7Vuuqy534ap9Y0pBAjuxgAEsIwDGIKrl2OXcpiAxqEAFWaqRKHYVgZ+tPT09Pj0xBSTt3VzYuHu8/H06GUigC/vH3xD//kmxeXF7ELHCOlyH0HotBmcICbmxaSvn2HaiEAES35MjD1nyUbCKgC5p5+8TWmdP7+h6iVgcApxOQE5oSgzYAMcK6OYk7AIHpW8Ljt3VdeGpSJTRV8AbYjOBAFRHOF0WQalTtlthTDZR9oI+Msc1NRMFVa5GyITAxg0sC0TuCIzhRi5H6gfi2tYq1QHVUdXE0Yw8/oMvDS3MWgAALnHHx9YWvSerbxFITYnFwZwIkB0QAAjAwBA7IxOgcWbfZ0xph8GPCbr6nMXqWOZ6xTXBijruTmyG7eTKqqiYmjiJwOx+N+f57n7Xa7f9oh0He//G57sXVwQJ5LbbUi+FhmIrrYbLqciVERuZnJXKunlLsQkUlV7z59/nR/14V0d7i/urx6fPj88PlzbVVNv35x81d/9uvbi21kYnI09KlZaTz00G94s1IO8OkRmYKBO4A5uJohVAVUQmcMVVG7fv2r73Cu8vSUb27AFFrxqUopaKaESEgR0fiZeMzBQWw8GWBFcmbOXVj1Lg519FIAkH0pR/NS8mJCBMAy2TwjqIaEQ4fbIYWoRXQa61zQndEAAZncgRkAwLRpKU7UQjAkYgwXFyEkL6NPk9mzkpvAzIGWaBshNwnx850Q6WbFX/3CzqOeDqRVawNRZnQARl6Gr4AWiFtzsAoc/fICyOnDezmPLXZx1fvNtRDacYLpHMWXT7S4CqJ2GXKKKRpCl7vj4bB/fJTWAoXf/qtD3/fXL15cv3yxWncuyQFLK4FRFABJDSBEZM3Uh6Dr1SYG+P3f/uFpv9s97Oa5tBCR4enu7jzPbppS/stvv/vLX393e31JFAMR/mwWNlcsFcss48gxYYrx8gVJaVPxVqAyguFyBQeFQPGLr7qLTft0r/vHwEyUiAFSsIutuWkpNs6k4mqEihzQDc2ImQjZxNyWD7uiQcyQOuh7AiQ1micrDZiYGV3RHWNiACRWIZ/mMIpjgBDj9mL97WZ+3GupPldyFXMwZHJApkCgzu4oE3knrN3the7RKDCStQqtgQGaIC6qyADuAVjDxUVYb2V/bIcdpUSXl+oE8ww62zyLtBCik6KjtGqBw9VWu0jHs08jmiJQqBO1yXfgfU/9Sq5vWyt6ODI6rdd97svx8NW2/3Iz/PS4P1dJXaZAXR6sChLM07S7uz+dTinyy9evt5eX67CRJvP5rKIUQgA3RlDcXF7c3Nz+4d/+9R9+/4clWxuZXQWc5tbKXG9vb/63/+jv/+rlbc8YAIiIlqaEPZtMF5M1qIOM4KJjLwFjirjemJhPZ5hnmQlXOX79HbiXt+9pPIe4cEOrzm7ljHAGIMo5rFfmiDnq6eRNvRmAoevizkbkGILWgs42TVBMDXFYx69e++EUValWKzNUdVd0ckI3IDY3FCDUighpu6XTBOeRuw4uOmLEpn4aTRoYAAEzPHfWUkw3l/O7D1Bqay0x4TDwarW4m6lO3hQAHRT/u//bf61jLQ+PWMWoTU26kIDIhoFXXUydltHHE4xnV6DLK7pY0zjZ6cBiC06SkAAgAMISwHJUJOwGj8TrAfs1fL6zaWxazqfx7efHv/7+7d/8+P7hcM59RznEEA08dd324qKWef/wRCn+5jd/dvPiZjX0++NRmjJx1+fU9Wr6u3/92x//+Hdampp7oDx0AVBFXOQ3X775R7/51e3r2zx0eb0GJyyzVlOTDGZOCoAARGaq7ECu7izamJEwQeLQJ8kdpMSrVXnYyeNjQGRQdQdriIsGuTGlhYatZrTZDl9/2e4etM2cos/VpuJawRpDdAJzJV+eAg232/Dimu8f9Xy0kENKkCIAqKnOI1YlN6VnbxeGyG/etKeT7R4A3GHBOCcIHGK0ELw1rcVrsaY4DKvvvp1+fAvnEwcWQHQDhUUBi0ScY2A2IqsF/9l/8U+0zMuQ09CWVwAtj3SAQAEuN7TqTAWRqUv66SOdJyQgCo66eITNjR0A0AjJlgMEo4MzW0zeMaYOzGiepRaZp8fT+d/93Yff/u0PP949TtZyl3PuuqHPMahpFRn3p83Fxcsvvnj5+lXmlPscAv/hD3/423/zu/P5BKK1iRKlviP0zOHF0P/Vr//0z775MnTZTHuiEGIcOhgG2GxU1M+jnEZfxPUmYOoAcZkzA5opKCI2QoIvvqL1evzpA7a6yPNoSWOQIS4XvuoOCAwOfn0VVp1/etBxdArE4BwpZ0xkpfo8Wy1uSOQqFl5cpYuNf36geXZACbT0DtWMUmeRKfag2s5HahU3fbh9NX980GlEdARACvoc6dVSW+g66joeOkqBDPOr23L3OL3/QOgYlok+msMSxDe1xQBlHGKM+P/4z/4PRuyAiPyMHSMHh4X8x64eogE4Yn956Sk1bWTq04TT8y8RAQGdXJEIgczdwRMjOio4mBuiEi/pBegiaIVaoOrp6fHdp92//uHt79++343T7LbKaeh6YD4djy5KMXSr9euXb77+9uv3H97/j//yf9BqDO4A1X0V0+ur7devXnz96var6+3QbxiRGSJ5osAMiGSbC+8HOB4gZ82Z1co42unE0hbBPQQHJ3MPqt7l9PXXIlB/eu/uHFhEAB0dGBkYF9e5eXMH5JS/eqO11ffvsVZOQYBJGhI916tSwpwhJTSz8Rg269hftLdvwSQSaIwuFZDADd3UnpWbHLIzQkrh5W3bHevDIzogClJ0wEVNBO6TyLPQBYACUuwo9ZyDkevcdDx5m9GWbgI4siPDstQTRUD8v/6f/nHfD8xoDowIzOhubrhI2AEcEVAAHIHQEBhpe2HrFTPqeJanvY0jEzICI3GM5o6mRIuANqB7WQZhgOqMgTHHeLFVCi6NplKn+Wl///b953/744cfPz3sT5OqYt+ZqbuZeY6p7zsxPY9za4poOYXvXr/6s6++/OL6et1FBgyRkbgD5ZhCoGDiIerFJVPkpwetFYkaMebBc4AYGEzHKqcTaNElYrTd5NdfTve7cv+JAYkjuBqCAzL6Uh8FQ0IwVely/9WXvj/V+08MTiCKAZld1BblsjWAoGoUgneZYsiXFzJVPB5dCjYlBiAEIJBm7mpOyPBMNwBwwhC9i87R0VHN5qoykztSBhEBV1DkJUBD6KCGiGyM3HcYg4BFYj2PWKurGZAZADs4EAD+s//mn5anE5RiIhgYENnBCBFxuVqi69KmMAB2Jzd1VAfqNrjKcVg7NT2O7XikWgISoQVcdkBAQAjYdHF0OSPSQj9RgNvb2OeIbG5BK6rLOO7u7v/4/tPv3n1+97jfl3I+n5yQOaCoIVDKba4vLzb/6z//0y9ubmLXrTcbUAlAOWZCCzpTSEyuMdP2Es4nGM+B2AlNjdAaoC9E+NjRaoUpm1UdD3x5Yxzbu08yj4SAbkiBAkkTICIwMDAgcEUiXa3CxTYQ6+mk0zk0Hc9H5hA5AZo6IKKDopO5UwBXEvVA5DGEVafM5EZldhES4daQXBXdHXIyd3cFBQI0dKKspBQSMCoREfqsWusz5TEsxhUjQgMEQwdgU13svl1HeYAYzMRL9WlSUXCkQPjP/6v/UrusOdg8t/0BagVHIkfEhe1JBEiBXQzBVAw4gEspVSDmyMPF8O3XjFbK7KZwOsDxoHNDU44EzkC0dM6siYIrOG4uoR+4VD8fGdCYOGa8WMeu81pwP47j/ng8//T57m/e370/T7vdXmsDphfr1a+/+upPXt5uNgPHEJAJEAhiSrRax47B1KZKQ07AvntyE3ViBOdl34+yuEIJ3MjEgZlSxD7SxVU97KFWnYtPY8hpceCqWeDo5uCyQDnp5tIJ7NM9NaGcIGWMca4TGrC41tkNI4GTCwVTSQTubMubT9WZDYAi85AxZHCNBuXxPmNwEA+surwyFxIJIBKYLY5md8Lcae6wiz43awVFW1M1iRxUF2KMEDA+B3QUAIkD5oh5yG9uy/Gs5wlaxX/+n/8fm6LFADfX8faq7Q86zXA+QS1gC6DSDYhMDREAxCwAEoGHSDfXnDu5e5qf9mHI0PW8XoWhA632+GiHIxoAATCZiCHqZs1pyIz29OTNKPKzS94BnCBG7ztOEQIHs3reS1qfT+P+86cyz8DhssshdoyEhBw8QEQ3j9FsSbEhpJTWG+gjHnZ2HnWuppKZKUZEaLZEZN2RwIGJFAHAyN2doMucO+0YDaCJHHdWmhkt9VmXQl3HX71Js5T37ww8gQGgORgzhGAUMJEA69xCnVxFkdwJ0cjdHAKQw7IFM0L2qk6M6z5e3oynXTSP7l5Hk8WPTuKGDgQgACZqRJEJwdvSpstD94uv2+Nu2h9BhRVMCrqLKSqJ6eIUITCkoGLpixfD5c3xp/dASAHxn/2Tf9wgppfXdLGxwyizUJepD4Boc7P9wWU2k+CgCkBADMCBL29ws61POzjsnqW/iy3H3JDDpo/brWuFOpM23B+EI75+nfvBP77Xw4EJEckQgQBEF9W8P18HHGJHOdLmQjjgdPJx8rpQc5SY2MGIwNUhgLnzs5jcAECNCDElD0jDisFJpZ1OXgRNxYERHRwJDZd/a8nbARgQOoEhkKaOuwirHonaYbTxrKcTbrfdF6/l00fbnRCEQ8JniwEwMoK2Io7QgDBl7XK8upLjAU+TtQIqABaIHdUcXdHRUd0AOCVHUIXw+uXq+ub84V0kk2Y4juCGomC+YAsMIQQiInUjpPTVl160ff7kHDAFX0wc5no6u5no4qxyI3R3vrxcvXxx/v6dzjOCoyn+3//pfxZubry2dvcBRB2WQayHbkWXG+ozaJPTWXePXpu5h+ubeH2lpyK7J1Bl5mXZKoAIaAtsxsGRMYa06nnoYx/i5dZOVf74d9AmcENCB8AQzQC0/iyYfMbDgjm4OUSPzKveYtSmXgXn2cxRBYkUgUI0M4dn+qaq/LzyR1dBAEqRc6eJnUnH0aYJWkVfoG4YOXprZgboS6DcwQMFBFRpEBOmhENHmzWmCHNpHz/iNIK5uy/FM3UEMKJlAUVgKma1An31mi+u/eHeXdyhns86z9Fg2f64O5ohBaAlq4j44kW3upj/7ntthbsglGKXABG1+VygFTN1c3TCwJAD3dxQKf6wQzRwJwd1UGZaD0AkFG0uIEKliSleX3S3t/XHD1DOhKQu6IT//L/5r8r9vU0zBTAicwR0BAIHBYCYYgi4XWGf2mnvHkMe2qcP0BoGc2MAdCQCFHQ3pxAcyE2AwNQI2AAopW69SZueoJoaPu78eBR0ZnZkI3BzQHBjJEQwcgVAY3ZTAAJzjBlSVrZprEM/QCm1FFwseogMSIhigkRohogICCBuzdXJgyJpDmmzos0aprkeTj4XdEQTd2emBUmKbs+ScwBAWtws3XffAVL98UesMzEgBEVHMEZarMzgsBQM3Foj7L77Ts3HP/4QzIDQA2tkijmGpKp1HGWcEiExqBHlGN68dOD203tyQSSgZWsWFJxTopxjTvNpr6WSiGOgl9dcq++eyAAAAgIAKGBglCZArLSIEZMRUkrh5cvx+7fy9BQWur+pi+L/85/8Y3AiDkpo7gZhOUDgUl/y55wYxcSrjq4uEbwejrY7GBg4qilyJITljmdugISIy1nZDBhJVNyMQwxd7i62lImkyO5g44ghLqrGZ/03A6ovZOvnjx6gm7O7uYo5pkSrLQ29MstUdLdHc3Bfng9ACGCuwhh9iW6rByBzE9P05k2+fSmfPrsJDb3OpT3trFV2DwQiwGjuCjGZKJlaDPHLL2A2/fzZ0BbnXEgZzEHFTR2RCE0NiZqiD334+o0/ndrHD2jVIgMsynrSKk4BcubVQEyurT4dROTiN7/SuZb370hEzYwDgyKQIZk2Cl2ZZ4wp5kg5ITNv1jIX/fhTREQANYoIsLzuHAAVQ9IqDRydiBC6ni4vXFVr08NBmgQXRPyfAZiZjvvE+nkEAAAAAElFTkSuQmCC\n",
                "text/plain": "<PIL.Image.Image image mode=RGB size=167x224 at 0x7F38D6FE39D0>"
              }
            ],
            "_view_module": "@jupyter-widgets/output",
            "_model_module_version": "1.0.0",
            "_view_count": null,
            "_view_module_version": "1.0.0",
            "layout": "IPY_MODEL_f6beb55297084606b402ad80c7d98ebc",
            "_model_module": "@jupyter-widgets/output"
          }
        },
        "f8f3eaa099944b098ca51e08da0e6bce": {
          "model_module": "@jupyter-widgets/controls",
          "model_name": "LabelModel",
          "state": {
            "_view_name": "LabelView",
            "style": "IPY_MODEL_e35aecb27c284d0889e48b2b519b788b",
            "_dom_classes": [],
            "description": "",
            "_model_name": "LabelModel",
            "placeholder": "​",
            "_view_module": "@jupyter-widgets/controls",
            "_model_module_version": "1.5.0",
            "value": "Tipo de obra:  Hierros y metales ; Probabilidad:  0.6630",
            "_view_count": null,
            "_view_module_version": "1.5.0",
            "description_tooltip": null,
            "_model_module": "@jupyter-widgets/controls",
            "layout": "IPY_MODEL_94323c36567a47c49af2cf2b1195a728"
          }
        },
        "495af6b9fcee4600aeaf9589ee084430": {
          "model_module": "@jupyter-widgets/controls",
          "model_name": "DescriptionStyleModel",
          "state": {
            "_view_name": "StyleView",
            "_model_name": "DescriptionStyleModel",
            "description_width": "",
            "_view_module": "@jupyter-widgets/base",
            "_model_module_version": "1.5.0",
            "_view_count": null,
            "_view_module_version": "1.2.0",
            "_model_module": "@jupyter-widgets/controls"
          }
        },
        "b3abce04a7924fb19aff555b0f52a066": {
          "model_module": "@jupyter-widgets/base",
          "model_name": "LayoutModel",
          "state": {
            "_view_name": "LayoutView",
            "grid_template_rows": null,
            "right": null,
            "justify_content": null,
            "_view_module": "@jupyter-widgets/base",
            "overflow": null,
            "_model_module_version": "1.2.0",
            "_view_count": null,
            "flex_flow": null,
            "width": null,
            "min_width": null,
            "border": null,
            "align_items": null,
            "bottom": null,
            "_model_module": "@jupyter-widgets/base",
            "top": null,
            "grid_column": null,
            "overflow_y": null,
            "overflow_x": null,
            "grid_auto_flow": null,
            "grid_area": null,
            "grid_template_columns": null,
            "flex": null,
            "_model_name": "LayoutModel",
            "justify_items": null,
            "grid_row": null,
            "max_height": null,
            "align_content": null,
            "visibility": null,
            "align_self": null,
            "height": null,
            "min_height": null,
            "padding": null,
            "grid_auto_rows": null,
            "grid_gap": null,
            "max_width": null,
            "order": null,
            "_view_module_version": "1.2.0",
            "grid_template_areas": null,
            "object_position": null,
            "object_fit": null,
            "grid_auto_columns": null,
            "margin": null,
            "display": null,
            "left": null
          }
        },
        "a693c42a674640b9ba655916378b3895": {
          "model_module": "@jupyter-widgets/controls",
          "model_name": "ButtonStyleModel",
          "state": {
            "_view_name": "StyleView",
            "_model_name": "ButtonStyleModel",
            "_view_module": "@jupyter-widgets/base",
            "_model_module_version": "1.5.0",
            "_view_count": null,
            "button_color": null,
            "font_weight": "",
            "_view_module_version": "1.2.0",
            "_model_module": "@jupyter-widgets/controls"
          }
        },
        "63aefbb7fd064aa296ca6d5a63ceadbc": {
          "model_module": "@jupyter-widgets/base",
          "model_name": "LayoutModel",
          "state": {
            "_view_name": "LayoutView",
            "grid_template_rows": null,
            "right": null,
            "justify_content": null,
            "_view_module": "@jupyter-widgets/base",
            "overflow": null,
            "_model_module_version": "1.2.0",
            "_view_count": null,
            "flex_flow": null,
            "width": null,
            "min_width": null,
            "border": null,
            "align_items": null,
            "bottom": null,
            "_model_module": "@jupyter-widgets/base",
            "top": null,
            "grid_column": null,
            "overflow_y": null,
            "overflow_x": null,
            "grid_auto_flow": null,
            "grid_area": null,
            "grid_template_columns": null,
            "flex": null,
            "_model_name": "LayoutModel",
            "justify_items": null,
            "grid_row": null,
            "max_height": null,
            "align_content": null,
            "visibility": null,
            "align_self": null,
            "height": null,
            "min_height": null,
            "padding": null,
            "grid_auto_rows": null,
            "grid_gap": null,
            "max_width": null,
            "order": null,
            "_view_module_version": "1.2.0",
            "grid_template_areas": null,
            "object_position": null,
            "object_fit": null,
            "grid_auto_columns": null,
            "margin": null,
            "display": null,
            "left": null
          }
        },
        "e35aecb27c284d0889e48b2b519b788b": {
          "model_module": "@jupyter-widgets/controls",
          "model_name": "DescriptionStyleModel",
          "state": {
            "_view_name": "StyleView",
            "_model_name": "DescriptionStyleModel",
            "description_width": "",
            "_view_module": "@jupyter-widgets/base",
            "_model_module_version": "1.5.0",
            "_view_count": null,
            "_view_module_version": "1.2.0",
            "_model_module": "@jupyter-widgets/controls"
          }
        },
        "94323c36567a47c49af2cf2b1195a728": {
          "model_module": "@jupyter-widgets/base",
          "model_name": "LayoutModel",
          "state": {
            "_view_name": "LayoutView",
            "grid_template_rows": null,
            "right": null,
            "justify_content": null,
            "_view_module": "@jupyter-widgets/base",
            "overflow": null,
            "_model_module_version": "1.2.0",
            "_view_count": null,
            "flex_flow": null,
            "width": null,
            "min_width": null,
            "border": null,
            "align_items": null,
            "bottom": null,
            "_model_module": "@jupyter-widgets/base",
            "top": null,
            "grid_column": null,
            "overflow_y": null,
            "overflow_x": null,
            "grid_auto_flow": null,
            "grid_area": null,
            "grid_template_columns": null,
            "flex": null,
            "_model_name": "LayoutModel",
            "justify_items": null,
            "grid_row": null,
            "max_height": null,
            "align_content": null,
            "visibility": null,
            "align_self": null,
            "height": null,
            "min_height": null,
            "padding": null,
            "grid_auto_rows": null,
            "grid_gap": null,
            "max_width": null,
            "order": null,
            "_view_module_version": "1.2.0",
            "grid_template_areas": null,
            "object_position": null,
            "object_fit": null,
            "grid_auto_columns": null,
            "margin": null,
            "display": null,
            "left": null
          }
        },
        "f6beb55297084606b402ad80c7d98ebc": {
          "model_module": "@jupyter-widgets/base",
          "model_name": "LayoutModel",
          "state": {
            "_view_name": "LayoutView",
            "grid_template_rows": null,
            "right": null,
            "justify_content": null,
            "_view_module": "@jupyter-widgets/base",
            "overflow": null,
            "_model_module_version": "1.2.0",
            "_view_count": null,
            "flex_flow": null,
            "width": null,
            "min_width": null,
            "border": null,
            "align_items": null,
            "bottom": null,
            "_model_module": "@jupyter-widgets/base",
            "top": null,
            "grid_column": null,
            "overflow_y": null,
            "overflow_x": null,
            "grid_auto_flow": null,
            "grid_area": null,
            "grid_template_columns": null,
            "flex": null,
            "_model_name": "LayoutModel",
            "justify_items": null,
            "grid_row": null,
            "max_height": null,
            "align_content": null,
            "visibility": null,
            "align_self": null,
            "height": null,
            "min_height": null,
            "padding": null,
            "grid_auto_rows": null,
            "grid_gap": null,
            "max_width": null,
            "order": null,
            "_view_module_version": "1.2.0",
            "grid_template_areas": null,
            "object_position": null,
            "object_fit": null,
            "grid_auto_columns": null,
            "margin": null,
            "display": null,
            "left": null
          }
        }
      }
    }
  },
  "cells": [
    {
      "cell_type": "markdown",
      "metadata": {
        "id": "view-in-github",
        "colab_type": "text"
      },
      "source": [
        "<a href=\"https://colab.research.google.com/github/IA2021UR/trabajo-ia-en-la-comunidad-de-la-rioja-equipo-10/blob/main/Aplicaciones.ipynb\" target=\"_parent\"><img src=\"https://colab.research.google.com/assets/colab-badge.svg\" alt=\"Open In Colab\"/></a>"
      ]
    },
    {
      "cell_type": "code",
      "metadata": {
        "colab": {
          "base_uri": "https://localhost:8080/"
        },
        "id": "AfBcZ0ulg4Dd",
        "outputId": "3baf2087-63db-475c-fe42-9c1b18355a6e"
      },
      "source": [
        "!wget https://www.dropbox.com/s/5zyp7kq5oyi3nc6/PKLS.zip?dl=1 -O zippkl"
      ],
      "execution_count": 1,
      "outputs": [
        {
          "output_type": "stream",
          "text": [
            "--2021-05-30 09:20:15--  https://www.dropbox.com/s/5zyp7kq5oyi3nc6/PKLS.zip?dl=1\n",
            "Resolving www.dropbox.com (www.dropbox.com)... 162.125.82.18, 2620:100:6030:18::a27d:5012\n",
            "Connecting to www.dropbox.com (www.dropbox.com)|162.125.82.18|:443... connected.\n",
            "HTTP request sent, awaiting response... 301 Moved Permanently\n",
            "Location: /s/dl/5zyp7kq5oyi3nc6/PKLS.zip [following]\n",
            "--2021-05-30 09:20:15--  https://www.dropbox.com/s/dl/5zyp7kq5oyi3nc6/PKLS.zip\n",
            "Reusing existing connection to www.dropbox.com:443.\n",
            "HTTP request sent, awaiting response... 302 Found\n",
            "Location: https://uc0d90c85053494bdba893a9b76b.dl.dropboxusercontent.com/cd/0/get/BPd423t-X9t-cZq6kLz2yK6PL_FADjKWhESFXEY8NE6eYU37P2qgstU4io-XXBdfKE336Ucf7htNgR9gyC7cDgPtBZjz6TYhf3BYD0aKtZdNTRAnZ0Gqwkpg1CPEFQntsh5kupGbR0wmFSNkrrCtiN0z/file?dl=1# [following]\n",
            "--2021-05-30 09:20:15--  https://uc0d90c85053494bdba893a9b76b.dl.dropboxusercontent.com/cd/0/get/BPd423t-X9t-cZq6kLz2yK6PL_FADjKWhESFXEY8NE6eYU37P2qgstU4io-XXBdfKE336Ucf7htNgR9gyC7cDgPtBZjz6TYhf3BYD0aKtZdNTRAnZ0Gqwkpg1CPEFQntsh5kupGbR0wmFSNkrrCtiN0z/file?dl=1\n",
            "Resolving uc0d90c85053494bdba893a9b76b.dl.dropboxusercontent.com (uc0d90c85053494bdba893a9b76b.dl.dropboxusercontent.com)... 162.125.82.15, 2620:100:6030:15::a27d:500f\n",
            "Connecting to uc0d90c85053494bdba893a9b76b.dl.dropboxusercontent.com (uc0d90c85053494bdba893a9b76b.dl.dropboxusercontent.com)|162.125.82.15|:443... connected.\n",
            "HTTP request sent, awaiting response... 200 OK\n",
            "Length: 367148077 (350M) [application/binary]\n",
            "Saving to: ‘zippkl’\n",
            "\n",
            "zippkl              100%[===================>] 350.14M  12.1MB/s    in 22s     \n",
            "\n",
            "2021-05-30 09:20:38 (16.0 MB/s) - ‘zippkl’ saved [367148077/367148077]\n",
            "\n"
          ],
          "name": "stdout"
        }
      ]
    },
    {
      "cell_type": "code",
      "metadata": {
        "colab": {
          "base_uri": "https://localhost:8080/"
        },
        "id": "I9XuNXfYk2Nj",
        "outputId": "d4f2e8c7-9e43-4191-a38c-9c870d038c25"
      },
      "source": [
        "!unzip zippkl"
      ],
      "execution_count": 2,
      "outputs": [
        {
          "output_type": "stream",
          "text": [
            "Archive:  zippkl\n",
            "  inflating: PKLS/edades.pkl         \n",
            "  inflating: PKLS/edadesTimm.pkl     \n",
            "  inflating: PKLS/siglos.pkl         \n",
            "  inflating: PKLS/tipos.pkl          \n"
          ],
          "name": "stdout"
        }
      ]
    },
    {
      "cell_type": "markdown",
      "metadata": {
        "id": "HHGlGVOTg0WN"
      },
      "source": [
        "# Aplicación para edades de una obra por época"
      ]
    },
    {
      "cell_type": "code",
      "metadata": {
        "colab": {
          "base_uri": "https://localhost:8080/"
        },
        "id": "WWnmJi0ilRk-",
        "outputId": "845dadfe-6f83-4eff-c3d2-ffbfa48c8279"
      },
      "source": [
        "!pip install fastai --upgrade\n",
        "from fastai.vision.all import *\n",
        "import os\n",
        "from google.colab import files\n",
        "from sklearn.model_selection import train_test_split\n",
        "import shutil"
      ],
      "execution_count": 4,
      "outputs": [
        {
          "output_type": "stream",
          "text": [
            "Collecting fastai\n",
            "\u001b[?25l  Downloading https://files.pythonhosted.org/packages/e8/79/e8a87e4c20238e114671314426227db8647d2b42744eab79e0917c59865e/fastai-2.3.1-py3-none-any.whl (194kB)\n",
            "\u001b[K     |████████████████████████████████| 204kB 2.8MB/s \n",
            "\u001b[?25hRequirement already satisfied, skipping upgrade: scikit-learn in /usr/local/lib/python3.7/dist-packages (from fastai) (0.22.2.post1)\n",
            "Requirement already satisfied, skipping upgrade: pyyaml in /usr/local/lib/python3.7/dist-packages (from fastai) (3.13)\n",
            "Requirement already satisfied, skipping upgrade: spacy<4 in /usr/local/lib/python3.7/dist-packages (from fastai) (2.2.4)\n",
            "Requirement already satisfied, skipping upgrade: packaging in /usr/local/lib/python3.7/dist-packages (from fastai) (20.9)\n",
            "Requirement already satisfied, skipping upgrade: matplotlib in /usr/local/lib/python3.7/dist-packages (from fastai) (3.2.2)\n",
            "Requirement already satisfied, skipping upgrade: torch<1.9,>=1.7.0 in /usr/local/lib/python3.7/dist-packages (from fastai) (1.8.1+cu101)\n",
            "Requirement already satisfied, skipping upgrade: pandas in /usr/local/lib/python3.7/dist-packages (from fastai) (1.1.5)\n",
            "Collecting fastcore<1.4,>=1.3.8\n",
            "\u001b[?25l  Downloading https://files.pythonhosted.org/packages/d8/b0/f1fbf554e0bf3c76e1bdc3b82eedfe41fcf656479586be38c64421082b1b/fastcore-1.3.20-py3-none-any.whl (53kB)\n",
            "\u001b[K     |████████████████████████████████| 61kB 7.8MB/s \n",
            "\u001b[?25hRequirement already satisfied, skipping upgrade: fastprogress>=0.2.4 in /usr/local/lib/python3.7/dist-packages (from fastai) (1.0.0)\n",
            "Requirement already satisfied, skipping upgrade: pip in /usr/local/lib/python3.7/dist-packages (from fastai) (19.3.1)\n",
            "Requirement already satisfied, skipping upgrade: scipy in /usr/local/lib/python3.7/dist-packages (from fastai) (1.4.1)\n",
            "Requirement already satisfied, skipping upgrade: requests in /usr/local/lib/python3.7/dist-packages (from fastai) (2.23.0)\n",
            "Requirement already satisfied, skipping upgrade: torchvision>=0.8.2 in /usr/local/lib/python3.7/dist-packages (from fastai) (0.9.1+cu101)\n",
            "Requirement already satisfied, skipping upgrade: pillow>6.0.0 in /usr/local/lib/python3.7/dist-packages (from fastai) (7.1.2)\n",
            "Requirement already satisfied, skipping upgrade: joblib>=0.11 in /usr/local/lib/python3.7/dist-packages (from scikit-learn->fastai) (1.0.1)\n",
            "Requirement already satisfied, skipping upgrade: numpy>=1.11.0 in /usr/local/lib/python3.7/dist-packages (from scikit-learn->fastai) (1.19.5)\n",
            "Requirement already satisfied, skipping upgrade: catalogue<1.1.0,>=0.0.7 in /usr/local/lib/python3.7/dist-packages (from spacy<4->fastai) (1.0.0)\n",
            "Requirement already satisfied, skipping upgrade: wasabi<1.1.0,>=0.4.0 in /usr/local/lib/python3.7/dist-packages (from spacy<4->fastai) (0.8.2)\n",
            "Requirement already satisfied, skipping upgrade: cymem<2.1.0,>=2.0.2 in /usr/local/lib/python3.7/dist-packages (from spacy<4->fastai) (2.0.5)\n",
            "Requirement already satisfied, skipping upgrade: tqdm<5.0.0,>=4.38.0 in /usr/local/lib/python3.7/dist-packages (from spacy<4->fastai) (4.41.1)\n",
            "Requirement already satisfied, skipping upgrade: blis<0.5.0,>=0.4.0 in /usr/local/lib/python3.7/dist-packages (from spacy<4->fastai) (0.4.1)\n",
            "Requirement already satisfied, skipping upgrade: thinc==7.4.0 in /usr/local/lib/python3.7/dist-packages (from spacy<4->fastai) (7.4.0)\n",
            "Requirement already satisfied, skipping upgrade: srsly<1.1.0,>=1.0.2 in /usr/local/lib/python3.7/dist-packages (from spacy<4->fastai) (1.0.5)\n",
            "Requirement already satisfied, skipping upgrade: murmurhash<1.1.0,>=0.28.0 in /usr/local/lib/python3.7/dist-packages (from spacy<4->fastai) (1.0.5)\n",
            "Requirement already satisfied, skipping upgrade: plac<1.2.0,>=0.9.6 in /usr/local/lib/python3.7/dist-packages (from spacy<4->fastai) (1.1.3)\n",
            "Requirement already satisfied, skipping upgrade: preshed<3.1.0,>=3.0.2 in /usr/local/lib/python3.7/dist-packages (from spacy<4->fastai) (3.0.5)\n",
            "Requirement already satisfied, skipping upgrade: setuptools in /usr/local/lib/python3.7/dist-packages (from spacy<4->fastai) (56.1.0)\n",
            "Requirement already satisfied, skipping upgrade: pyparsing>=2.0.2 in /usr/local/lib/python3.7/dist-packages (from packaging->fastai) (2.4.7)\n",
            "Requirement already satisfied, skipping upgrade: cycler>=0.10 in /usr/local/lib/python3.7/dist-packages (from matplotlib->fastai) (0.10.0)\n",
            "Requirement already satisfied, skipping upgrade: python-dateutil>=2.1 in /usr/local/lib/python3.7/dist-packages (from matplotlib->fastai) (2.8.1)\n",
            "Requirement already satisfied, skipping upgrade: kiwisolver>=1.0.1 in /usr/local/lib/python3.7/dist-packages (from matplotlib->fastai) (1.3.1)\n",
            "Requirement already satisfied, skipping upgrade: typing-extensions in /usr/local/lib/python3.7/dist-packages (from torch<1.9,>=1.7.0->fastai) (3.7.4.3)\n",
            "Requirement already satisfied, skipping upgrade: pytz>=2017.2 in /usr/local/lib/python3.7/dist-packages (from pandas->fastai) (2018.9)\n",
            "Requirement already satisfied, skipping upgrade: urllib3!=1.25.0,!=1.25.1,<1.26,>=1.21.1 in /usr/local/lib/python3.7/dist-packages (from requests->fastai) (1.24.3)\n",
            "Requirement already satisfied, skipping upgrade: certifi>=2017.4.17 in /usr/local/lib/python3.7/dist-packages (from requests->fastai) (2020.12.5)\n",
            "Requirement already satisfied, skipping upgrade: idna<3,>=2.5 in /usr/local/lib/python3.7/dist-packages (from requests->fastai) (2.10)\n",
            "Requirement already satisfied, skipping upgrade: chardet<4,>=3.0.2 in /usr/local/lib/python3.7/dist-packages (from requests->fastai) (3.0.4)\n",
            "Requirement already satisfied, skipping upgrade: importlib-metadata>=0.20; python_version < \"3.8\" in /usr/local/lib/python3.7/dist-packages (from catalogue<1.1.0,>=0.0.7->spacy<4->fastai) (4.0.1)\n",
            "Requirement already satisfied, skipping upgrade: six in /usr/local/lib/python3.7/dist-packages (from cycler>=0.10->matplotlib->fastai) (1.15.0)\n",
            "Requirement already satisfied, skipping upgrade: zipp>=0.5 in /usr/local/lib/python3.7/dist-packages (from importlib-metadata>=0.20; python_version < \"3.8\"->catalogue<1.1.0,>=0.0.7->spacy<4->fastai) (3.4.1)\n",
            "Installing collected packages: fastcore, fastai\n",
            "  Found existing installation: fastai 1.0.61\n",
            "    Uninstalling fastai-1.0.61:\n",
            "      Successfully uninstalled fastai-1.0.61\n",
            "Successfully installed fastai-2.3.1 fastcore-1.3.20\n"
          ],
          "name": "stdout"
        }
      ]
    },
    {
      "cell_type": "code",
      "metadata": {
        "colab": {
          "base_uri": "https://localhost:8080/"
        },
        "id": "oNlvbIYflmCy",
        "outputId": "3e983852-b090-4705-b049-cd8e004a630b"
      },
      "source": [
        "!pip install timm\n",
        "import timm "
      ],
      "execution_count": 7,
      "outputs": [
        {
          "output_type": "stream",
          "text": [
            "Collecting timm\n",
            "\u001b[?25l  Downloading https://files.pythonhosted.org/packages/ee/08/1ccaf8d516935666b7fa5f6aaddf157c66208ea0c93bb847ae09f166354f/timm-0.4.9-py3-none-any.whl (346kB)\n",
            "\u001b[K     |████████████████████████████████| 348kB 2.9MB/s \n",
            "\u001b[?25hRequirement already satisfied: torchvision in /usr/local/lib/python3.7/dist-packages (from timm) (0.9.1+cu101)\n",
            "Requirement already satisfied: torch>=1.4 in /usr/local/lib/python3.7/dist-packages (from timm) (1.8.1+cu101)\n",
            "Requirement already satisfied: numpy in /usr/local/lib/python3.7/dist-packages (from torchvision->timm) (1.19.5)\n",
            "Requirement already satisfied: pillow>=4.1.1 in /usr/local/lib/python3.7/dist-packages (from torchvision->timm) (7.1.2)\n",
            "Requirement already satisfied: typing-extensions in /usr/local/lib/python3.7/dist-packages (from torch>=1.4->timm) (3.7.4.3)\n",
            "Installing collected packages: timm\n",
            "Successfully installed timm-0.4.9\n"
          ],
          "name": "stdout"
        }
      ]
    },
    {
      "cell_type": "code",
      "metadata": {
        "id": "srUTB6UlnWn9"
      },
      "source": [
        "pip install viola\n",
        "from fastai.vision.all import *\n",
        "from fastai.vision.widgets import *"
      ],
      "execution_count": null,
      "outputs": []
    },
    {
      "cell_type": "code",
      "metadata": {
        "id": "8-liMBv9gRww"
      },
      "source": [
        "learn_inf = load_learner('PKLS/edadesTimm.pkl')"
      ],
      "execution_count": 25,
      "outputs": []
    },
    {
      "cell_type": "code",
      "metadata": {
        "id": "1WjRXlpcgqRP"
      },
      "source": [
        "btn_upload=widgets.FileUpload()\n",
        "out_pl=widgets.Output()\n",
        "lbl_pred=widgets.Label()"
      ],
      "execution_count": 26,
      "outputs": []
    },
    {
      "cell_type": "code",
      "metadata": {
        "id": "a5K2_n6Wgroe"
      },
      "source": [
        "#Interfaz\n",
        "def on_data_change(change):\n",
        "  lbl_pred.value= ' '\n",
        "\n",
        "  img=PILImage.create(btn_upload.data[-1])\n",
        "  out_pl.clear_output()\n",
        "  with out_pl:\n",
        "    display(img.to_thumb(224,244))\n",
        "  pred, pred_idx, probs=learn_inf.predict(img)\n",
        "  resultado=\"\"\n",
        "  if pred=='1':\n",
        "    resultado='Prehistoria'\n",
        "  elif pred=='2':\n",
        "    resultado='Edad Antigua'\n",
        "  elif pred=='3':\n",
        "    resultado='Edad Media'\n",
        "  elif pred=='4':\n",
        "    resultado='Edad Moderna'\n",
        "  elif pred=='5':\n",
        "    resultado='Edad Contemporánea'\n",
        "  lbl_pred.value= f'Edad de la obra:  {resultado} ; Probabilidad: {probs[pred_idx]: .04f}'"
      ],
      "execution_count": 27,
      "outputs": []
    },
    {
      "cell_type": "code",
      "metadata": {
        "colab": {
          "base_uri": "https://localhost:8080/",
          "height": 337,
          "referenced_widgets": [
            "be14bdf569874f3590d9f9305a249d0b",
            "064f02e2e57e4c48a65e55e7addcdf36",
            "5b8afb331a6d41c29dfd37b9c9c8bf1b",
            "ed9ef7ceea49481eb19f38cbf9a9579e",
            "a32d50c8d54a48eaacd000c3c960c397",
            "4eb1c1bd2727415b93442a1da8af10a3",
            "2907ab1fe1b8477fbb8efe9bd3db70bf",
            "1cfaea70c25549a9bddf0adafc4b4751",
            "3e5317345f724256900b2043dafa8edb",
            "0651f3d9b28745d0b399a400d068979c",
            "0eb079b1ea6e45649bb3f244ac61abfe",
            "f2bae839d9d44fa3b223213cbe719823",
            "08cdf82cf4554a12acf4d0c820126706"
          ]
        },
        "id": "SCWTl5wxgtCG",
        "outputId": "35198d0f-2484-4e06-897f-38d69f41da87"
      },
      "source": [
        "btn_upload.observe(on_data_change, names=['data'])\n",
        "display(VBox([widgets.Label('Elige una imagen de una obra'), btn_upload, out_pl, lbl_pred]))"
      ],
      "execution_count": 28,
      "outputs": [
        {
          "output_type": "display_data",
          "data": {
            "application/vnd.jupyter.widget-view+json": {
              "model_id": "be14bdf569874f3590d9f9305a249d0b",
              "version_minor": 0,
              "version_major": 2
            },
            "text/plain": [
              "VBox(children=(Label(value='Elige una imagen de una obra'), FileUpload(value={}, description='Upload'), Output…"
            ]
          },
          "metadata": {
            "tags": []
          }
        },
        {
          "output_type": "display_data",
          "data": {
            "text/html": [
              ""
            ],
            "text/plain": [
              "<IPython.core.display.HTML object>"
            ]
          },
          "metadata": {
            "tags": []
          }
        }
      ]
    },
    {
      "cell_type": "markdown",
      "metadata": {
        "id": "8O_p713ahi_M"
      },
      "source": [
        "# Aplicación para edades de una obra por tipos"
      ]
    },
    {
      "cell_type": "code",
      "metadata": {
        "id": "PXQRNUODhk1b"
      },
      "source": [
        "learn_inf2 = load_learner('PKLS/tipos.pkl')"
      ],
      "execution_count": 19,
      "outputs": []
    },
    {
      "cell_type": "code",
      "metadata": {
        "id": "9Qdt2d5AhnWb"
      },
      "source": [
        "btn_upload=widgets.FileUpload()\n",
        "out_pl=widgets.Output()\n",
        "lbl_pred=widgets.Label()"
      ],
      "execution_count": 20,
      "outputs": []
    },
    {
      "cell_type": "code",
      "metadata": {
        "id": "19-0zhr7homD"
      },
      "source": [
        "#Interfaz\n",
        "def on_data_change(change):\n",
        "  lbl_pred.value= ' '\n",
        "\n",
        "  img=PILImage.create(btn_upload.data[-1])\n",
        "  out_pl.clear_output()\n",
        "  with out_pl:\n",
        "    display(img.to_thumb(224,244))\n",
        "  pred, pred_idx, probs=learn_inf2.predict(img)\n",
        "  resultado=\"\"\n",
        "  if pred=='1':\n",
        "    resultado='Restos arquitectónicos. Silleria'\n",
        "  elif pred=='2':\n",
        "    resultado='Escultura'\n",
        "  elif pred=='3':\n",
        "    resultado='Pintura'\n",
        "  elif pred=='4':\n",
        "    resultado='Dibujo'\n",
        "  elif pred=='5':\n",
        "    resultado='Grabado. Artes Gráficas'\n",
        "  elif pred=='6':\n",
        "    resultado='Cerámica'\n",
        "  elif pred=='7':\n",
        "    resultado='Vidrio y cristal'\n",
        "  elif pred=='9':\n",
        "    resultado='Orfebreria y joyeria'\n",
        "  elif pred=='10':\n",
        "    resultado='Hierros y metales'\n",
        "  elif pred=='11':\n",
        "    resultado='Armas'\n",
        "  elif pred=='12':\n",
        "    resultado='Carpinteria'\n",
        "  elif pred=='13':\n",
        "    resultado='Tejidos'\n",
        "  elif pred=='16':\n",
        "    resultado='Bordadaos y encajes'\n",
        "  elif pred=='17':\n",
        "    resultado='Cueros'\n",
        "  elif pred=='18':\n",
        "    resultado='Cesteria y fibras vegetales'\n",
        "  elif pred=='19':\n",
        "    resultado='Mosaicos'\n",
        "  elif pred=='20':\n",
        "    resultado='Glípitica'\n",
        "  elif pred=='21':\n",
        "    resultado='Industria lítica. Cantería'\n",
        "  elif pred=='22':\n",
        "    resultado='Industria ósea. Eboraria'\n",
        "  elif pred=='23':\n",
        "    resultado='Epigrafía'\n",
        "  elif pred=='24':\n",
        "    resultado='Numismática'\n",
        "  elif pred=='25':\n",
        "    resultado='Instrumentos. Aparatos. Máquinas'\n",
        "  elif pred=='26':\n",
        "    resultado='Restos órganicos'\n",
        "  elif pred=='27':\n",
        "    resultado='Malacología'\n",
        "  elif pred=='27':\n",
        "    resultado='Materiales sintéticos'\n",
        "\n",
        "  lbl_pred.value= f'Tipo de obra:  {resultado} ; Probabilidad: {probs[pred_idx]: .04f}'"
      ],
      "execution_count": 22,
      "outputs": []
    },
    {
      "cell_type": "code",
      "metadata": {
        "colab": {
          "base_uri": "https://localhost:8080/",
          "height": 337,
          "referenced_widgets": [
            "e8ad97e8187f4ce09785e0a7d1e25f15",
            "4c859d1be5434514961fee31e6a74583",
            "5bfad5816f5e475d9b7e5db23b5b959b",
            "7d8d9e177b354b24a4ac5479ae3ca976",
            "37f1916fba4c4ae9a7d744d85c517fee",
            "f8f3eaa099944b098ca51e08da0e6bce",
            "495af6b9fcee4600aeaf9589ee084430",
            "b3abce04a7924fb19aff555b0f52a066",
            "a693c42a674640b9ba655916378b3895",
            "63aefbb7fd064aa296ca6d5a63ceadbc",
            "e35aecb27c284d0889e48b2b519b788b",
            "94323c36567a47c49af2cf2b1195a728",
            "f6beb55297084606b402ad80c7d98ebc"
          ]
        },
        "id": "IkY28GFnhpmy",
        "outputId": "124c58f9-5862-44fe-db5a-17b9dd3eb8a2"
      },
      "source": [
        "btn_upload.observe(on_data_change, names=['data'])\n",
        "display(VBox([widgets.Label('Elige una imagen de una obra'), btn_upload, out_pl, lbl_pred]))"
      ],
      "execution_count": 23,
      "outputs": [
        {
          "output_type": "display_data",
          "data": {
            "application/vnd.jupyter.widget-view+json": {
              "model_id": "e8ad97e8187f4ce09785e0a7d1e25f15",
              "version_minor": 0,
              "version_major": 2
            },
            "text/plain": [
              "VBox(children=(Label(value='Elige una imagen de una obra'), FileUpload(value={}, description='Upload'), Output…"
            ]
          },
          "metadata": {
            "tags": []
          }
        },
        {
          "output_type": "display_data",
          "data": {
            "text/html": [
              ""
            ],
            "text/plain": [
              "<IPython.core.display.HTML object>"
            ]
          },
          "metadata": {
            "tags": []
          }
        },
        {
          "output_type": "display_data",
          "data": {
            "text/html": [
              ""
            ],
            "text/plain": [
              "<IPython.core.display.HTML object>"
            ]
          },
          "metadata": {
            "tags": []
          }
        }
      ]
    }
  ]
}