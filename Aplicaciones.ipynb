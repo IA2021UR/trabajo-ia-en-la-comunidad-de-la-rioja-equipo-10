{
  "nbformat": 4,
  "nbformat_minor": 0,
  "metadata": {
    "colab": {
      "name": "Aplicaciones.ipynb",
      "provenance": [],
      "toc_visible": true,
      "authorship_tag": "ABX9TyMfKxn9fq35gj4eJQ7csh98",
      "include_colab_link": true
    },
    "kernelspec": {
      "name": "python3",
      "display_name": "Python 3"
    },
    "language_info": {
      "name": "python"
    },
    "widgets": {
      "application/vnd.jupyter.widget-state+json": {
        "f4fd0a99812242a8b9dee1f8c6af0bba": {
          "model_module": "@jupyter-widgets/controls",
          "model_name": "VBoxModel",
          "state": {
            "_view_name": "VBoxView",
            "_dom_classes": [],
            "_model_name": "VBoxModel",
            "_view_module": "@jupyter-widgets/controls",
            "_model_module_version": "1.5.0",
            "_view_count": null,
            "_view_module_version": "1.5.0",
            "box_style": "",
            "layout": "IPY_MODEL_3c129c6948844e53b9f13d345d87c4d4",
            "_model_module": "@jupyter-widgets/controls",
            "children": [
              "IPY_MODEL_3ea48dc72d354d19b683c571a0a735e9",
              "IPY_MODEL_f8b0bde0be144407935aad45e397b651",
              "IPY_MODEL_e72a54f017364bef930cdbaa3525416b",
              "IPY_MODEL_6f88a129bfa44a5384917288a48497f6"
            ]
          }
        },
        "3c129c6948844e53b9f13d345d87c4d4": {
          "model_module": "@jupyter-widgets/base",
          "model_name": "LayoutModel",
          "state": {
            "_view_name": "LayoutView",
            "grid_template_rows": null,
            "right": null,
            "justify_content": null,
            "_view_module": "@jupyter-widgets/base",
            "overflow": null,
            "_model_module_version": "1.2.0",
            "_view_count": null,
            "flex_flow": null,
            "width": null,
            "min_width": null,
            "border": null,
            "align_items": null,
            "bottom": null,
            "_model_module": "@jupyter-widgets/base",
            "top": null,
            "grid_column": null,
            "overflow_y": null,
            "overflow_x": null,
            "grid_auto_flow": null,
            "grid_area": null,
            "grid_template_columns": null,
            "flex": null,
            "_model_name": "LayoutModel",
            "justify_items": null,
            "grid_row": null,
            "max_height": null,
            "align_content": null,
            "visibility": null,
            "align_self": null,
            "height": null,
            "min_height": null,
            "padding": null,
            "grid_auto_rows": null,
            "grid_gap": null,
            "max_width": null,
            "order": null,
            "_view_module_version": "1.2.0",
            "grid_template_areas": null,
            "object_position": null,
            "object_fit": null,
            "grid_auto_columns": null,
            "margin": null,
            "display": null,
            "left": null
          }
        },
        "3ea48dc72d354d19b683c571a0a735e9": {
          "model_module": "@jupyter-widgets/controls",
          "model_name": "LabelModel",
          "state": {
            "_view_name": "LabelView",
            "style": "IPY_MODEL_780718de5a4a4b78af5f9b480e7de1a3",
            "_dom_classes": [],
            "description": "",
            "_model_name": "LabelModel",
            "placeholder": "​",
            "_view_module": "@jupyter-widgets/controls",
            "_model_module_version": "1.5.0",
            "value": "Elige una imagen de una obra",
            "_view_count": null,
            "_view_module_version": "1.5.0",
            "description_tooltip": null,
            "_model_module": "@jupyter-widgets/controls",
            "layout": "IPY_MODEL_76d0e4d06c944026a68201f34fb10ec0"
          }
        },
        "f8b0bde0be144407935aad45e397b651": {
          "model_module": "@jupyter-widgets/controls",
          "model_name": "FileUploadModel",
          "state": {
            "_view_name": "FileUploadView",
            "_counter": 1,
            "style": "IPY_MODEL_cc09d43bf316428cb9f06597bfed8dff",
            "_dom_classes": [],
            "description": "Upload",
            "multiple": false,
            "_model_name": "FileUploadModel",
            "data": [
              null
            ],
            "button_style": "",
            "_view_module": "@jupyter-widgets/controls",
            "_model_module_version": "1.5.0",
            "accept": "",
            "_view_count": null,
            "disabled": false,
            "_view_module_version": "1.5.0",
            "error": "",
            "description_tooltip": null,
            "metadata": [
              {
                "name": "3.jpg",
                "type": "image/jpeg",
                "size": 31701,
                "lastModified": 1622367383075
              }
            ],
            "_model_module": "@jupyter-widgets/controls",
            "layout": "IPY_MODEL_fea903cd93564c8a867c263425bfa1b9",
            "icon": "upload"
          }
        },
        "e72a54f017364bef930cdbaa3525416b": {
          "model_module": "@jupyter-widgets/output",
          "model_name": "OutputModel",
          "state": {
            "_view_name": "OutputView",
            "msg_id": "",
            "_dom_classes": [],
            "_model_name": "OutputModel",
            "outputs": [
              {
                "output_type": "display_data",
                "metadata": {
                  "tags": []
                },
                "image/png": "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\n",
                "text/plain": "<PIL.Image.Image image mode=RGB size=244x163 at 0x7F38D5B04490>"
              }
            ],
            "_view_module": "@jupyter-widgets/output",
            "_model_module_version": "1.0.0",
            "_view_count": null,
            "_view_module_version": "1.0.0",
            "layout": "IPY_MODEL_8ecdac147664417f81f378abac637fb8",
            "_model_module": "@jupyter-widgets/output"
          }
        },
        "6f88a129bfa44a5384917288a48497f6": {
          "model_module": "@jupyter-widgets/controls",
          "model_name": "LabelModel",
          "state": {
            "_view_name": "LabelView",
            "style": "IPY_MODEL_34287d3efb4140caa35038cee82fba00",
            "_dom_classes": [],
            "description": "",
            "_model_name": "LabelModel",
            "placeholder": "​",
            "_view_module": "@jupyter-widgets/controls",
            "_model_module_version": "1.5.0",
            "value": "Edad de la obra:  Edad Moderna ; Probabilidad:  0.5285",
            "_view_count": null,
            "_view_module_version": "1.5.0",
            "description_tooltip": null,
            "_model_module": "@jupyter-widgets/controls",
            "layout": "IPY_MODEL_61d5c01ecad44e91bc5c629e7729627c"
          }
        },
        "780718de5a4a4b78af5f9b480e7de1a3": {
          "model_module": "@jupyter-widgets/controls",
          "model_name": "DescriptionStyleModel",
          "state": {
            "_view_name": "StyleView",
            "_model_name": "DescriptionStyleModel",
            "description_width": "",
            "_view_module": "@jupyter-widgets/base",
            "_model_module_version": "1.5.0",
            "_view_count": null,
            "_view_module_version": "1.2.0",
            "_model_module": "@jupyter-widgets/controls"
          }
        },
        "76d0e4d06c944026a68201f34fb10ec0": {
          "model_module": "@jupyter-widgets/base",
          "model_name": "LayoutModel",
          "state": {
            "_view_name": "LayoutView",
            "grid_template_rows": null,
            "right": null,
            "justify_content": null,
            "_view_module": "@jupyter-widgets/base",
            "overflow": null,
            "_model_module_version": "1.2.0",
            "_view_count": null,
            "flex_flow": null,
            "width": null,
            "min_width": null,
            "border": null,
            "align_items": null,
            "bottom": null,
            "_model_module": "@jupyter-widgets/base",
            "top": null,
            "grid_column": null,
            "overflow_y": null,
            "overflow_x": null,
            "grid_auto_flow": null,
            "grid_area": null,
            "grid_template_columns": null,
            "flex": null,
            "_model_name": "LayoutModel",
            "justify_items": null,
            "grid_row": null,
            "max_height": null,
            "align_content": null,
            "visibility": null,
            "align_self": null,
            "height": null,
            "min_height": null,
            "padding": null,
            "grid_auto_rows": null,
            "grid_gap": null,
            "max_width": null,
            "order": null,
            "_view_module_version": "1.2.0",
            "grid_template_areas": null,
            "object_position": null,
            "object_fit": null,
            "grid_auto_columns": null,
            "margin": null,
            "display": null,
            "left": null
          }
        },
        "cc09d43bf316428cb9f06597bfed8dff": {
          "model_module": "@jupyter-widgets/controls",
          "model_name": "ButtonStyleModel",
          "state": {
            "_view_name": "StyleView",
            "_model_name": "ButtonStyleModel",
            "_view_module": "@jupyter-widgets/base",
            "_model_module_version": "1.5.0",
            "_view_count": null,
            "button_color": null,
            "font_weight": "",
            "_view_module_version": "1.2.0",
            "_model_module": "@jupyter-widgets/controls"
          }
        },
        "fea903cd93564c8a867c263425bfa1b9": {
          "model_module": "@jupyter-widgets/base",
          "model_name": "LayoutModel",
          "state": {
            "_view_name": "LayoutView",
            "grid_template_rows": null,
            "right": null,
            "justify_content": null,
            "_view_module": "@jupyter-widgets/base",
            "overflow": null,
            "_model_module_version": "1.2.0",
            "_view_count": null,
            "flex_flow": null,
            "width": null,
            "min_width": null,
            "border": null,
            "align_items": null,
            "bottom": null,
            "_model_module": "@jupyter-widgets/base",
            "top": null,
            "grid_column": null,
            "overflow_y": null,
            "overflow_x": null,
            "grid_auto_flow": null,
            "grid_area": null,
            "grid_template_columns": null,
            "flex": null,
            "_model_name": "LayoutModel",
            "justify_items": null,
            "grid_row": null,
            "max_height": null,
            "align_content": null,
            "visibility": null,
            "align_self": null,
            "height": null,
            "min_height": null,
            "padding": null,
            "grid_auto_rows": null,
            "grid_gap": null,
            "max_width": null,
            "order": null,
            "_view_module_version": "1.2.0",
            "grid_template_areas": null,
            "object_position": null,
            "object_fit": null,
            "grid_auto_columns": null,
            "margin": null,
            "display": null,
            "left": null
          }
        },
        "34287d3efb4140caa35038cee82fba00": {
          "model_module": "@jupyter-widgets/controls",
          "model_name": "DescriptionStyleModel",
          "state": {
            "_view_name": "StyleView",
            "_model_name": "DescriptionStyleModel",
            "description_width": "",
            "_view_module": "@jupyter-widgets/base",
            "_model_module_version": "1.5.0",
            "_view_count": null,
            "_view_module_version": "1.2.0",
            "_model_module": "@jupyter-widgets/controls"
          }
        },
        "61d5c01ecad44e91bc5c629e7729627c": {
          "model_module": "@jupyter-widgets/base",
          "model_name": "LayoutModel",
          "state": {
            "_view_name": "LayoutView",
            "grid_template_rows": null,
            "right": null,
            "justify_content": null,
            "_view_module": "@jupyter-widgets/base",
            "overflow": null,
            "_model_module_version": "1.2.0",
            "_view_count": null,
            "flex_flow": null,
            "width": null,
            "min_width": null,
            "border": null,
            "align_items": null,
            "bottom": null,
            "_model_module": "@jupyter-widgets/base",
            "top": null,
            "grid_column": null,
            "overflow_y": null,
            "overflow_x": null,
            "grid_auto_flow": null,
            "grid_area": null,
            "grid_template_columns": null,
            "flex": null,
            "_model_name": "LayoutModel",
            "justify_items": null,
            "grid_row": null,
            "max_height": null,
            "align_content": null,
            "visibility": null,
            "align_self": null,
            "height": null,
            "min_height": null,
            "padding": null,
            "grid_auto_rows": null,
            "grid_gap": null,
            "max_width": null,
            "order": null,
            "_view_module_version": "1.2.0",
            "grid_template_areas": null,
            "object_position": null,
            "object_fit": null,
            "grid_auto_columns": null,
            "margin": null,
            "display": null,
            "left": null
          }
        },
        "8ecdac147664417f81f378abac637fb8": {
          "model_module": "@jupyter-widgets/base",
          "model_name": "LayoutModel",
          "state": {
            "_view_name": "LayoutView",
            "grid_template_rows": null,
            "right": null,
            "justify_content": null,
            "_view_module": "@jupyter-widgets/base",
            "overflow": null,
            "_model_module_version": "1.2.0",
            "_view_count": null,
            "flex_flow": null,
            "width": null,
            "min_width": null,
            "border": null,
            "align_items": null,
            "bottom": null,
            "_model_module": "@jupyter-widgets/base",
            "top": null,
            "grid_column": null,
            "overflow_y": null,
            "overflow_x": null,
            "grid_auto_flow": null,
            "grid_area": null,
            "grid_template_columns": null,
            "flex": null,
            "_model_name": "LayoutModel",
            "justify_items": null,
            "grid_row": null,
            "max_height": null,
            "align_content": null,
            "visibility": null,
            "align_self": null,
            "height": null,
            "min_height": null,
            "padding": null,
            "grid_auto_rows": null,
            "grid_gap": null,
            "max_width": null,
            "order": null,
            "_view_module_version": "1.2.0",
            "grid_template_areas": null,
            "object_position": null,
            "object_fit": null,
            "grid_auto_columns": null,
            "margin": null,
            "display": null,
            "left": null
          }
        },
        "b578114656aa47f6810461796751eb09": {
          "model_module": "@jupyter-widgets/controls",
          "model_name": "VBoxModel",
          "state": {
            "_view_name": "VBoxView",
            "_dom_classes": [],
            "_model_name": "VBoxModel",
            "_view_module": "@jupyter-widgets/controls",
            "_model_module_version": "1.5.0",
            "_view_count": null,
            "_view_module_version": "1.5.0",
            "box_style": "",
            "layout": "IPY_MODEL_166283f8200c47d891a376cd4ba59fc1",
            "_model_module": "@jupyter-widgets/controls",
            "children": [
              "IPY_MODEL_b6c8468c3c0e473787f36b1146b87846",
              "IPY_MODEL_a9df3bcc5ef349f28b4444d1a8c848b6",
              "IPY_MODEL_1c717daf9b494b859396e0489a7bdc0a",
              "IPY_MODEL_93f0c29fcdf1423e942742633e52eff3"
            ]
          }
        },
        "166283f8200c47d891a376cd4ba59fc1": {
          "model_module": "@jupyter-widgets/base",
          "model_name": "LayoutModel",
          "state": {
            "_view_name": "LayoutView",
            "grid_template_rows": null,
            "right": null,
            "justify_content": null,
            "_view_module": "@jupyter-widgets/base",
            "overflow": null,
            "_model_module_version": "1.2.0",
            "_view_count": null,
            "flex_flow": null,
            "width": null,
            "min_width": null,
            "border": null,
            "align_items": null,
            "bottom": null,
            "_model_module": "@jupyter-widgets/base",
            "top": null,
            "grid_column": null,
            "overflow_y": null,
            "overflow_x": null,
            "grid_auto_flow": null,
            "grid_area": null,
            "grid_template_columns": null,
            "flex": null,
            "_model_name": "LayoutModel",
            "justify_items": null,
            "grid_row": null,
            "max_height": null,
            "align_content": null,
            "visibility": null,
            "align_self": null,
            "height": null,
            "min_height": null,
            "padding": null,
            "grid_auto_rows": null,
            "grid_gap": null,
            "max_width": null,
            "order": null,
            "_view_module_version": "1.2.0",
            "grid_template_areas": null,
            "object_position": null,
            "object_fit": null,
            "grid_auto_columns": null,
            "margin": null,
            "display": null,
            "left": null
          }
        },
        "b6c8468c3c0e473787f36b1146b87846": {
          "model_module": "@jupyter-widgets/controls",
          "model_name": "LabelModel",
          "state": {
            "_view_name": "LabelView",
            "style": "IPY_MODEL_c920e09164cf45149c145c29cca3b85f",
            "_dom_classes": [],
            "description": "",
            "_model_name": "LabelModel",
            "placeholder": "​",
            "_view_module": "@jupyter-widgets/controls",
            "_model_module_version": "1.5.0",
            "value": "Elige una imagen de una obra",
            "_view_count": null,
            "_view_module_version": "1.5.0",
            "description_tooltip": null,
            "_model_module": "@jupyter-widgets/controls",
            "layout": "IPY_MODEL_2ab9c6c0e2944ffd88432878cab2a016"
          }
        },
        "a9df3bcc5ef349f28b4444d1a8c848b6": {
          "model_module": "@jupyter-widgets/controls",
          "model_name": "FileUploadModel",
          "state": {
            "_view_name": "FileUploadView",
            "_counter": 1,
            "style": "IPY_MODEL_35e1bc81614442ea912ab7a274f002e8",
            "_dom_classes": [],
            "description": "Upload",
            "multiple": false,
            "_model_name": "FileUploadModel",
            "data": [
              null
            ],
            "button_style": "",
            "_view_module": "@jupyter-widgets/controls",
            "_model_module_version": "1.5.0",
            "accept": "",
            "_view_count": null,
            "disabled": false,
            "_view_module_version": "1.5.0",
            "error": "",
            "description_tooltip": null,
            "metadata": [
              {
                "name": "3.jpg",
                "type": "image/jpeg",
                "size": 31701,
                "lastModified": 1622367383075
              }
            ],
            "_model_module": "@jupyter-widgets/controls",
            "layout": "IPY_MODEL_65b8797c92794418add1060972efef78",
            "icon": "upload"
          }
        },
        "1c717daf9b494b859396e0489a7bdc0a": {
          "model_module": "@jupyter-widgets/output",
          "model_name": "OutputModel",
          "state": {
            "_view_name": "OutputView",
            "msg_id": "",
            "_dom_classes": [],
            "_model_name": "OutputModel",
            "outputs": [
              {
                "output_type": "display_data",
                "metadata": {
                  "tags": []
                },
                "image/png": "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\n",
                "text/plain": "<PIL.Image.Image image mode=RGB size=244x163 at 0x7F38D5B62DD0>"
              }
            ],
            "_view_module": "@jupyter-widgets/output",
            "_model_module_version": "1.0.0",
            "_view_count": null,
            "_view_module_version": "1.0.0",
            "layout": "IPY_MODEL_a722f22115d24d8ca9e94aeb3a9b54c2",
            "_model_module": "@jupyter-widgets/output"
          }
        },
        "93f0c29fcdf1423e942742633e52eff3": {
          "model_module": "@jupyter-widgets/controls",
          "model_name": "LabelModel",
          "state": {
            "_view_name": "LabelView",
            "style": "IPY_MODEL_ac9b40a4748d418bb1f4e3e8abbf0780",
            "_dom_classes": [],
            "description": "",
            "_model_name": "LabelModel",
            "placeholder": "​",
            "_view_module": "@jupyter-widgets/controls",
            "_model_module_version": "1.5.0",
            "value": "Tipo de obra:  Industria lítica. Cantería ; Probabilidad:  0.4948",
            "_view_count": null,
            "_view_module_version": "1.5.0",
            "description_tooltip": null,
            "_model_module": "@jupyter-widgets/controls",
            "layout": "IPY_MODEL_c884f5c60e744514901774188f0ef6f4"
          }
        },
        "c920e09164cf45149c145c29cca3b85f": {
          "model_module": "@jupyter-widgets/controls",
          "model_name": "DescriptionStyleModel",
          "state": {
            "_view_name": "StyleView",
            "_model_name": "DescriptionStyleModel",
            "description_width": "",
            "_view_module": "@jupyter-widgets/base",
            "_model_module_version": "1.5.0",
            "_view_count": null,
            "_view_module_version": "1.2.0",
            "_model_module": "@jupyter-widgets/controls"
          }
        },
        "2ab9c6c0e2944ffd88432878cab2a016": {
          "model_module": "@jupyter-widgets/base",
          "model_name": "LayoutModel",
          "state": {
            "_view_name": "LayoutView",
            "grid_template_rows": null,
            "right": null,
            "justify_content": null,
            "_view_module": "@jupyter-widgets/base",
            "overflow": null,
            "_model_module_version": "1.2.0",
            "_view_count": null,
            "flex_flow": null,
            "width": null,
            "min_width": null,
            "border": null,
            "align_items": null,
            "bottom": null,
            "_model_module": "@jupyter-widgets/base",
            "top": null,
            "grid_column": null,
            "overflow_y": null,
            "overflow_x": null,
            "grid_auto_flow": null,
            "grid_area": null,
            "grid_template_columns": null,
            "flex": null,
            "_model_name": "LayoutModel",
            "justify_items": null,
            "grid_row": null,
            "max_height": null,
            "align_content": null,
            "visibility": null,
            "align_self": null,
            "height": null,
            "min_height": null,
            "padding": null,
            "grid_auto_rows": null,
            "grid_gap": null,
            "max_width": null,
            "order": null,
            "_view_module_version": "1.2.0",
            "grid_template_areas": null,
            "object_position": null,
            "object_fit": null,
            "grid_auto_columns": null,
            "margin": null,
            "display": null,
            "left": null
          }
        },
        "35e1bc81614442ea912ab7a274f002e8": {
          "model_module": "@jupyter-widgets/controls",
          "model_name": "ButtonStyleModel",
          "state": {
            "_view_name": "StyleView",
            "_model_name": "ButtonStyleModel",
            "_view_module": "@jupyter-widgets/base",
            "_model_module_version": "1.5.0",
            "_view_count": null,
            "button_color": null,
            "font_weight": "",
            "_view_module_version": "1.2.0",
            "_model_module": "@jupyter-widgets/controls"
          }
        },
        "65b8797c92794418add1060972efef78": {
          "model_module": "@jupyter-widgets/base",
          "model_name": "LayoutModel",
          "state": {
            "_view_name": "LayoutView",
            "grid_template_rows": null,
            "right": null,
            "justify_content": null,
            "_view_module": "@jupyter-widgets/base",
            "overflow": null,
            "_model_module_version": "1.2.0",
            "_view_count": null,
            "flex_flow": null,
            "width": null,
            "min_width": null,
            "border": null,
            "align_items": null,
            "bottom": null,
            "_model_module": "@jupyter-widgets/base",
            "top": null,
            "grid_column": null,
            "overflow_y": null,
            "overflow_x": null,
            "grid_auto_flow": null,
            "grid_area": null,
            "grid_template_columns": null,
            "flex": null,
            "_model_name": "LayoutModel",
            "justify_items": null,
            "grid_row": null,
            "max_height": null,
            "align_content": null,
            "visibility": null,
            "align_self": null,
            "height": null,
            "min_height": null,
            "padding": null,
            "grid_auto_rows": null,
            "grid_gap": null,
            "max_width": null,
            "order": null,
            "_view_module_version": "1.2.0",
            "grid_template_areas": null,
            "object_position": null,
            "object_fit": null,
            "grid_auto_columns": null,
            "margin": null,
            "display": null,
            "left": null
          }
        },
        "ac9b40a4748d418bb1f4e3e8abbf0780": {
          "model_module": "@jupyter-widgets/controls",
          "model_name": "DescriptionStyleModel",
          "state": {
            "_view_name": "StyleView",
            "_model_name": "DescriptionStyleModel",
            "description_width": "",
            "_view_module": "@jupyter-widgets/base",
            "_model_module_version": "1.5.0",
            "_view_count": null,
            "_view_module_version": "1.2.0",
            "_model_module": "@jupyter-widgets/controls"
          }
        },
        "c884f5c60e744514901774188f0ef6f4": {
          "model_module": "@jupyter-widgets/base",
          "model_name": "LayoutModel",
          "state": {
            "_view_name": "LayoutView",
            "grid_template_rows": null,
            "right": null,
            "justify_content": null,
            "_view_module": "@jupyter-widgets/base",
            "overflow": null,
            "_model_module_version": "1.2.0",
            "_view_count": null,
            "flex_flow": null,
            "width": null,
            "min_width": null,
            "border": null,
            "align_items": null,
            "bottom": null,
            "_model_module": "@jupyter-widgets/base",
            "top": null,
            "grid_column": null,
            "overflow_y": null,
            "overflow_x": null,
            "grid_auto_flow": null,
            "grid_area": null,
            "grid_template_columns": null,
            "flex": null,
            "_model_name": "LayoutModel",
            "justify_items": null,
            "grid_row": null,
            "max_height": null,
            "align_content": null,
            "visibility": null,
            "align_self": null,
            "height": null,
            "min_height": null,
            "padding": null,
            "grid_auto_rows": null,
            "grid_gap": null,
            "max_width": null,
            "order": null,
            "_view_module_version": "1.2.0",
            "grid_template_areas": null,
            "object_position": null,
            "object_fit": null,
            "grid_auto_columns": null,
            "margin": null,
            "display": null,
            "left": null
          }
        },
        "a722f22115d24d8ca9e94aeb3a9b54c2": {
          "model_module": "@jupyter-widgets/base",
          "model_name": "LayoutModel",
          "state": {
            "_view_name": "LayoutView",
            "grid_template_rows": null,
            "right": null,
            "justify_content": null,
            "_view_module": "@jupyter-widgets/base",
            "overflow": null,
            "_model_module_version": "1.2.0",
            "_view_count": null,
            "flex_flow": null,
            "width": null,
            "min_width": null,
            "border": null,
            "align_items": null,
            "bottom": null,
            "_model_module": "@jupyter-widgets/base",
            "top": null,
            "grid_column": null,
            "overflow_y": null,
            "overflow_x": null,
            "grid_auto_flow": null,
            "grid_area": null,
            "grid_template_columns": null,
            "flex": null,
            "_model_name": "LayoutModel",
            "justify_items": null,
            "grid_row": null,
            "max_height": null,
            "align_content": null,
            "visibility": null,
            "align_self": null,
            "height": null,
            "min_height": null,
            "padding": null,
            "grid_auto_rows": null,
            "grid_gap": null,
            "max_width": null,
            "order": null,
            "_view_module_version": "1.2.0",
            "grid_template_areas": null,
            "object_position": null,
            "object_fit": null,
            "grid_auto_columns": null,
            "margin": null,
            "display": null,
            "left": null
          }
        }
      }
    }
  },
  "cells": [
    {
      "cell_type": "markdown",
      "metadata": {
        "id": "view-in-github",
        "colab_type": "text"
      },
      "source": [
        "<a href=\"https://colab.research.google.com/github/IA2021UR/trabajo-ia-en-la-comunidad-de-la-rioja-equipo-10/blob/main/Aplicaciones.ipynb\" target=\"_parent\"><img src=\"https://colab.research.google.com/assets/colab-badge.svg\" alt=\"Open In Colab\"/></a>"
      ]
    },
    {
      "cell_type": "code",
      "metadata": {
        "colab": {
          "base_uri": "https://localhost:8080/"
        },
        "id": "AfBcZ0ulg4Dd",
        "outputId": "3baf2087-63db-475c-fe42-9c1b18355a6e"
      },
      "source": [
        "!wget https://www.dropbox.com/s/5zyp7kq5oyi3nc6/PKLS.zip?dl=1 -O zippkl"
      ],
      "execution_count": 1,
      "outputs": [
        {
          "output_type": "stream",
          "text": [
            "--2021-05-30 09:20:15--  https://www.dropbox.com/s/5zyp7kq5oyi3nc6/PKLS.zip?dl=1\n",
            "Resolving www.dropbox.com (www.dropbox.com)... 162.125.82.18, 2620:100:6030:18::a27d:5012\n",
            "Connecting to www.dropbox.com (www.dropbox.com)|162.125.82.18|:443... connected.\n",
            "HTTP request sent, awaiting response... 301 Moved Permanently\n",
            "Location: /s/dl/5zyp7kq5oyi3nc6/PKLS.zip [following]\n",
            "--2021-05-30 09:20:15--  https://www.dropbox.com/s/dl/5zyp7kq5oyi3nc6/PKLS.zip\n",
            "Reusing existing connection to www.dropbox.com:443.\n",
            "HTTP request sent, awaiting response... 302 Found\n",
            "Location: https://uc0d90c85053494bdba893a9b76b.dl.dropboxusercontent.com/cd/0/get/BPd423t-X9t-cZq6kLz2yK6PL_FADjKWhESFXEY8NE6eYU37P2qgstU4io-XXBdfKE336Ucf7htNgR9gyC7cDgPtBZjz6TYhf3BYD0aKtZdNTRAnZ0Gqwkpg1CPEFQntsh5kupGbR0wmFSNkrrCtiN0z/file?dl=1# [following]\n",
            "--2021-05-30 09:20:15--  https://uc0d90c85053494bdba893a9b76b.dl.dropboxusercontent.com/cd/0/get/BPd423t-X9t-cZq6kLz2yK6PL_FADjKWhESFXEY8NE6eYU37P2qgstU4io-XXBdfKE336Ucf7htNgR9gyC7cDgPtBZjz6TYhf3BYD0aKtZdNTRAnZ0Gqwkpg1CPEFQntsh5kupGbR0wmFSNkrrCtiN0z/file?dl=1\n",
            "Resolving uc0d90c85053494bdba893a9b76b.dl.dropboxusercontent.com (uc0d90c85053494bdba893a9b76b.dl.dropboxusercontent.com)... 162.125.82.15, 2620:100:6030:15::a27d:500f\n",
            "Connecting to uc0d90c85053494bdba893a9b76b.dl.dropboxusercontent.com (uc0d90c85053494bdba893a9b76b.dl.dropboxusercontent.com)|162.125.82.15|:443... connected.\n",
            "HTTP request sent, awaiting response... 200 OK\n",
            "Length: 367148077 (350M) [application/binary]\n",
            "Saving to: ‘zippkl’\n",
            "\n",
            "zippkl              100%[===================>] 350.14M  12.1MB/s    in 22s     \n",
            "\n",
            "2021-05-30 09:20:38 (16.0 MB/s) - ‘zippkl’ saved [367148077/367148077]\n",
            "\n"
          ],
          "name": "stdout"
        }
      ]
    },
    {
      "cell_type": "code",
      "metadata": {
        "colab": {
          "base_uri": "https://localhost:8080/"
        },
        "id": "I9XuNXfYk2Nj",
        "outputId": "d4f2e8c7-9e43-4191-a38c-9c870d038c25"
      },
      "source": [
        "!unzip zippkl"
      ],
      "execution_count": 2,
      "outputs": [
        {
          "output_type": "stream",
          "text": [
            "Archive:  zippkl\n",
            "  inflating: PKLS/edades.pkl         \n",
            "  inflating: PKLS/edadesTimm.pkl     \n",
            "  inflating: PKLS/siglos.pkl         \n",
            "  inflating: PKLS/tipos.pkl          \n"
          ],
          "name": "stdout"
        }
      ]
    },
    {
      "cell_type": "markdown",
      "metadata": {
        "id": "HHGlGVOTg0WN"
      },
      "source": [
        "# Aplicación para edades de una obra por época"
      ]
    },
    {
      "cell_type": "code",
      "metadata": {
        "colab": {
          "base_uri": "https://localhost:8080/"
        },
        "id": "WWnmJi0ilRk-",
        "outputId": "845dadfe-6f83-4eff-c3d2-ffbfa48c8279"
      },
      "source": [
        "!pip install fastai --upgrade\n",
        "from fastai.vision.all import *\n",
        "import os\n",
        "from google.colab import files\n",
        "from sklearn.model_selection import train_test_split\n",
        "import shutil"
      ],
      "execution_count": 4,
      "outputs": [
        {
          "output_type": "stream",
          "text": [
            "Collecting fastai\n",
            "\u001b[?25l  Downloading https://files.pythonhosted.org/packages/e8/79/e8a87e4c20238e114671314426227db8647d2b42744eab79e0917c59865e/fastai-2.3.1-py3-none-any.whl (194kB)\n",
            "\u001b[K     |████████████████████████████████| 204kB 2.8MB/s \n",
            "\u001b[?25hRequirement already satisfied, skipping upgrade: scikit-learn in /usr/local/lib/python3.7/dist-packages (from fastai) (0.22.2.post1)\n",
            "Requirement already satisfied, skipping upgrade: pyyaml in /usr/local/lib/python3.7/dist-packages (from fastai) (3.13)\n",
            "Requirement already satisfied, skipping upgrade: spacy<4 in /usr/local/lib/python3.7/dist-packages (from fastai) (2.2.4)\n",
            "Requirement already satisfied, skipping upgrade: packaging in /usr/local/lib/python3.7/dist-packages (from fastai) (20.9)\n",
            "Requirement already satisfied, skipping upgrade: matplotlib in /usr/local/lib/python3.7/dist-packages (from fastai) (3.2.2)\n",
            "Requirement already satisfied, skipping upgrade: torch<1.9,>=1.7.0 in /usr/local/lib/python3.7/dist-packages (from fastai) (1.8.1+cu101)\n",
            "Requirement already satisfied, skipping upgrade: pandas in /usr/local/lib/python3.7/dist-packages (from fastai) (1.1.5)\n",
            "Collecting fastcore<1.4,>=1.3.8\n",
            "\u001b[?25l  Downloading https://files.pythonhosted.org/packages/d8/b0/f1fbf554e0bf3c76e1bdc3b82eedfe41fcf656479586be38c64421082b1b/fastcore-1.3.20-py3-none-any.whl (53kB)\n",
            "\u001b[K     |████████████████████████████████| 61kB 7.8MB/s \n",
            "\u001b[?25hRequirement already satisfied, skipping upgrade: fastprogress>=0.2.4 in /usr/local/lib/python3.7/dist-packages (from fastai) (1.0.0)\n",
            "Requirement already satisfied, skipping upgrade: pip in /usr/local/lib/python3.7/dist-packages (from fastai) (19.3.1)\n",
            "Requirement already satisfied, skipping upgrade: scipy in /usr/local/lib/python3.7/dist-packages (from fastai) (1.4.1)\n",
            "Requirement already satisfied, skipping upgrade: requests in /usr/local/lib/python3.7/dist-packages (from fastai) (2.23.0)\n",
            "Requirement already satisfied, skipping upgrade: torchvision>=0.8.2 in /usr/local/lib/python3.7/dist-packages (from fastai) (0.9.1+cu101)\n",
            "Requirement already satisfied, skipping upgrade: pillow>6.0.0 in /usr/local/lib/python3.7/dist-packages (from fastai) (7.1.2)\n",
            "Requirement already satisfied, skipping upgrade: joblib>=0.11 in /usr/local/lib/python3.7/dist-packages (from scikit-learn->fastai) (1.0.1)\n",
            "Requirement already satisfied, skipping upgrade: numpy>=1.11.0 in /usr/local/lib/python3.7/dist-packages (from scikit-learn->fastai) (1.19.5)\n",
            "Requirement already satisfied, skipping upgrade: catalogue<1.1.0,>=0.0.7 in /usr/local/lib/python3.7/dist-packages (from spacy<4->fastai) (1.0.0)\n",
            "Requirement already satisfied, skipping upgrade: wasabi<1.1.0,>=0.4.0 in /usr/local/lib/python3.7/dist-packages (from spacy<4->fastai) (0.8.2)\n",
            "Requirement already satisfied, skipping upgrade: cymem<2.1.0,>=2.0.2 in /usr/local/lib/python3.7/dist-packages (from spacy<4->fastai) (2.0.5)\n",
            "Requirement already satisfied, skipping upgrade: tqdm<5.0.0,>=4.38.0 in /usr/local/lib/python3.7/dist-packages (from spacy<4->fastai) (4.41.1)\n",
            "Requirement already satisfied, skipping upgrade: blis<0.5.0,>=0.4.0 in /usr/local/lib/python3.7/dist-packages (from spacy<4->fastai) (0.4.1)\n",
            "Requirement already satisfied, skipping upgrade: thinc==7.4.0 in /usr/local/lib/python3.7/dist-packages (from spacy<4->fastai) (7.4.0)\n",
            "Requirement already satisfied, skipping upgrade: srsly<1.1.0,>=1.0.2 in /usr/local/lib/python3.7/dist-packages (from spacy<4->fastai) (1.0.5)\n",
            "Requirement already satisfied, skipping upgrade: murmurhash<1.1.0,>=0.28.0 in /usr/local/lib/python3.7/dist-packages (from spacy<4->fastai) (1.0.5)\n",
            "Requirement already satisfied, skipping upgrade: plac<1.2.0,>=0.9.6 in /usr/local/lib/python3.7/dist-packages (from spacy<4->fastai) (1.1.3)\n",
            "Requirement already satisfied, skipping upgrade: preshed<3.1.0,>=3.0.2 in /usr/local/lib/python3.7/dist-packages (from spacy<4->fastai) (3.0.5)\n",
            "Requirement already satisfied, skipping upgrade: setuptools in /usr/local/lib/python3.7/dist-packages (from spacy<4->fastai) (56.1.0)\n",
            "Requirement already satisfied, skipping upgrade: pyparsing>=2.0.2 in /usr/local/lib/python3.7/dist-packages (from packaging->fastai) (2.4.7)\n",
            "Requirement already satisfied, skipping upgrade: cycler>=0.10 in /usr/local/lib/python3.7/dist-packages (from matplotlib->fastai) (0.10.0)\n",
            "Requirement already satisfied, skipping upgrade: python-dateutil>=2.1 in /usr/local/lib/python3.7/dist-packages (from matplotlib->fastai) (2.8.1)\n",
            "Requirement already satisfied, skipping upgrade: kiwisolver>=1.0.1 in /usr/local/lib/python3.7/dist-packages (from matplotlib->fastai) (1.3.1)\n",
            "Requirement already satisfied, skipping upgrade: typing-extensions in /usr/local/lib/python3.7/dist-packages (from torch<1.9,>=1.7.0->fastai) (3.7.4.3)\n",
            "Requirement already satisfied, skipping upgrade: pytz>=2017.2 in /usr/local/lib/python3.7/dist-packages (from pandas->fastai) (2018.9)\n",
            "Requirement already satisfied, skipping upgrade: urllib3!=1.25.0,!=1.25.1,<1.26,>=1.21.1 in /usr/local/lib/python3.7/dist-packages (from requests->fastai) (1.24.3)\n",
            "Requirement already satisfied, skipping upgrade: certifi>=2017.4.17 in /usr/local/lib/python3.7/dist-packages (from requests->fastai) (2020.12.5)\n",
            "Requirement already satisfied, skipping upgrade: idna<3,>=2.5 in /usr/local/lib/python3.7/dist-packages (from requests->fastai) (2.10)\n",
            "Requirement already satisfied, skipping upgrade: chardet<4,>=3.0.2 in /usr/local/lib/python3.7/dist-packages (from requests->fastai) (3.0.4)\n",
            "Requirement already satisfied, skipping upgrade: importlib-metadata>=0.20; python_version < \"3.8\" in /usr/local/lib/python3.7/dist-packages (from catalogue<1.1.0,>=0.0.7->spacy<4->fastai) (4.0.1)\n",
            "Requirement already satisfied, skipping upgrade: six in /usr/local/lib/python3.7/dist-packages (from cycler>=0.10->matplotlib->fastai) (1.15.0)\n",
            "Requirement already satisfied, skipping upgrade: zipp>=0.5 in /usr/local/lib/python3.7/dist-packages (from importlib-metadata>=0.20; python_version < \"3.8\"->catalogue<1.1.0,>=0.0.7->spacy<4->fastai) (3.4.1)\n",
            "Installing collected packages: fastcore, fastai\n",
            "  Found existing installation: fastai 1.0.61\n",
            "    Uninstalling fastai-1.0.61:\n",
            "      Successfully uninstalled fastai-1.0.61\n",
            "Successfully installed fastai-2.3.1 fastcore-1.3.20\n"
          ],
          "name": "stdout"
        }
      ]
    },
    {
      "cell_type": "code",
      "metadata": {
        "colab": {
          "base_uri": "https://localhost:8080/"
        },
        "id": "oNlvbIYflmCy",
        "outputId": "3e983852-b090-4705-b049-cd8e004a630b"
      },
      "source": [
        "!pip install timm\n",
        "import timm "
      ],
      "execution_count": 7,
      "outputs": [
        {
          "output_type": "stream",
          "text": [
            "Collecting timm\n",
            "\u001b[?25l  Downloading https://files.pythonhosted.org/packages/ee/08/1ccaf8d516935666b7fa5f6aaddf157c66208ea0c93bb847ae09f166354f/timm-0.4.9-py3-none-any.whl (346kB)\n",
            "\u001b[K     |████████████████████████████████| 348kB 2.9MB/s \n",
            "\u001b[?25hRequirement already satisfied: torchvision in /usr/local/lib/python3.7/dist-packages (from timm) (0.9.1+cu101)\n",
            "Requirement already satisfied: torch>=1.4 in /usr/local/lib/python3.7/dist-packages (from timm) (1.8.1+cu101)\n",
            "Requirement already satisfied: numpy in /usr/local/lib/python3.7/dist-packages (from torchvision->timm) (1.19.5)\n",
            "Requirement already satisfied: pillow>=4.1.1 in /usr/local/lib/python3.7/dist-packages (from torchvision->timm) (7.1.2)\n",
            "Requirement already satisfied: typing-extensions in /usr/local/lib/python3.7/dist-packages (from torch>=1.4->timm) (3.7.4.3)\n",
            "Installing collected packages: timm\n",
            "Successfully installed timm-0.4.9\n"
          ],
          "name": "stdout"
        }
      ]
    },
    {
      "cell_type": "code",
      "metadata": {
        "id": "srUTB6UlnWn9"
      },
      "source": [
        "pip install viola\n",
        "from fastai.vision.all import *\n",
        "from fastai.vision.widgets import *"
      ],
      "execution_count": null,
      "outputs": []
    },
    {
      "cell_type": "code",
      "metadata": {
        "id": "8-liMBv9gRww"
      },
      "source": [
        "learn_inf = load_learner('PKLS/edadesTimm.pkl')"
      ],
      "execution_count": 39,
      "outputs": []
    },
    {
      "cell_type": "code",
      "metadata": {
        "id": "1WjRXlpcgqRP"
      },
      "source": [
        "btn_upload=widgets.FileUpload()\n",
        "out_pl=widgets.Output()\n",
        "lbl_pred=widgets.Label()"
      ],
      "execution_count": 40,
      "outputs": []
    },
    {
      "cell_type": "code",
      "metadata": {
        "id": "a5K2_n6Wgroe"
      },
      "source": [
        "#Interfaz\n",
        "def on_data_change(change):\n",
        "  lbl_pred.value= ' '\n",
        "\n",
        "  img=PILImage.create(btn_upload.data[-1])\n",
        "  out_pl.clear_output()\n",
        "  with out_pl:\n",
        "    display(img.to_thumb(224,244))\n",
        "  pred, pred_idx, probs=learn_inf.predict(img)\n",
        "  resultado=\"\"\n",
        "  if pred=='1':\n",
        "    resultado='Prehistoria'\n",
        "  elif pred=='2':\n",
        "    resultado='Edad Antigua'\n",
        "  elif pred=='3':\n",
        "    resultado='Edad Media'\n",
        "  elif pred=='4':\n",
        "    resultado='Edad Moderna'\n",
        "  elif pred=='5':\n",
        "    resultado='Edad Contemporánea'\n",
        "  lbl_pred.value= f'Edad de la obra:  {resultado} ; Probabilidad: {probs[pred_idx]: .04f}'"
      ],
      "execution_count": 41,
      "outputs": []
    },
    {
      "cell_type": "code",
      "metadata": {
        "colab": {
          "base_uri": "https://localhost:8080/",
          "height": 276,
          "referenced_widgets": [
            "f4fd0a99812242a8b9dee1f8c6af0bba",
            "3c129c6948844e53b9f13d345d87c4d4",
            "3ea48dc72d354d19b683c571a0a735e9",
            "f8b0bde0be144407935aad45e397b651",
            "e72a54f017364bef930cdbaa3525416b",
            "6f88a129bfa44a5384917288a48497f6",
            "780718de5a4a4b78af5f9b480e7de1a3",
            "76d0e4d06c944026a68201f34fb10ec0",
            "cc09d43bf316428cb9f06597bfed8dff",
            "fea903cd93564c8a867c263425bfa1b9",
            "34287d3efb4140caa35038cee82fba00",
            "61d5c01ecad44e91bc5c629e7729627c",
            "8ecdac147664417f81f378abac637fb8"
          ]
        },
        "id": "SCWTl5wxgtCG",
        "outputId": "a2655135-2176-4693-81f2-ee4c9d7defaa"
      },
      "source": [
        "btn_upload.observe(on_data_change, names=['data'])\n",
        "display(VBox([widgets.Label('Elige una imagen de una obra'), btn_upload, out_pl, lbl_pred]))"
      ],
      "execution_count": 42,
      "outputs": [
        {
          "output_type": "display_data",
          "data": {
            "application/vnd.jupyter.widget-view+json": {
              "model_id": "f4fd0a99812242a8b9dee1f8c6af0bba",
              "version_minor": 0,
              "version_major": 2
            },
            "text/plain": [
              "VBox(children=(Label(value='Elige una imagen de una obra'), FileUpload(value={}, description='Upload'), Output…"
            ]
          },
          "metadata": {
            "tags": []
          }
        },
        {
          "output_type": "display_data",
          "data": {
            "text/html": [
              ""
            ],
            "text/plain": [
              "<IPython.core.display.HTML object>"
            ]
          },
          "metadata": {
            "tags": []
          }
        }
      ]
    },
    {
      "cell_type": "markdown",
      "metadata": {
        "id": "8O_p713ahi_M"
      },
      "source": [
        "# Aplicación para edades de una obra por tipos"
      ]
    },
    {
      "cell_type": "code",
      "metadata": {
        "id": "PXQRNUODhk1b"
      },
      "source": [
        "learn_inf2 = load_learner('PKLS/tipos.pkl')"
      ],
      "execution_count": 43,
      "outputs": []
    },
    {
      "cell_type": "code",
      "metadata": {
        "id": "9Qdt2d5AhnWb"
      },
      "source": [
        "btn_upload2=widgets.FileUpload()\n",
        "out_pl2=widgets.Output()\n",
        "lbl_pred2=widgets.Label()"
      ],
      "execution_count": 44,
      "outputs": []
    },
    {
      "cell_type": "code",
      "metadata": {
        "id": "19-0zhr7homD"
      },
      "source": [
        "#Interfaz\n",
        "def on_data_change2(change):\n",
        "  lbl_pred2.value= ' '\n",
        "\n",
        "  img2=PILImage.create(btn_upload2.data[-1])\n",
        "  out_pl2.clear_output()\n",
        "  with out_pl2:\n",
        "    display(img2.to_thumb(224,244))\n",
        "  pred2, pred_idx2, probs2=learn_inf2.predict(img2)\n",
        "  resultado2=\"\"\n",
        "  if pred2=='1':\n",
        "    resultado2='Restos arquitectónicos. Silleria'\n",
        "  elif pred2=='2':\n",
        "    resultado2='Escultura'\n",
        "  elif pred2=='3':\n",
        "    resultado2='Pintura'\n",
        "  elif pred2=='4':\n",
        "    resultado2='Dibujo'\n",
        "  elif pred2=='5':\n",
        "    resultado2='Grabado. Artes Gráficas'\n",
        "  elif pred2=='6':\n",
        "    resultado2='Cerámica'\n",
        "  elif pred2=='7':\n",
        "    resultado2='Vidrio y cristal'\n",
        "  elif pred2=='9':\n",
        "    resultado2='Orfebreria y joyeria'\n",
        "  elif pred2=='10':\n",
        "    resultado2='Hierros y metales'\n",
        "  elif pred2=='11':\n",
        "    resultado2='Armas'\n",
        "  elif pred2=='12':\n",
        "    resultado2='Carpinteria'\n",
        "  elif pred2=='13':\n",
        "    resultado2='Tejidos'\n",
        "  elif pred2=='16':\n",
        "    resultado2='Bordadaos y encajes'\n",
        "  elif pred2=='17':\n",
        "    resultado2='Cueros'\n",
        "  elif pred2=='18':\n",
        "    resultado2='Cesteria y fibras vegetales'\n",
        "  elif pred2=='19':\n",
        "    resultado2='Mosaicos'\n",
        "  elif pred2=='20':\n",
        "    resultado2='Glípitica'\n",
        "  elif pred2=='21':\n",
        "    resultado2='Industria lítica. Cantería'\n",
        "  elif pred2=='22':\n",
        "    resultado2='Industria ósea. Eboraria'\n",
        "  elif pred2=='23':\n",
        "    resultado2='Epigrafía'\n",
        "  elif pred2=='24':\n",
        "    resultado2='Numismática'\n",
        "  elif pred2=='25':\n",
        "    resultado2='Instrumentos. Aparatos. Máquinas'\n",
        "  elif pred2=='26':\n",
        "    resultado2='Restos órganicos'\n",
        "  elif pred2=='27':\n",
        "    resultado2='Malacología'\n",
        "  elif pred2=='27':\n",
        "    resultado2='Materiales sintéticos'\n",
        "\n",
        "  lbl_pred2.value= f'Tipo de obra:  {resultado2} ; Probabilidad: {probs2[pred_idx2]: .04f}'"
      ],
      "execution_count": 45,
      "outputs": []
    },
    {
      "cell_type": "code",
      "metadata": {
        "colab": {
          "base_uri": "https://localhost:8080/",
          "height": 276,
          "referenced_widgets": [
            "b578114656aa47f6810461796751eb09",
            "166283f8200c47d891a376cd4ba59fc1",
            "b6c8468c3c0e473787f36b1146b87846",
            "a9df3bcc5ef349f28b4444d1a8c848b6",
            "1c717daf9b494b859396e0489a7bdc0a",
            "93f0c29fcdf1423e942742633e52eff3",
            "c920e09164cf45149c145c29cca3b85f",
            "2ab9c6c0e2944ffd88432878cab2a016",
            "35e1bc81614442ea912ab7a274f002e8",
            "65b8797c92794418add1060972efef78",
            "ac9b40a4748d418bb1f4e3e8abbf0780",
            "c884f5c60e744514901774188f0ef6f4",
            "a722f22115d24d8ca9e94aeb3a9b54c2"
          ]
        },
        "id": "IkY28GFnhpmy",
        "outputId": "4c20eecf-4860-4af2-9ef0-3163dba5b39c"
      },
      "source": [
        "btn_upload2.observe(on_data_change2, names=['data'])\n",
        "display(VBox([widgets.Label('Elige una imagen de una obra'), btn_upload2, out_pl2, lbl_pred2]))"
      ],
      "execution_count": 46,
      "outputs": [
        {
          "output_type": "display_data",
          "data": {
            "application/vnd.jupyter.widget-view+json": {
              "model_id": "b578114656aa47f6810461796751eb09",
              "version_minor": 0,
              "version_major": 2
            },
            "text/plain": [
              "VBox(children=(Label(value='Elige una imagen de una obra'), FileUpload(value={}, description='Upload'), Output…"
            ]
          },
          "metadata": {
            "tags": []
          }
        },
        {
          "output_type": "display_data",
          "data": {
            "text/html": [
              ""
            ],
            "text/plain": [
              "<IPython.core.display.HTML object>"
            ]
          },
          "metadata": {
            "tags": []
          }
        }
      ]
    }
  ]
}