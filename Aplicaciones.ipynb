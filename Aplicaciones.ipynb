{
  "nbformat": 4,
  "nbformat_minor": 0,
  "metadata": {
    "colab": {
      "name": "Aplicaciones.ipynb",
      "provenance": [],
      "toc_visible": true,
      "authorship_tag": "ABX9TyPMMr9LbIIfkpfGx5ut+tIk",
      "include_colab_link": true
    },
    "kernelspec": {
      "name": "python3",
      "display_name": "Python 3"
    },
    "language_info": {
      "name": "python"
    },
    "widgets": {
      "application/vnd.jupyter.widget-state+json": {
        "bfbdc80c45f74b1cb8147e5eb408203e": {
          "model_module": "@jupyter-widgets/controls",
          "model_name": "VBoxModel",
          "state": {
            "_view_name": "VBoxView",
            "_dom_classes": [],
            "_model_name": "VBoxModel",
            "_view_module": "@jupyter-widgets/controls",
            "_model_module_version": "1.5.0",
            "_view_count": null,
            "_view_module_version": "1.5.0",
            "box_style": "",
            "layout": "IPY_MODEL_7596b5ddfc854b38a3881f5f9e7f1131",
            "_model_module": "@jupyter-widgets/controls",
            "children": [
              "IPY_MODEL_ed4379dfa2fa43ad81c46aa5bb220f8e",
              "IPY_MODEL_f030efa7d6c34d38b4698aa173347a00",
              "IPY_MODEL_efb4dce861784adf96ed7f63f8e9747b",
              "IPY_MODEL_21e0ff913d404101af50775fc23d6300"
            ]
          }
        },
        "7596b5ddfc854b38a3881f5f9e7f1131": {
          "model_module": "@jupyter-widgets/base",
          "model_name": "LayoutModel",
          "state": {
            "_view_name": "LayoutView",
            "grid_template_rows": null,
            "right": null,
            "justify_content": null,
            "_view_module": "@jupyter-widgets/base",
            "overflow": null,
            "_model_module_version": "1.2.0",
            "_view_count": null,
            "flex_flow": null,
            "width": null,
            "min_width": null,
            "border": null,
            "align_items": null,
            "bottom": null,
            "_model_module": "@jupyter-widgets/base",
            "top": null,
            "grid_column": null,
            "overflow_y": null,
            "overflow_x": null,
            "grid_auto_flow": null,
            "grid_area": null,
            "grid_template_columns": null,
            "flex": null,
            "_model_name": "LayoutModel",
            "justify_items": null,
            "grid_row": null,
            "max_height": null,
            "align_content": null,
            "visibility": null,
            "align_self": null,
            "height": null,
            "min_height": null,
            "padding": null,
            "grid_auto_rows": null,
            "grid_gap": null,
            "max_width": null,
            "order": null,
            "_view_module_version": "1.2.0",
            "grid_template_areas": null,
            "object_position": null,
            "object_fit": null,
            "grid_auto_columns": null,
            "margin": null,
            "display": null,
            "left": null
          }
        },
        "ed4379dfa2fa43ad81c46aa5bb220f8e": {
          "model_module": "@jupyter-widgets/controls",
          "model_name": "LabelModel",
          "state": {
            "_view_name": "LabelView",
            "style": "IPY_MODEL_c57d1348e9fa4c3d8cdeba61a999dcd8",
            "_dom_classes": [],
            "description": "",
            "_model_name": "LabelModel",
            "placeholder": "​",
            "_view_module": "@jupyter-widgets/controls",
            "_model_module_version": "1.5.0",
            "value": "Elige una imagen de una obra",
            "_view_count": null,
            "_view_module_version": "1.5.0",
            "description_tooltip": null,
            "_model_module": "@jupyter-widgets/controls",
            "layout": "IPY_MODEL_17d04bad95a34e5ca0194aeb28087775"
          }
        },
        "f030efa7d6c34d38b4698aa173347a00": {
          "model_module": "@jupyter-widgets/controls",
          "model_name": "FileUploadModel",
          "state": {
            "_view_name": "FileUploadView",
            "_counter": 1,
            "style": "IPY_MODEL_1e00b43a185341059864e2393e530744",
            "_dom_classes": [],
            "description": "Upload",
            "multiple": false,
            "_model_name": "FileUploadModel",
            "data": [
              null
            ],
            "button_style": "",
            "_view_module": "@jupyter-widgets/controls",
            "_model_module_version": "1.5.0",
            "accept": "",
            "_view_count": null,
            "disabled": false,
            "_view_module_version": "1.5.0",
            "error": "",
            "description_tooltip": null,
            "metadata": [
              {
                "name": "imagen.PNG",
                "type": "image/png",
                "size": 445335,
                "lastModified": 1622366724668
              }
            ],
            "_model_module": "@jupyter-widgets/controls",
            "layout": "IPY_MODEL_57f9571e739d4d438833bd32a567d454",
            "icon": "upload"
          }
        },
        "efb4dce861784adf96ed7f63f8e9747b": {
          "model_module": "@jupyter-widgets/output",
          "model_name": "OutputModel",
          "state": {
            "_view_name": "OutputView",
            "msg_id": "",
            "_dom_classes": [],
            "_model_name": "OutputModel",
            "outputs": [
              {
                "output_type": "display_data",
                "metadata": {
                  "tags": []
                },
                "image/png": "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\n",
                "text/plain": "<PIL.Image.Image image mode=RGB size=165x224 at 0x7F38D85CC490>"
              }
            ],
            "_view_module": "@jupyter-widgets/output",
            "_model_module_version": "1.0.0",
            "_view_count": null,
            "_view_module_version": "1.0.0",
            "layout": "IPY_MODEL_e7f04ba3eb5c4454ab72006d4e376b77",
            "_model_module": "@jupyter-widgets/output"
          }
        },
        "21e0ff913d404101af50775fc23d6300": {
          "model_module": "@jupyter-widgets/controls",
          "model_name": "LabelModel",
          "state": {
            "_view_name": "LabelView",
            "style": "IPY_MODEL_a8ea7059f9ad47789f0237e273497c9d",
            "_dom_classes": [],
            "description": "",
            "_model_name": "LabelModel",
            "placeholder": "​",
            "_view_module": "@jupyter-widgets/controls",
            "_model_module_version": "1.5.0",
            "value": "Edad de la obra:  Edad Moderna ; Probabilidad:  0.4620",
            "_view_count": null,
            "_view_module_version": "1.5.0",
            "description_tooltip": null,
            "_model_module": "@jupyter-widgets/controls",
            "layout": "IPY_MODEL_281662fae69941e0b51b52282f0e6dda"
          }
        },
        "c57d1348e9fa4c3d8cdeba61a999dcd8": {
          "model_module": "@jupyter-widgets/controls",
          "model_name": "DescriptionStyleModel",
          "state": {
            "_view_name": "StyleView",
            "_model_name": "DescriptionStyleModel",
            "description_width": "",
            "_view_module": "@jupyter-widgets/base",
            "_model_module_version": "1.5.0",
            "_view_count": null,
            "_view_module_version": "1.2.0",
            "_model_module": "@jupyter-widgets/controls"
          }
        },
        "17d04bad95a34e5ca0194aeb28087775": {
          "model_module": "@jupyter-widgets/base",
          "model_name": "LayoutModel",
          "state": {
            "_view_name": "LayoutView",
            "grid_template_rows": null,
            "right": null,
            "justify_content": null,
            "_view_module": "@jupyter-widgets/base",
            "overflow": null,
            "_model_module_version": "1.2.0",
            "_view_count": null,
            "flex_flow": null,
            "width": null,
            "min_width": null,
            "border": null,
            "align_items": null,
            "bottom": null,
            "_model_module": "@jupyter-widgets/base",
            "top": null,
            "grid_column": null,
            "overflow_y": null,
            "overflow_x": null,
            "grid_auto_flow": null,
            "grid_area": null,
            "grid_template_columns": null,
            "flex": null,
            "_model_name": "LayoutModel",
            "justify_items": null,
            "grid_row": null,
            "max_height": null,
            "align_content": null,
            "visibility": null,
            "align_self": null,
            "height": null,
            "min_height": null,
            "padding": null,
            "grid_auto_rows": null,
            "grid_gap": null,
            "max_width": null,
            "order": null,
            "_view_module_version": "1.2.0",
            "grid_template_areas": null,
            "object_position": null,
            "object_fit": null,
            "grid_auto_columns": null,
            "margin": null,
            "display": null,
            "left": null
          }
        },
        "1e00b43a185341059864e2393e530744": {
          "model_module": "@jupyter-widgets/controls",
          "model_name": "ButtonStyleModel",
          "state": {
            "_view_name": "StyleView",
            "_model_name": "ButtonStyleModel",
            "_view_module": "@jupyter-widgets/base",
            "_model_module_version": "1.5.0",
            "_view_count": null,
            "button_color": null,
            "font_weight": "",
            "_view_module_version": "1.2.0",
            "_model_module": "@jupyter-widgets/controls"
          }
        },
        "57f9571e739d4d438833bd32a567d454": {
          "model_module": "@jupyter-widgets/base",
          "model_name": "LayoutModel",
          "state": {
            "_view_name": "LayoutView",
            "grid_template_rows": null,
            "right": null,
            "justify_content": null,
            "_view_module": "@jupyter-widgets/base",
            "overflow": null,
            "_model_module_version": "1.2.0",
            "_view_count": null,
            "flex_flow": null,
            "width": null,
            "min_width": null,
            "border": null,
            "align_items": null,
            "bottom": null,
            "_model_module": "@jupyter-widgets/base",
            "top": null,
            "grid_column": null,
            "overflow_y": null,
            "overflow_x": null,
            "grid_auto_flow": null,
            "grid_area": null,
            "grid_template_columns": null,
            "flex": null,
            "_model_name": "LayoutModel",
            "justify_items": null,
            "grid_row": null,
            "max_height": null,
            "align_content": null,
            "visibility": null,
            "align_self": null,
            "height": null,
            "min_height": null,
            "padding": null,
            "grid_auto_rows": null,
            "grid_gap": null,
            "max_width": null,
            "order": null,
            "_view_module_version": "1.2.0",
            "grid_template_areas": null,
            "object_position": null,
            "object_fit": null,
            "grid_auto_columns": null,
            "margin": null,
            "display": null,
            "left": null
          }
        },
        "a8ea7059f9ad47789f0237e273497c9d": {
          "model_module": "@jupyter-widgets/controls",
          "model_name": "DescriptionStyleModel",
          "state": {
            "_view_name": "StyleView",
            "_model_name": "DescriptionStyleModel",
            "description_width": "",
            "_view_module": "@jupyter-widgets/base",
            "_model_module_version": "1.5.0",
            "_view_count": null,
            "_view_module_version": "1.2.0",
            "_model_module": "@jupyter-widgets/controls"
          }
        },
        "281662fae69941e0b51b52282f0e6dda": {
          "model_module": "@jupyter-widgets/base",
          "model_name": "LayoutModel",
          "state": {
            "_view_name": "LayoutView",
            "grid_template_rows": null,
            "right": null,
            "justify_content": null,
            "_view_module": "@jupyter-widgets/base",
            "overflow": null,
            "_model_module_version": "1.2.0",
            "_view_count": null,
            "flex_flow": null,
            "width": null,
            "min_width": null,
            "border": null,
            "align_items": null,
            "bottom": null,
            "_model_module": "@jupyter-widgets/base",
            "top": null,
            "grid_column": null,
            "overflow_y": null,
            "overflow_x": null,
            "grid_auto_flow": null,
            "grid_area": null,
            "grid_template_columns": null,
            "flex": null,
            "_model_name": "LayoutModel",
            "justify_items": null,
            "grid_row": null,
            "max_height": null,
            "align_content": null,
            "visibility": null,
            "align_self": null,
            "height": null,
            "min_height": null,
            "padding": null,
            "grid_auto_rows": null,
            "grid_gap": null,
            "max_width": null,
            "order": null,
            "_view_module_version": "1.2.0",
            "grid_template_areas": null,
            "object_position": null,
            "object_fit": null,
            "grid_auto_columns": null,
            "margin": null,
            "display": null,
            "left": null
          }
        },
        "e7f04ba3eb5c4454ab72006d4e376b77": {
          "model_module": "@jupyter-widgets/base",
          "model_name": "LayoutModel",
          "state": {
            "_view_name": "LayoutView",
            "grid_template_rows": null,
            "right": null,
            "justify_content": null,
            "_view_module": "@jupyter-widgets/base",
            "overflow": null,
            "_model_module_version": "1.2.0",
            "_view_count": null,
            "flex_flow": null,
            "width": null,
            "min_width": null,
            "border": null,
            "align_items": null,
            "bottom": null,
            "_model_module": "@jupyter-widgets/base",
            "top": null,
            "grid_column": null,
            "overflow_y": null,
            "overflow_x": null,
            "grid_auto_flow": null,
            "grid_area": null,
            "grid_template_columns": null,
            "flex": null,
            "_model_name": "LayoutModel",
            "justify_items": null,
            "grid_row": null,
            "max_height": null,
            "align_content": null,
            "visibility": null,
            "align_self": null,
            "height": null,
            "min_height": null,
            "padding": null,
            "grid_auto_rows": null,
            "grid_gap": null,
            "max_width": null,
            "order": null,
            "_view_module_version": "1.2.0",
            "grid_template_areas": null,
            "object_position": null,
            "object_fit": null,
            "grid_auto_columns": null,
            "margin": null,
            "display": null,
            "left": null
          }
        },
        "e8ad97e8187f4ce09785e0a7d1e25f15": {
          "model_module": "@jupyter-widgets/controls",
          "model_name": "VBoxModel",
          "state": {
            "_view_name": "VBoxView",
            "_dom_classes": [],
            "_model_name": "VBoxModel",
            "_view_module": "@jupyter-widgets/controls",
            "_model_module_version": "1.5.0",
            "_view_count": null,
            "_view_module_version": "1.5.0",
            "box_style": "",
            "layout": "IPY_MODEL_4c859d1be5434514961fee31e6a74583",
            "_model_module": "@jupyter-widgets/controls",
            "children": [
              "IPY_MODEL_5bfad5816f5e475d9b7e5db23b5b959b",
              "IPY_MODEL_7d8d9e177b354b24a4ac5479ae3ca976",
              "IPY_MODEL_37f1916fba4c4ae9a7d744d85c517fee",
              "IPY_MODEL_f8f3eaa099944b098ca51e08da0e6bce"
            ]
          }
        },
        "4c859d1be5434514961fee31e6a74583": {
          "model_module": "@jupyter-widgets/base",
          "model_name": "LayoutModel",
          "state": {
            "_view_name": "LayoutView",
            "grid_template_rows": null,
            "right": null,
            "justify_content": null,
            "_view_module": "@jupyter-widgets/base",
            "overflow": null,
            "_model_module_version": "1.2.0",
            "_view_count": null,
            "flex_flow": null,
            "width": null,
            "min_width": null,
            "border": null,
            "align_items": null,
            "bottom": null,
            "_model_module": "@jupyter-widgets/base",
            "top": null,
            "grid_column": null,
            "overflow_y": null,
            "overflow_x": null,
            "grid_auto_flow": null,
            "grid_area": null,
            "grid_template_columns": null,
            "flex": null,
            "_model_name": "LayoutModel",
            "justify_items": null,
            "grid_row": null,
            "max_height": null,
            "align_content": null,
            "visibility": null,
            "align_self": null,
            "height": null,
            "min_height": null,
            "padding": null,
            "grid_auto_rows": null,
            "grid_gap": null,
            "max_width": null,
            "order": null,
            "_view_module_version": "1.2.0",
            "grid_template_areas": null,
            "object_position": null,
            "object_fit": null,
            "grid_auto_columns": null,
            "margin": null,
            "display": null,
            "left": null
          }
        },
        "5bfad5816f5e475d9b7e5db23b5b959b": {
          "model_module": "@jupyter-widgets/controls",
          "model_name": "LabelModel",
          "state": {
            "_view_name": "LabelView",
            "style": "IPY_MODEL_495af6b9fcee4600aeaf9589ee084430",
            "_dom_classes": [],
            "description": "",
            "_model_name": "LabelModel",
            "placeholder": "​",
            "_view_module": "@jupyter-widgets/controls",
            "_model_module_version": "1.5.0",
            "value": "Elige una imagen de una obra",
            "_view_count": null,
            "_view_module_version": "1.5.0",
            "description_tooltip": null,
            "_model_module": "@jupyter-widgets/controls",
            "layout": "IPY_MODEL_b3abce04a7924fb19aff555b0f52a066"
          }
        },
        "7d8d9e177b354b24a4ac5479ae3ca976": {
          "model_module": "@jupyter-widgets/controls",
          "model_name": "FileUploadModel",
          "state": {
            "_view_name": "FileUploadView",
            "_counter": 1,
            "style": "IPY_MODEL_a693c42a674640b9ba655916378b3895",
            "_dom_classes": [],
            "description": "Upload",
            "multiple": false,
            "_model_name": "FileUploadModel",
            "data": [
              null
            ],
            "button_style": "",
            "_view_module": "@jupyter-widgets/controls",
            "_model_module_version": "1.5.0",
            "accept": "",
            "_view_count": null,
            "disabled": false,
            "_view_module_version": "1.5.0",
            "error": "",
            "description_tooltip": null,
            "metadata": [
              {
                "name": "imagen.PNG",
                "type": "image/png",
                "size": 445335,
                "lastModified": 1622366724668
              }
            ],
            "_model_module": "@jupyter-widgets/controls",
            "layout": "IPY_MODEL_63aefbb7fd064aa296ca6d5a63ceadbc",
            "icon": "upload"
          }
        },
        "37f1916fba4c4ae9a7d744d85c517fee": {
          "model_module": "@jupyter-widgets/output",
          "model_name": "OutputModel",
          "state": {
            "_view_name": "OutputView",
            "msg_id": "",
            "_dom_classes": [],
            "_model_name": "OutputModel",
            "outputs": [
              {
                "output_type": "display_data",
                "metadata": {
                  "tags": []
                },
                "image/png": "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\n",
                "text/plain": "<PIL.Image.Image image mode=RGB size=165x224 at 0x7F38D805E0D0>"
              }
            ],
            "_view_module": "@jupyter-widgets/output",
            "_model_module_version": "1.0.0",
            "_view_count": null,
            "_view_module_version": "1.0.0",
            "layout": "IPY_MODEL_f6beb55297084606b402ad80c7d98ebc",
            "_model_module": "@jupyter-widgets/output"
          }
        },
        "f8f3eaa099944b098ca51e08da0e6bce": {
          "model_module": "@jupyter-widgets/controls",
          "model_name": "LabelModel",
          "state": {
            "_view_name": "LabelView",
            "style": "IPY_MODEL_e35aecb27c284d0889e48b2b519b788b",
            "_dom_classes": [],
            "description": "",
            "_model_name": "LabelModel",
            "placeholder": "​",
            "_view_module": "@jupyter-widgets/controls",
            "_model_module_version": "1.5.0",
            "value": "Tipo de obra:  Escultura ; Probabilidad:  0.9960",
            "_view_count": null,
            "_view_module_version": "1.5.0",
            "description_tooltip": null,
            "_model_module": "@jupyter-widgets/controls",
            "layout": "IPY_MODEL_94323c36567a47c49af2cf2b1195a728"
          }
        },
        "495af6b9fcee4600aeaf9589ee084430": {
          "model_module": "@jupyter-widgets/controls",
          "model_name": "DescriptionStyleModel",
          "state": {
            "_view_name": "StyleView",
            "_model_name": "DescriptionStyleModel",
            "description_width": "",
            "_view_module": "@jupyter-widgets/base",
            "_model_module_version": "1.5.0",
            "_view_count": null,
            "_view_module_version": "1.2.0",
            "_model_module": "@jupyter-widgets/controls"
          }
        },
        "b3abce04a7924fb19aff555b0f52a066": {
          "model_module": "@jupyter-widgets/base",
          "model_name": "LayoutModel",
          "state": {
            "_view_name": "LayoutView",
            "grid_template_rows": null,
            "right": null,
            "justify_content": null,
            "_view_module": "@jupyter-widgets/base",
            "overflow": null,
            "_model_module_version": "1.2.0",
            "_view_count": null,
            "flex_flow": null,
            "width": null,
            "min_width": null,
            "border": null,
            "align_items": null,
            "bottom": null,
            "_model_module": "@jupyter-widgets/base",
            "top": null,
            "grid_column": null,
            "overflow_y": null,
            "overflow_x": null,
            "grid_auto_flow": null,
            "grid_area": null,
            "grid_template_columns": null,
            "flex": null,
            "_model_name": "LayoutModel",
            "justify_items": null,
            "grid_row": null,
            "max_height": null,
            "align_content": null,
            "visibility": null,
            "align_self": null,
            "height": null,
            "min_height": null,
            "padding": null,
            "grid_auto_rows": null,
            "grid_gap": null,
            "max_width": null,
            "order": null,
            "_view_module_version": "1.2.0",
            "grid_template_areas": null,
            "object_position": null,
            "object_fit": null,
            "grid_auto_columns": null,
            "margin": null,
            "display": null,
            "left": null
          }
        },
        "a693c42a674640b9ba655916378b3895": {
          "model_module": "@jupyter-widgets/controls",
          "model_name": "ButtonStyleModel",
          "state": {
            "_view_name": "StyleView",
            "_model_name": "ButtonStyleModel",
            "_view_module": "@jupyter-widgets/base",
            "_model_module_version": "1.5.0",
            "_view_count": null,
            "button_color": null,
            "font_weight": "",
            "_view_module_version": "1.2.0",
            "_model_module": "@jupyter-widgets/controls"
          }
        },
        "63aefbb7fd064aa296ca6d5a63ceadbc": {
          "model_module": "@jupyter-widgets/base",
          "model_name": "LayoutModel",
          "state": {
            "_view_name": "LayoutView",
            "grid_template_rows": null,
            "right": null,
            "justify_content": null,
            "_view_module": "@jupyter-widgets/base",
            "overflow": null,
            "_model_module_version": "1.2.0",
            "_view_count": null,
            "flex_flow": null,
            "width": null,
            "min_width": null,
            "border": null,
            "align_items": null,
            "bottom": null,
            "_model_module": "@jupyter-widgets/base",
            "top": null,
            "grid_column": null,
            "overflow_y": null,
            "overflow_x": null,
            "grid_auto_flow": null,
            "grid_area": null,
            "grid_template_columns": null,
            "flex": null,
            "_model_name": "LayoutModel",
            "justify_items": null,
            "grid_row": null,
            "max_height": null,
            "align_content": null,
            "visibility": null,
            "align_self": null,
            "height": null,
            "min_height": null,
            "padding": null,
            "grid_auto_rows": null,
            "grid_gap": null,
            "max_width": null,
            "order": null,
            "_view_module_version": "1.2.0",
            "grid_template_areas": null,
            "object_position": null,
            "object_fit": null,
            "grid_auto_columns": null,
            "margin": null,
            "display": null,
            "left": null
          }
        },
        "e35aecb27c284d0889e48b2b519b788b": {
          "model_module": "@jupyter-widgets/controls",
          "model_name": "DescriptionStyleModel",
          "state": {
            "_view_name": "StyleView",
            "_model_name": "DescriptionStyleModel",
            "description_width": "",
            "_view_module": "@jupyter-widgets/base",
            "_model_module_version": "1.5.0",
            "_view_count": null,
            "_view_module_version": "1.2.0",
            "_model_module": "@jupyter-widgets/controls"
          }
        },
        "94323c36567a47c49af2cf2b1195a728": {
          "model_module": "@jupyter-widgets/base",
          "model_name": "LayoutModel",
          "state": {
            "_view_name": "LayoutView",
            "grid_template_rows": null,
            "right": null,
            "justify_content": null,
            "_view_module": "@jupyter-widgets/base",
            "overflow": null,
            "_model_module_version": "1.2.0",
            "_view_count": null,
            "flex_flow": null,
            "width": null,
            "min_width": null,
            "border": null,
            "align_items": null,
            "bottom": null,
            "_model_module": "@jupyter-widgets/base",
            "top": null,
            "grid_column": null,
            "overflow_y": null,
            "overflow_x": null,
            "grid_auto_flow": null,
            "grid_area": null,
            "grid_template_columns": null,
            "flex": null,
            "_model_name": "LayoutModel",
            "justify_items": null,
            "grid_row": null,
            "max_height": null,
            "align_content": null,
            "visibility": null,
            "align_self": null,
            "height": null,
            "min_height": null,
            "padding": null,
            "grid_auto_rows": null,
            "grid_gap": null,
            "max_width": null,
            "order": null,
            "_view_module_version": "1.2.0",
            "grid_template_areas": null,
            "object_position": null,
            "object_fit": null,
            "grid_auto_columns": null,
            "margin": null,
            "display": null,
            "left": null
          }
        },
        "f6beb55297084606b402ad80c7d98ebc": {
          "model_module": "@jupyter-widgets/base",
          "model_name": "LayoutModel",
          "state": {
            "_view_name": "LayoutView",
            "grid_template_rows": null,
            "right": null,
            "justify_content": null,
            "_view_module": "@jupyter-widgets/base",
            "overflow": null,
            "_model_module_version": "1.2.0",
            "_view_count": null,
            "flex_flow": null,
            "width": null,
            "min_width": null,
            "border": null,
            "align_items": null,
            "bottom": null,
            "_model_module": "@jupyter-widgets/base",
            "top": null,
            "grid_column": null,
            "overflow_y": null,
            "overflow_x": null,
            "grid_auto_flow": null,
            "grid_area": null,
            "grid_template_columns": null,
            "flex": null,
            "_model_name": "LayoutModel",
            "justify_items": null,
            "grid_row": null,
            "max_height": null,
            "align_content": null,
            "visibility": null,
            "align_self": null,
            "height": null,
            "min_height": null,
            "padding": null,
            "grid_auto_rows": null,
            "grid_gap": null,
            "max_width": null,
            "order": null,
            "_view_module_version": "1.2.0",
            "grid_template_areas": null,
            "object_position": null,
            "object_fit": null,
            "grid_auto_columns": null,
            "margin": null,
            "display": null,
            "left": null
          }
        }
      }
    }
  },
  "cells": [
    {
      "cell_type": "markdown",
      "metadata": {
        "id": "view-in-github",
        "colab_type": "text"
      },
      "source": [
        "<a href=\"https://colab.research.google.com/github/IA2021UR/trabajo-ia-en-la-comunidad-de-la-rioja-equipo-10/blob/main/Aplicaciones.ipynb\" target=\"_parent\"><img src=\"https://colab.research.google.com/assets/colab-badge.svg\" alt=\"Open In Colab\"/></a>"
      ]
    },
    {
      "cell_type": "code",
      "metadata": {
        "colab": {
          "base_uri": "https://localhost:8080/"
        },
        "id": "AfBcZ0ulg4Dd",
        "outputId": "3baf2087-63db-475c-fe42-9c1b18355a6e"
      },
      "source": [
        "!wget https://www.dropbox.com/s/5zyp7kq5oyi3nc6/PKLS.zip?dl=1 -O zippkl"
      ],
      "execution_count": 1,
      "outputs": [
        {
          "output_type": "stream",
          "text": [
            "--2021-05-30 09:20:15--  https://www.dropbox.com/s/5zyp7kq5oyi3nc6/PKLS.zip?dl=1\n",
            "Resolving www.dropbox.com (www.dropbox.com)... 162.125.82.18, 2620:100:6030:18::a27d:5012\n",
            "Connecting to www.dropbox.com (www.dropbox.com)|162.125.82.18|:443... connected.\n",
            "HTTP request sent, awaiting response... 301 Moved Permanently\n",
            "Location: /s/dl/5zyp7kq5oyi3nc6/PKLS.zip [following]\n",
            "--2021-05-30 09:20:15--  https://www.dropbox.com/s/dl/5zyp7kq5oyi3nc6/PKLS.zip\n",
            "Reusing existing connection to www.dropbox.com:443.\n",
            "HTTP request sent, awaiting response... 302 Found\n",
            "Location: https://uc0d90c85053494bdba893a9b76b.dl.dropboxusercontent.com/cd/0/get/BPd423t-X9t-cZq6kLz2yK6PL_FADjKWhESFXEY8NE6eYU37P2qgstU4io-XXBdfKE336Ucf7htNgR9gyC7cDgPtBZjz6TYhf3BYD0aKtZdNTRAnZ0Gqwkpg1CPEFQntsh5kupGbR0wmFSNkrrCtiN0z/file?dl=1# [following]\n",
            "--2021-05-30 09:20:15--  https://uc0d90c85053494bdba893a9b76b.dl.dropboxusercontent.com/cd/0/get/BPd423t-X9t-cZq6kLz2yK6PL_FADjKWhESFXEY8NE6eYU37P2qgstU4io-XXBdfKE336Ucf7htNgR9gyC7cDgPtBZjz6TYhf3BYD0aKtZdNTRAnZ0Gqwkpg1CPEFQntsh5kupGbR0wmFSNkrrCtiN0z/file?dl=1\n",
            "Resolving uc0d90c85053494bdba893a9b76b.dl.dropboxusercontent.com (uc0d90c85053494bdba893a9b76b.dl.dropboxusercontent.com)... 162.125.82.15, 2620:100:6030:15::a27d:500f\n",
            "Connecting to uc0d90c85053494bdba893a9b76b.dl.dropboxusercontent.com (uc0d90c85053494bdba893a9b76b.dl.dropboxusercontent.com)|162.125.82.15|:443... connected.\n",
            "HTTP request sent, awaiting response... 200 OK\n",
            "Length: 367148077 (350M) [application/binary]\n",
            "Saving to: ‘zippkl’\n",
            "\n",
            "zippkl              100%[===================>] 350.14M  12.1MB/s    in 22s     \n",
            "\n",
            "2021-05-30 09:20:38 (16.0 MB/s) - ‘zippkl’ saved [367148077/367148077]\n",
            "\n"
          ],
          "name": "stdout"
        }
      ]
    },
    {
      "cell_type": "code",
      "metadata": {
        "colab": {
          "base_uri": "https://localhost:8080/"
        },
        "id": "I9XuNXfYk2Nj",
        "outputId": "d4f2e8c7-9e43-4191-a38c-9c870d038c25"
      },
      "source": [
        "!unzip zippkl"
      ],
      "execution_count": 2,
      "outputs": [
        {
          "output_type": "stream",
          "text": [
            "Archive:  zippkl\n",
            "  inflating: PKLS/edades.pkl         \n",
            "  inflating: PKLS/edadesTimm.pkl     \n",
            "  inflating: PKLS/siglos.pkl         \n",
            "  inflating: PKLS/tipos.pkl          \n"
          ],
          "name": "stdout"
        }
      ]
    },
    {
      "cell_type": "markdown",
      "metadata": {
        "id": "HHGlGVOTg0WN"
      },
      "source": [
        "# Aplicación para edades de una obra por época"
      ]
    },
    {
      "cell_type": "code",
      "metadata": {
        "colab": {
          "base_uri": "https://localhost:8080/"
        },
        "id": "WWnmJi0ilRk-",
        "outputId": "845dadfe-6f83-4eff-c3d2-ffbfa48c8279"
      },
      "source": [
        "!pip install fastai --upgrade\n",
        "from fastai.vision.all import *\n",
        "import os\n",
        "from google.colab import files\n",
        "from sklearn.model_selection import train_test_split\n",
        "import shutil"
      ],
      "execution_count": 4,
      "outputs": [
        {
          "output_type": "stream",
          "text": [
            "Collecting fastai\n",
            "\u001b[?25l  Downloading https://files.pythonhosted.org/packages/e8/79/e8a87e4c20238e114671314426227db8647d2b42744eab79e0917c59865e/fastai-2.3.1-py3-none-any.whl (194kB)\n",
            "\u001b[K     |████████████████████████████████| 204kB 2.8MB/s \n",
            "\u001b[?25hRequirement already satisfied, skipping upgrade: scikit-learn in /usr/local/lib/python3.7/dist-packages (from fastai) (0.22.2.post1)\n",
            "Requirement already satisfied, skipping upgrade: pyyaml in /usr/local/lib/python3.7/dist-packages (from fastai) (3.13)\n",
            "Requirement already satisfied, skipping upgrade: spacy<4 in /usr/local/lib/python3.7/dist-packages (from fastai) (2.2.4)\n",
            "Requirement already satisfied, skipping upgrade: packaging in /usr/local/lib/python3.7/dist-packages (from fastai) (20.9)\n",
            "Requirement already satisfied, skipping upgrade: matplotlib in /usr/local/lib/python3.7/dist-packages (from fastai) (3.2.2)\n",
            "Requirement already satisfied, skipping upgrade: torch<1.9,>=1.7.0 in /usr/local/lib/python3.7/dist-packages (from fastai) (1.8.1+cu101)\n",
            "Requirement already satisfied, skipping upgrade: pandas in /usr/local/lib/python3.7/dist-packages (from fastai) (1.1.5)\n",
            "Collecting fastcore<1.4,>=1.3.8\n",
            "\u001b[?25l  Downloading https://files.pythonhosted.org/packages/d8/b0/f1fbf554e0bf3c76e1bdc3b82eedfe41fcf656479586be38c64421082b1b/fastcore-1.3.20-py3-none-any.whl (53kB)\n",
            "\u001b[K     |████████████████████████████████| 61kB 7.8MB/s \n",
            "\u001b[?25hRequirement already satisfied, skipping upgrade: fastprogress>=0.2.4 in /usr/local/lib/python3.7/dist-packages (from fastai) (1.0.0)\n",
            "Requirement already satisfied, skipping upgrade: pip in /usr/local/lib/python3.7/dist-packages (from fastai) (19.3.1)\n",
            "Requirement already satisfied, skipping upgrade: scipy in /usr/local/lib/python3.7/dist-packages (from fastai) (1.4.1)\n",
            "Requirement already satisfied, skipping upgrade: requests in /usr/local/lib/python3.7/dist-packages (from fastai) (2.23.0)\n",
            "Requirement already satisfied, skipping upgrade: torchvision>=0.8.2 in /usr/local/lib/python3.7/dist-packages (from fastai) (0.9.1+cu101)\n",
            "Requirement already satisfied, skipping upgrade: pillow>6.0.0 in /usr/local/lib/python3.7/dist-packages (from fastai) (7.1.2)\n",
            "Requirement already satisfied, skipping upgrade: joblib>=0.11 in /usr/local/lib/python3.7/dist-packages (from scikit-learn->fastai) (1.0.1)\n",
            "Requirement already satisfied, skipping upgrade: numpy>=1.11.0 in /usr/local/lib/python3.7/dist-packages (from scikit-learn->fastai) (1.19.5)\n",
            "Requirement already satisfied, skipping upgrade: catalogue<1.1.0,>=0.0.7 in /usr/local/lib/python3.7/dist-packages (from spacy<4->fastai) (1.0.0)\n",
            "Requirement already satisfied, skipping upgrade: wasabi<1.1.0,>=0.4.0 in /usr/local/lib/python3.7/dist-packages (from spacy<4->fastai) (0.8.2)\n",
            "Requirement already satisfied, skipping upgrade: cymem<2.1.0,>=2.0.2 in /usr/local/lib/python3.7/dist-packages (from spacy<4->fastai) (2.0.5)\n",
            "Requirement already satisfied, skipping upgrade: tqdm<5.0.0,>=4.38.0 in /usr/local/lib/python3.7/dist-packages (from spacy<4->fastai) (4.41.1)\n",
            "Requirement already satisfied, skipping upgrade: blis<0.5.0,>=0.4.0 in /usr/local/lib/python3.7/dist-packages (from spacy<4->fastai) (0.4.1)\n",
            "Requirement already satisfied, skipping upgrade: thinc==7.4.0 in /usr/local/lib/python3.7/dist-packages (from spacy<4->fastai) (7.4.0)\n",
            "Requirement already satisfied, skipping upgrade: srsly<1.1.0,>=1.0.2 in /usr/local/lib/python3.7/dist-packages (from spacy<4->fastai) (1.0.5)\n",
            "Requirement already satisfied, skipping upgrade: murmurhash<1.1.0,>=0.28.0 in /usr/local/lib/python3.7/dist-packages (from spacy<4->fastai) (1.0.5)\n",
            "Requirement already satisfied, skipping upgrade: plac<1.2.0,>=0.9.6 in /usr/local/lib/python3.7/dist-packages (from spacy<4->fastai) (1.1.3)\n",
            "Requirement already satisfied, skipping upgrade: preshed<3.1.0,>=3.0.2 in /usr/local/lib/python3.7/dist-packages (from spacy<4->fastai) (3.0.5)\n",
            "Requirement already satisfied, skipping upgrade: setuptools in /usr/local/lib/python3.7/dist-packages (from spacy<4->fastai) (56.1.0)\n",
            "Requirement already satisfied, skipping upgrade: pyparsing>=2.0.2 in /usr/local/lib/python3.7/dist-packages (from packaging->fastai) (2.4.7)\n",
            "Requirement already satisfied, skipping upgrade: cycler>=0.10 in /usr/local/lib/python3.7/dist-packages (from matplotlib->fastai) (0.10.0)\n",
            "Requirement already satisfied, skipping upgrade: python-dateutil>=2.1 in /usr/local/lib/python3.7/dist-packages (from matplotlib->fastai) (2.8.1)\n",
            "Requirement already satisfied, skipping upgrade: kiwisolver>=1.0.1 in /usr/local/lib/python3.7/dist-packages (from matplotlib->fastai) (1.3.1)\n",
            "Requirement already satisfied, skipping upgrade: typing-extensions in /usr/local/lib/python3.7/dist-packages (from torch<1.9,>=1.7.0->fastai) (3.7.4.3)\n",
            "Requirement already satisfied, skipping upgrade: pytz>=2017.2 in /usr/local/lib/python3.7/dist-packages (from pandas->fastai) (2018.9)\n",
            "Requirement already satisfied, skipping upgrade: urllib3!=1.25.0,!=1.25.1,<1.26,>=1.21.1 in /usr/local/lib/python3.7/dist-packages (from requests->fastai) (1.24.3)\n",
            "Requirement already satisfied, skipping upgrade: certifi>=2017.4.17 in /usr/local/lib/python3.7/dist-packages (from requests->fastai) (2020.12.5)\n",
            "Requirement already satisfied, skipping upgrade: idna<3,>=2.5 in /usr/local/lib/python3.7/dist-packages (from requests->fastai) (2.10)\n",
            "Requirement already satisfied, skipping upgrade: chardet<4,>=3.0.2 in /usr/local/lib/python3.7/dist-packages (from requests->fastai) (3.0.4)\n",
            "Requirement already satisfied, skipping upgrade: importlib-metadata>=0.20; python_version < \"3.8\" in /usr/local/lib/python3.7/dist-packages (from catalogue<1.1.0,>=0.0.7->spacy<4->fastai) (4.0.1)\n",
            "Requirement already satisfied, skipping upgrade: six in /usr/local/lib/python3.7/dist-packages (from cycler>=0.10->matplotlib->fastai) (1.15.0)\n",
            "Requirement already satisfied, skipping upgrade: zipp>=0.5 in /usr/local/lib/python3.7/dist-packages (from importlib-metadata>=0.20; python_version < \"3.8\"->catalogue<1.1.0,>=0.0.7->spacy<4->fastai) (3.4.1)\n",
            "Installing collected packages: fastcore, fastai\n",
            "  Found existing installation: fastai 1.0.61\n",
            "    Uninstalling fastai-1.0.61:\n",
            "      Successfully uninstalled fastai-1.0.61\n",
            "Successfully installed fastai-2.3.1 fastcore-1.3.20\n"
          ],
          "name": "stdout"
        }
      ]
    },
    {
      "cell_type": "code",
      "metadata": {
        "colab": {
          "base_uri": "https://localhost:8080/"
        },
        "id": "oNlvbIYflmCy",
        "outputId": "3e983852-b090-4705-b049-cd8e004a630b"
      },
      "source": [
        "!pip install timm\n",
        "import timm "
      ],
      "execution_count": 7,
      "outputs": [
        {
          "output_type": "stream",
          "text": [
            "Collecting timm\n",
            "\u001b[?25l  Downloading https://files.pythonhosted.org/packages/ee/08/1ccaf8d516935666b7fa5f6aaddf157c66208ea0c93bb847ae09f166354f/timm-0.4.9-py3-none-any.whl (346kB)\n",
            "\u001b[K     |████████████████████████████████| 348kB 2.9MB/s \n",
            "\u001b[?25hRequirement already satisfied: torchvision in /usr/local/lib/python3.7/dist-packages (from timm) (0.9.1+cu101)\n",
            "Requirement already satisfied: torch>=1.4 in /usr/local/lib/python3.7/dist-packages (from timm) (1.8.1+cu101)\n",
            "Requirement already satisfied: numpy in /usr/local/lib/python3.7/dist-packages (from torchvision->timm) (1.19.5)\n",
            "Requirement already satisfied: pillow>=4.1.1 in /usr/local/lib/python3.7/dist-packages (from torchvision->timm) (7.1.2)\n",
            "Requirement already satisfied: typing-extensions in /usr/local/lib/python3.7/dist-packages (from torch>=1.4->timm) (3.7.4.3)\n",
            "Installing collected packages: timm\n",
            "Successfully installed timm-0.4.9\n"
          ],
          "name": "stdout"
        }
      ]
    },
    {
      "cell_type": "code",
      "metadata": {
        "id": "8-liMBv9gRww"
      },
      "source": [
        "learn_inf = load_learner('PKLS/edadesTimm.pkl')"
      ],
      "execution_count": 18,
      "outputs": []
    },
    {
      "cell_type": "code",
      "metadata": {
        "colab": {
          "base_uri": "https://localhost:8080/"
        },
        "id": "9DDvH7T_gm4Z",
        "outputId": "1b71b98f-5fdd-407e-e92a-a581eaf96a2f"
      },
      "source": [
        "pip install viola"
      ],
      "execution_count": 9,
      "outputs": [
        {
          "output_type": "stream",
          "text": [
            "Collecting viola\n",
            "  Downloading https://files.pythonhosted.org/packages/76/13/62a5785eddb80789c7057f82f2a5af569b230e37f81dbb7a794aa887a74a/viola-0.3.8-py3-none-any.whl\n",
            "Installing collected packages: viola\n",
            "Successfully installed viola-0.3.8\n"
          ],
          "name": "stdout"
        }
      ]
    },
    {
      "cell_type": "code",
      "metadata": {
        "id": "cyoA4Z9ngpBH"
      },
      "source": [
        "from fastai.vision.all import *\n",
        "from fastai.vision.widgets import *"
      ],
      "execution_count": 10,
      "outputs": []
    },
    {
      "cell_type": "code",
      "metadata": {
        "id": "1WjRXlpcgqRP"
      },
      "source": [
        "btn_upload=widgets.FileUpload()\n",
        "out_pl=widgets.Output()\n",
        "lbl_pred=widgets.Label()"
      ],
      "execution_count": 11,
      "outputs": []
    },
    {
      "cell_type": "code",
      "metadata": {
        "id": "a5K2_n6Wgroe"
      },
      "source": [
        "#Interfaz\n",
        "def on_data_change(change):\n",
        "  lbl_pred.value= ' '\n",
        "\n",
        "  img=PILImage.create(btn_upload.data[-1])\n",
        "  out_pl.clear_output()\n",
        "  with out_pl:\n",
        "    display(img.to_thumb(224,244))\n",
        "  pred, pred_idx, probs=learn_inf.predict(img)\n",
        "  resultado=\"\"\n",
        "  if pred=='1':\n",
        "    resultado='Prehistoria'\n",
        "  elif pred=='2':\n",
        "    resultado='Edad Antigua'\n",
        "  elif pred=='3':\n",
        "    resultado='Edad Media'\n",
        "  elif pred=='4':\n",
        "    resultado='Edad Moderna'\n",
        "  elif pred=='5':\n",
        "    resultado='Edad Contemporánea'\n",
        "  lbl_pred.value= f'Edad de la obra:  {resultado} ; Probabilidad: {probs[pred_idx]: .04f}'"
      ],
      "execution_count": 12,
      "outputs": []
    },
    {
      "cell_type": "code",
      "metadata": {
        "colab": {
          "base_uri": "https://localhost:8080/",
          "height": 337,
          "referenced_widgets": [
            "bfbdc80c45f74b1cb8147e5eb408203e",
            "7596b5ddfc854b38a3881f5f9e7f1131",
            "ed4379dfa2fa43ad81c46aa5bb220f8e",
            "f030efa7d6c34d38b4698aa173347a00",
            "efb4dce861784adf96ed7f63f8e9747b",
            "21e0ff913d404101af50775fc23d6300",
            "c57d1348e9fa4c3d8cdeba61a999dcd8",
            "17d04bad95a34e5ca0194aeb28087775",
            "1e00b43a185341059864e2393e530744",
            "57f9571e739d4d438833bd32a567d454",
            "a8ea7059f9ad47789f0237e273497c9d",
            "281662fae69941e0b51b52282f0e6dda",
            "e7f04ba3eb5c4454ab72006d4e376b77"
          ]
        },
        "id": "SCWTl5wxgtCG",
        "outputId": "e29b2e9f-6ce6-4034-a588-bfee97feb920"
      },
      "source": [
        "btn_upload.observe(on_data_change, names=['data'])\n",
        "display(VBox([widgets.Label('Elige una imagen de una obra'), btn_upload, out_pl, lbl_pred]))"
      ],
      "execution_count": 13,
      "outputs": [
        {
          "output_type": "display_data",
          "data": {
            "application/vnd.jupyter.widget-view+json": {
              "model_id": "bfbdc80c45f74b1cb8147e5eb408203e",
              "version_minor": 0,
              "version_major": 2
            },
            "text/plain": [
              "VBox(children=(Label(value='Elige una imagen de una obra'), FileUpload(value={}, description='Upload'), Output…"
            ]
          },
          "metadata": {
            "tags": []
          }
        },
        {
          "output_type": "display_data",
          "data": {
            "text/html": [
              ""
            ],
            "text/plain": [
              "<IPython.core.display.HTML object>"
            ]
          },
          "metadata": {
            "tags": []
          }
        }
      ]
    },
    {
      "cell_type": "markdown",
      "metadata": {
        "id": "8O_p713ahi_M"
      },
      "source": [
        "# Aplicación para edades de una obra por tipos"
      ]
    },
    {
      "cell_type": "code",
      "metadata": {
        "id": "PXQRNUODhk1b"
      },
      "source": [
        "learn_inf2 = load_learner('PKLS/tipos.pkl')"
      ],
      "execution_count": 19,
      "outputs": []
    },
    {
      "cell_type": "code",
      "metadata": {
        "id": "9Qdt2d5AhnWb"
      },
      "source": [
        "btn_upload=widgets.FileUpload()\n",
        "out_pl=widgets.Output()\n",
        "lbl_pred=widgets.Label()"
      ],
      "execution_count": 20,
      "outputs": []
    },
    {
      "cell_type": "code",
      "metadata": {
        "id": "19-0zhr7homD"
      },
      "source": [
        "#Interfaz\n",
        "def on_data_change(change):\n",
        "  lbl_pred.value= ' '\n",
        "\n",
        "  img=PILImage.create(btn_upload.data[-1])\n",
        "  out_pl.clear_output()\n",
        "  with out_pl:\n",
        "    display(img.to_thumb(224,244))\n",
        "  pred, pred_idx, probs=learn_inf2.predict(img)\n",
        "  resultado=\"\"\n",
        "  if pred=='1':\n",
        "    resultado='Restos arquitectónicos. Silleria'\n",
        "  elif pred=='2':\n",
        "    resultado='Escultura'\n",
        "  elif pred=='3':\n",
        "    resultado='Pintura'\n",
        "  elif pred=='4':\n",
        "    resultado='Dibujo'\n",
        "  elif pred=='5':\n",
        "    resultado='Grabado. Artes Gráficas'\n",
        "  elif pred=='6':\n",
        "    resultado='Cerámica'\n",
        "  elif pred=='7':\n",
        "    resultado='Vidrio y cristal'\n",
        "  elif pred=='9':\n",
        "    resultado='Orfebreria y joyeria'\n",
        "  elif pred=='10':\n",
        "    resultado='Hierros y metales'\n",
        "  elif pred=='11':\n",
        "    resultado='Armas'\n",
        "  elif pred=='12':\n",
        "    resultado='Carpinteria'\n",
        "  elif pred=='13':\n",
        "    resultado='Tejidos'\n",
        "  elif pred=='16':\n",
        "    resultado='Bordadaos y encajes'\n",
        "  elif pred=='17':\n",
        "    resultado='Cueros'\n",
        "  elif pred=='18':\n",
        "    resultado='Cesteria y fibras vegetales'\n",
        "  elif pred=='19':\n",
        "    resultado='Mosaicos'\n",
        "  elif pred=='20':\n",
        "    resultado='Glípitica'\n",
        "  elif pred=='21':\n",
        "    resultado='Industria lítica. Cantería'\n",
        "  elif pred=='22':\n",
        "    resultado='Industria ósea. Eboraria'\n",
        "  elif pred=='23':\n",
        "    resultado='Epigrafía'\n",
        "  elif pred=='24':\n",
        "    resultado='Numismática'\n",
        "  elif pred=='25':\n",
        "    resultado='Instrumentos. Aparatos. Máquinas'\n",
        "  elif pred=='26':\n",
        "    resultado='Restos órganicos'\n",
        "  elif pred=='27':\n",
        "    resultado='Malacología'\n",
        "  elif pred=='27':\n",
        "    resultado='Materiales sintéticos'\n",
        "\n",
        "  lbl_pred.value= f'Tipo de obra:  {resultado} ; Probabilidad: {probs[pred_idx]: .04f}'"
      ],
      "execution_count": 22,
      "outputs": []
    },
    {
      "cell_type": "code",
      "metadata": {
        "colab": {
          "base_uri": "https://localhost:8080/",
          "height": 337,
          "referenced_widgets": [
            "e8ad97e8187f4ce09785e0a7d1e25f15",
            "4c859d1be5434514961fee31e6a74583",
            "5bfad5816f5e475d9b7e5db23b5b959b",
            "7d8d9e177b354b24a4ac5479ae3ca976",
            "37f1916fba4c4ae9a7d744d85c517fee",
            "f8f3eaa099944b098ca51e08da0e6bce",
            "495af6b9fcee4600aeaf9589ee084430",
            "b3abce04a7924fb19aff555b0f52a066",
            "a693c42a674640b9ba655916378b3895",
            "63aefbb7fd064aa296ca6d5a63ceadbc",
            "e35aecb27c284d0889e48b2b519b788b",
            "94323c36567a47c49af2cf2b1195a728",
            "f6beb55297084606b402ad80c7d98ebc"
          ]
        },
        "id": "IkY28GFnhpmy",
        "outputId": "124c58f9-5862-44fe-db5a-17b9dd3eb8a2"
      },
      "source": [
        "btn_upload.observe(on_data_change, names=['data'])\n",
        "display(VBox([widgets.Label('Elige una imagen de una obra'), btn_upload, out_pl, lbl_pred]))"
      ],
      "execution_count": 23,
      "outputs": [
        {
          "output_type": "display_data",
          "data": {
            "application/vnd.jupyter.widget-view+json": {
              "model_id": "e8ad97e8187f4ce09785e0a7d1e25f15",
              "version_minor": 0,
              "version_major": 2
            },
            "text/plain": [
              "VBox(children=(Label(value='Elige una imagen de una obra'), FileUpload(value={}, description='Upload'), Output…"
            ]
          },
          "metadata": {
            "tags": []
          }
        },
        {
          "output_type": "display_data",
          "data": {
            "text/html": [
              ""
            ],
            "text/plain": [
              "<IPython.core.display.HTML object>"
            ]
          },
          "metadata": {
            "tags": []
          }
        }
      ]
    }
  ]
}