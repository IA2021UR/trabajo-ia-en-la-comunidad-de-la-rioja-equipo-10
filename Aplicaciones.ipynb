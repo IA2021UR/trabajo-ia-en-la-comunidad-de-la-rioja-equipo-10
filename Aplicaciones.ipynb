{
  "nbformat": 4,
  "nbformat_minor": 0,
  "metadata": {
    "colab": {
      "name": "Aplicaciones.ipynb",
      "provenance": [],
      "authorship_tag": "ABX9TyN9e7dY37L85ixM8tAGPfCw",
      "include_colab_link": true
    },
    "kernelspec": {
      "name": "python3",
      "display_name": "Python 3"
    },
    "language_info": {
      "name": "python"
    }
  },
  "cells": [
    {
      "cell_type": "markdown",
      "metadata": {
        "id": "view-in-github",
        "colab_type": "text"
      },
      "source": [
        "<a href=\"https://colab.research.google.com/github/IA2021UR/trabajo-ia-en-la-comunidad-de-la-rioja-equipo-10/blob/main/Aplicaciones.ipynb\" target=\"_parent\"><img src=\"https://colab.research.google.com/assets/colab-badge.svg\" alt=\"Open In Colab\"/></a>"
      ]
    },
    {
      "cell_type": "code",
      "metadata": {
        "id": "AfBcZ0ulg4Dd"
      },
      "source": [
        "!wget -O zippkl"
      ],
      "execution_count": null,
      "outputs": []
    },
    {
      "cell_type": "markdown",
      "metadata": {
        "id": "HHGlGVOTg0WN"
      },
      "source": [
        "# Aplicación para edades de una obra por época"
      ]
    },
    {
      "cell_type": "code",
      "metadata": {
        "id": "8-liMBv9gRww"
      },
      "source": [
        "learn_inf = load_learner('edades.pkl')"
      ],
      "execution_count": null,
      "outputs": []
    },
    {
      "cell_type": "code",
      "metadata": {
        "id": "9DDvH7T_gm4Z"
      },
      "source": [
        "pip install viola"
      ],
      "execution_count": null,
      "outputs": []
    },
    {
      "cell_type": "code",
      "metadata": {
        "id": "cyoA4Z9ngpBH"
      },
      "source": [
        "from fastai.vision.all import *\n",
        "from fastai.vision.widgets import *"
      ],
      "execution_count": null,
      "outputs": []
    },
    {
      "cell_type": "code",
      "metadata": {
        "id": "1WjRXlpcgqRP"
      },
      "source": [
        "btn_upload=widgets.FileUpload()\n",
        "out_pl=widgets.Output()\n",
        "lbl_pred=widgets.Label()"
      ],
      "execution_count": null,
      "outputs": []
    },
    {
      "cell_type": "code",
      "metadata": {
        "id": "a5K2_n6Wgroe"
      },
      "source": [
        "#Interfaz\n",
        "def on_data_change(change):\n",
        "  lbl_pred.value= ' '\n",
        "\n",
        "  img=PILImage.create(btn_upload.data[-1])\n",
        "  out_pl.clear_output()\n",
        "  with out_pl:\n",
        "    display(img.to_thumb(224,244))\n",
        "  pred, pred_idx, probs=learn_inf.predict(img)\n",
        "  resultado=\"\"\n",
        "  if pred=='1':\n",
        "    resultado='Prehistoria'\n",
        "  elif pred=='2':\n",
        "    resultado='Edad Antigua'\n",
        "  elif pred=='3':\n",
        "    resultado='Edad Media'\n",
        "  elif pred=='4':\n",
        "    resultado='Edad Moderna'\n",
        "  elif pred=='5':\n",
        "    resultado='Edad Contemporánea'\n",
        "  lbl_pred.value= f'Edad de la obra:  {resultado} ; Probabilidad: {probs[pred_idx]: .04f}'"
      ],
      "execution_count": null,
      "outputs": []
    },
    {
      "cell_type": "code",
      "metadata": {
        "id": "SCWTl5wxgtCG"
      },
      "source": [
        "btn_upload.observe(on_data_change, names=['data'])\n",
        "display(VBox([widgets.Label('Elige una imagen de una obra'), btn_upload, out_pl, lbl_pred]))"
      ],
      "execution_count": null,
      "outputs": []
    },
    {
      "cell_type": "markdown",
      "metadata": {
        "id": "8O_p713ahi_M"
      },
      "source": [
        "# Aplicación para edades de una obra por tipos"
      ]
    },
    {
      "cell_type": "code",
      "metadata": {
        "id": "PXQRNUODhk1b"
      },
      "source": [
        "learn_inf = load_learner('tipos.pkl')"
      ],
      "execution_count": null,
      "outputs": []
    },
    {
      "cell_type": "code",
      "metadata": {
        "id": "9Qdt2d5AhnWb"
      },
      "source": [
        "btn_upload=widgets.FileUpload()\n",
        "out_pl=widgets.Output()\n",
        "lbl_pred=widgets.Label()"
      ],
      "execution_count": null,
      "outputs": []
    },
    {
      "cell_type": "code",
      "metadata": {
        "id": "19-0zhr7homD"
      },
      "source": [
        "#Interfaz\n",
        "def on_data_change(change):\n",
        "  lbl_pred.value= ' '\n",
        "\n",
        "  img=PILImage.create(btn_upload.data[-1])\n",
        "  out_pl.clear_output()\n",
        "  with out_pl:\n",
        "    display(img.to_thumb(224,244))\n",
        "  pred, pred_idx, probs=learn_inf.predict(img)\n",
        "  resultado=\"\"\n",
        "  if pred=='1':\n",
        "    resultado='Restos arquitectónicos. Silleria'\n",
        "  elif pred=='2':\n",
        "    resultado='Escultura'\n",
        "  elif pred=='3':\n",
        "    resultado='Pintura'\n",
        "  elif pred=='4':\n",
        "    resultado='Dibujo'\n",
        "  elif pred=='5':\n",
        "    resultado='Grabado. Artes Gráficas'\n",
        "  elif pred=='6':\n",
        "    resultado='Cerámica'\n",
        "  elif pred=='7':\n",
        "    resultado='Vidrio y cristal'\n",
        "  elif pred=='9':\n",
        "    resultado='Orfebreria y joyeria'\n",
        "  elif pred=='10':\n",
        "    resultado='Hierros y metales'\n",
        "  elif pred=='11':\n",
        "    resultado='Armas'\n",
        "  elif pred=='12':\n",
        "    resultado='Carpinteria'\n",
        "  elif pred=='13':\n",
        "    resultado='Tejidos'\n",
        "  elif pred=='16':\n",
        "    resultado='Bordadaos y encajes'\n",
        "  elif pred=='17':\n",
        "    resultado='Cueros'\n",
        "  elif pred=='18':\n",
        "    resultado='Cesteria y fibras vegetales'\n",
        "  elif pred=='19':\n",
        "    resultado='Mosaicos'\n",
        "  elif pred=='20':\n",
        "    resultado='Glípitica'\n",
        " elif pred=='21':\n",
        "    resultado='Industria lítica. Cantería'\n",
        "  elif pred=='22':\n",
        "    resultado='Industria ósea. Eboraria'\n",
        "  elif pred=='23':\n",
        "    resultado='Epigrafía'\n",
        "  elif pred=='24':\n",
        "    resultado='Numismática'\n",
        "  elif pred=='25':\n",
        "    resultado='Instrumentos. Aparatos. Máquinas'\n",
        "  elif pred=='26':\n",
        "    resultado='Restos órganicos'\n",
        "  elif pred=='27':\n",
        "    resultado='Malacología'\n",
        "  elif pred=='27':\n",
        "    resultado='Materiales sintéticos'\n",
        "\n",
        "  lbl_pred.value= f'Tipo de obra:  {resultado} ; Probabilidad: {probs[pred_idx]: .04f}'"
      ],
      "execution_count": null,
      "outputs": []
    },
    {
      "cell_type": "code",
      "metadata": {
        "id": "IkY28GFnhpmy"
      },
      "source": [
        "btn_upload.observe(on_data_change, names=['data'])\n",
        "display(VBox([widgets.Label('Elige una imagen de una obra'), btn_upload, out_pl, lbl_pred]))"
      ],
      "execution_count": null,
      "outputs": []
    }
  ]
}